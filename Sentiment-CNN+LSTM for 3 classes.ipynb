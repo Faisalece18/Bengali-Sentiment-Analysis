{
  "cells": [
    {
      "cell_type": "markdown",
      "metadata": {
        "id": "y3KMdmjDb8Kq"
      },
      "source": [
        "## **Importing Libraries**"
      ]
    },
    {
      "cell_type": "code",
      "execution_count": 517,
      "metadata": {
        "id": "UiDq4VkUCUUJ"
      },
      "outputs": [],
      "source": [
        "import numpy as np\n",
        "import pandas as pd\n",
        "import matplotlib.pyplot as plt\n",
        "%matplotlib inline\n",
        "import seaborn as sns\n",
        "import re,json,nltk\n",
        "import tensorflow as tf\n",
        "from sklearn.preprocessing import LabelEncoder\n",
        "from sklearn.feature_extraction.text import TfidfVectorizer\n",
        "from sklearn.model_selection import train_test_split\n",
        "from sklearn.metrics import classification_report,accuracy_score,precision_score,recall_score,f1_score\n",
        "import json\n",
        "from sklearn.metrics import classification_report, confusion_matrix\n",
        "import tensorflow as tf\n",
        "import keras\n",
        "from tensorflow.keras.preprocessing.text import Tokenizer\n",
        "from tensorflow.keras.optimizers import Adamax\n",
        "from tensorflow.keras.metrics import Precision, Recall\n",
        "from tensorflow.keras.layers import Dense, ReLU\n",
        "from tensorflow.keras.layers import Embedding, BatchNormalization, Concatenate\n",
        "from tensorflow.keras.layers import Conv1D, GlobalMaxPooling1D, Dropout\n",
        "from tensorflow.keras.models import Sequential, Model\n",
        "from sklearn.preprocessing import LabelEncoder\n",
        "from tensorflow.keras.preprocessing.sequence import pad_sequences\n",
        "from keras.utils import to_categorical\n",
        "from keras.models import Sequential\n",
        "from keras.layers import LSTM,Dense,Dropout,Activation,Embedding,Flatten,Bidirectional,MaxPooling2D, Conv1D, MaxPooling1D\n",
        "from keras.optimizers import SGD,Adam\n",
        "from keras import regularizers\n"
      ]
    },
    {
      "cell_type": "code",
      "execution_count": 518,
      "metadata": {
        "colab": {
          "base_uri": "https://localhost:8080/",
          "height": 293
        },
        "id": "o5FayioHSG70",
        "outputId": "80c9cc63-8e94-4172-b0b0-0b857204260c"
      },
      "outputs": [
        {
          "data": {
            "text/html": [
              "<div>\n",
              "<style scoped>\n",
              "    .dataframe tbody tr th:only-of-type {\n",
              "        vertical-align: middle;\n",
              "    }\n",
              "\n",
              "    .dataframe tbody tr th {\n",
              "        vertical-align: top;\n",
              "    }\n",
              "\n",
              "    .dataframe thead th {\n",
              "        text-align: right;\n",
              "    }\n",
              "</style>\n",
              "<table border=\"1\" class=\"dataframe\">\n",
              "  <thead>\n",
              "    <tr style=\"text-align: right;\">\n",
              "      <th></th>\n",
              "      <th>Source</th>\n",
              "      <th>Date</th>\n",
              "      <th>Text</th>\n",
              "      <th>Category</th>\n",
              "      <th>Polarity</th>\n",
              "    </tr>\n",
              "  </thead>\n",
              "  <tbody>\n",
              "    <tr>\n",
              "      <th>0</th>\n",
              "      <td>BBC Bangla</td>\n",
              "      <td>2018-06-03 00:00:00</td>\n",
              "      <td>জয় বাংলা কাপ! তাও আবার স্বাধীনতার মাস মার্চে। ...</td>\n",
              "      <td>other</td>\n",
              "      <td>positive</td>\n",
              "    </tr>\n",
              "    <tr>\n",
              "      <th>1</th>\n",
              "      <td>BBC Bangla</td>\n",
              "      <td>2018-06-04 00:00:00</td>\n",
              "      <td>জয় বাংলা কাপ! তাও আবার স্বাধীনতার মাস মার্চে। ...</td>\n",
              "      <td>team</td>\n",
              "      <td>positive</td>\n",
              "    </tr>\n",
              "    <tr>\n",
              "      <th>2</th>\n",
              "      <td>BBC Bangla</td>\n",
              "      <td>15/6/2017</td>\n",
              "      <td>বাংলাদেশের পরে ভারতের সাপর্ট ই করি ?</td>\n",
              "      <td>team</td>\n",
              "      <td>positive</td>\n",
              "    </tr>\n",
              "    <tr>\n",
              "      <th>3</th>\n",
              "      <td>BBC Bangla</td>\n",
              "      <td>15/6/2020</td>\n",
              "      <td>সৌম্যকে বাদ দেওয়া হোক</td>\n",
              "      <td>batting</td>\n",
              "      <td>negative</td>\n",
              "    </tr>\n",
              "    <tr>\n",
              "      <th>4</th>\n",
              "      <td>BBC Bangla</td>\n",
              "      <td>27/1/2018</td>\n",
              "      <td>প্রথমটি হচ্ছে, কোচ অত:পর সাকিব,সাকিব আর সাকিবর...</td>\n",
              "      <td>team</td>\n",
              "      <td>positive</td>\n",
              "    </tr>\n",
              "  </tbody>\n",
              "</table>\n",
              "</div>"
            ],
            "text/plain": [
              "       Source                 Date  \\\n",
              "0  BBC Bangla  2018-06-03 00:00:00   \n",
              "1  BBC Bangla  2018-06-04 00:00:00   \n",
              "2  BBC Bangla            15/6/2017   \n",
              "3  BBC Bangla            15/6/2020   \n",
              "4  BBC Bangla            27/1/2018   \n",
              "\n",
              "                                                Text Category  Polarity  \n",
              "0  জয় বাংলা কাপ! তাও আবার স্বাধীনতার মাস মার্চে। ...    other  positive  \n",
              "1  জয় বাংলা কাপ! তাও আবার স্বাধীনতার মাস মার্চে। ...     team  positive  \n",
              "2               বাংলাদেশের পরে ভারতের সাপর্ট ই করি ?     team  positive  \n",
              "3                              সৌম্যকে বাদ দেওয়া হোক  batting  negative  \n",
              "4  প্রথমটি হচ্ছে, কোচ অত:পর সাকিব,সাকিব আর সাকিবর...     team  positive  "
            ]
          },
          "execution_count": 518,
          "metadata": {},
          "output_type": "execute_result"
        }
      ],
      "source": [
        "#Load dataset\n",
        "df = pd.read_excel('data.xlsx')\n",
        "\n",
        "df.head()\n"
      ]
    },
    {
      "cell_type": "code",
      "execution_count": 519,
      "metadata": {
        "colab": {
          "base_uri": "https://localhost:8080/"
        },
        "id": "IgbK3SjHOdz8",
        "outputId": "3fe14a32-109c-4db9-ba28-fca75484a390"
      },
      "outputs": [
        {
          "data": {
            "text/plain": [
              "Index(['Source', 'Date', 'Text', 'Category', 'Polarity'], dtype='object')"
            ]
          },
          "execution_count": 519,
          "metadata": {},
          "output_type": "execute_result"
        }
      ],
      "source": [
        "#Show total columns\n",
        "df.columns"
      ]
    },
    {
      "cell_type": "code",
      "execution_count": 520,
      "metadata": {
        "id": "MzhR4iQEbH7t"
      },
      "outputs": [],
      "source": [
        "#Drop the unnecessary colums\n",
        "df = df.drop(['Source', 'Date','Category'], axis=1)"
      ]
    },
    {
      "cell_type": "code",
      "execution_count": 521,
      "metadata": {
        "colab": {
          "base_uri": "https://localhost:8080/",
          "height": 206
        },
        "id": "XskBLN55T9B-",
        "outputId": "7062bdb7-04fe-4331-ceaa-cad24fd1499f"
      },
      "outputs": [
        {
          "data": {
            "text/html": [
              "<div>\n",
              "<style scoped>\n",
              "    .dataframe tbody tr th:only-of-type {\n",
              "        vertical-align: middle;\n",
              "    }\n",
              "\n",
              "    .dataframe tbody tr th {\n",
              "        vertical-align: top;\n",
              "    }\n",
              "\n",
              "    .dataframe thead th {\n",
              "        text-align: right;\n",
              "    }\n",
              "</style>\n",
              "<table border=\"1\" class=\"dataframe\">\n",
              "  <thead>\n",
              "    <tr style=\"text-align: right;\">\n",
              "      <th></th>\n",
              "      <th>Text</th>\n",
              "      <th>Polarity</th>\n",
              "    </tr>\n",
              "  </thead>\n",
              "  <tbody>\n",
              "    <tr>\n",
              "      <th>0</th>\n",
              "      <td>জয় বাংলা কাপ! তাও আবার স্বাধীনতার মাস মার্চে। ...</td>\n",
              "      <td>positive</td>\n",
              "    </tr>\n",
              "    <tr>\n",
              "      <th>1</th>\n",
              "      <td>জয় বাংলা কাপ! তাও আবার স্বাধীনতার মাস মার্চে। ...</td>\n",
              "      <td>positive</td>\n",
              "    </tr>\n",
              "    <tr>\n",
              "      <th>2</th>\n",
              "      <td>বাংলাদেশের পরে ভারতের সাপর্ট ই করি ?</td>\n",
              "      <td>positive</td>\n",
              "    </tr>\n",
              "    <tr>\n",
              "      <th>3</th>\n",
              "      <td>সৌম্যকে বাদ দেওয়া হোক</td>\n",
              "      <td>negative</td>\n",
              "    </tr>\n",
              "    <tr>\n",
              "      <th>4</th>\n",
              "      <td>প্রথমটি হচ্ছে, কোচ অত:পর সাকিব,সাকিব আর সাকিবর...</td>\n",
              "      <td>positive</td>\n",
              "    </tr>\n",
              "  </tbody>\n",
              "</table>\n",
              "</div>"
            ],
            "text/plain": [
              "                                                Text  Polarity\n",
              "0  জয় বাংলা কাপ! তাও আবার স্বাধীনতার মাস মার্চে। ...  positive\n",
              "1  জয় বাংলা কাপ! তাও আবার স্বাধীনতার মাস মার্চে। ...  positive\n",
              "2               বাংলাদেশের পরে ভারতের সাপর্ট ই করি ?  positive\n",
              "3                              সৌম্যকে বাদ দেওয়া হোক  negative\n",
              "4  প্রথমটি হচ্ছে, কোচ অত:পর সাকিব,সাকিব আর সাকিবর...  positive"
            ]
          },
          "execution_count": 521,
          "metadata": {},
          "output_type": "execute_result"
        }
      ],
      "source": [
        "df.head()\n"
      ]
    },
    {
      "cell_type": "code",
      "execution_count": 522,
      "metadata": {
        "colab": {
          "base_uri": "https://localhost:8080/",
          "height": 175
        },
        "id": "fF7VVFGWUDmM",
        "outputId": "a9f774b1-f8ce-41f4-e9bf-5b6fb8811f23"
      },
      "outputs": [
        {
          "data": {
            "text/html": [
              "<div>\n",
              "<style scoped>\n",
              "    .dataframe tbody tr th:only-of-type {\n",
              "        vertical-align: middle;\n",
              "    }\n",
              "\n",
              "    .dataframe tbody tr th {\n",
              "        vertical-align: top;\n",
              "    }\n",
              "\n",
              "    .dataframe thead th {\n",
              "        text-align: right;\n",
              "    }\n",
              "</style>\n",
              "<table border=\"1\" class=\"dataframe\">\n",
              "  <thead>\n",
              "    <tr style=\"text-align: right;\">\n",
              "      <th></th>\n",
              "      <th>Text</th>\n",
              "      <th>Polarity</th>\n",
              "    </tr>\n",
              "  </thead>\n",
              "  <tbody>\n",
              "    <tr>\n",
              "      <th>count</th>\n",
              "      <td>2979</td>\n",
              "      <td>2979</td>\n",
              "    </tr>\n",
              "    <tr>\n",
              "      <th>unique</th>\n",
              "      <td>2720</td>\n",
              "      <td>3</td>\n",
              "    </tr>\n",
              "    <tr>\n",
              "      <th>top</th>\n",
              "      <td>এই পিচে বাংলাদেশকে ৪র্থ ইনিংসে ব্যাট করতে হবে,...</td>\n",
              "      <td>negative</td>\n",
              "    </tr>\n",
              "    <tr>\n",
              "      <th>freq</th>\n",
              "      <td>4</td>\n",
              "      <td>2152</td>\n",
              "    </tr>\n",
              "  </tbody>\n",
              "</table>\n",
              "</div>"
            ],
            "text/plain": [
              "                                                     Text  Polarity\n",
              "count                                                2979      2979\n",
              "unique                                               2720         3\n",
              "top     এই পিচে বাংলাদেশকে ৪র্থ ইনিংসে ব্যাট করতে হবে,...  negative\n",
              "freq                                                    4      2152"
            ]
          },
          "execution_count": 522,
          "metadata": {},
          "output_type": "execute_result"
        }
      ],
      "source": [
        "df.describe()"
      ]
    },
    {
      "cell_type": "code",
      "execution_count": 523,
      "metadata": {
        "colab": {
          "base_uri": "https://localhost:8080/"
        },
        "id": "Ww44mPg9SGby",
        "outputId": "f4f70548-0768-49d1-813c-a1edb184b3c9"
      },
      "outputs": [
        {
          "name": "stdout",
          "output_type": "stream",
          "text": [
            "Total Reviews: 2979 \n",
            "Total Positive Reviews: 566 \n",
            "Total Negative Reviews: 2152 \n",
            "Total Neutral Reviews: 261\n"
          ]
        }
      ],
      "source": [
        "#show total numbers of pos,neg and neutral comments\n",
        "print(\"Total Reviews:\",len(df),\n",
        "      \"\\nTotal Positive Reviews:\",len(df[df.Polarity =='positive']),\n",
        "      \"\\nTotal Negative Reviews:\",len(df[df.Polarity=='negative']),\n",
        "      \"\\nTotal Neutral Reviews:\",len(df[df.Polarity =='neutral']))"
      ]
    },
    {
      "cell_type": "code",
      "execution_count": 524,
      "metadata": {
        "colab": {
          "base_uri": "https://localhost:8080/",
          "height": 430
        },
        "id": "TLj_-aVOPVx8",
        "outputId": "5a78b762-9abe-4796-c886-8904da0ee1dd"
      },
      "outputs": [
        {
          "data": {
            "image/png": "[encoded data removed]",
            "text/plain": [
              "<Figure size 640x480 with 1 Axes>"
            ]
          },
          "metadata": {},
          "output_type": "display_data"
        }
      ],
      "source": [
        "#visualize the data\n",
        "df.groupby('Polarity').size().plot(kind='barh', color=sns.palettes.mpl_palette('Dark2'))\n",
        "plt.gca().spines[['top', 'right',]].set_visible(False)"
      ]
    },
    {
      "cell_type": "code",
      "execution_count": 525,
      "metadata": {
        "colab": {
          "base_uri": "https://localhost:8080/",
          "height": 143
        },
        "id": "LIU3bSI3O93S",
        "outputId": "3866b6f5-d0f5-4238-a997-0adbc85b7ab3"
      },
      "outputs": [
        {
          "data": {
            "text/html": [
              "<style type=\"text/css\">\n",
              "#T_8fcdf_row0_col1 {\n",
              "  background-color: #3f007d;\n",
              "  color: #f1f1f1;\n",
              "}\n",
              "#T_8fcdf_row1_col1 {\n",
              "  background-color: #e9e8f2;\n",
              "  color: #000000;\n",
              "}\n",
              "#T_8fcdf_row2_col1 {\n",
              "  background-color: #fcfbfd;\n",
              "  color: #000000;\n",
              "}\n",
              "</style>\n",
              "<table id=\"T_8fcdf\">\n",
              "  <thead>\n",
              "    <tr>\n",
              "      <th class=\"blank level0\" >&nbsp;</th>\n",
              "      <th id=\"T_8fcdf_level0_col0\" class=\"col_heading level0 col0\" >Polarity</th>\n",
              "      <th id=\"T_8fcdf_level0_col1\" class=\"col_heading level0 col1\" >Text</th>\n",
              "    </tr>\n",
              "  </thead>\n",
              "  <tbody>\n",
              "    <tr>\n",
              "      <th id=\"T_8fcdf_level0_row0\" class=\"row_heading level0 row0\" >0</th>\n",
              "      <td id=\"T_8fcdf_row0_col0\" class=\"data row0 col0\" >negative</td>\n",
              "      <td id=\"T_8fcdf_row0_col1\" class=\"data row0 col1\" >2152</td>\n",
              "    </tr>\n",
              "    <tr>\n",
              "      <th id=\"T_8fcdf_level0_row1\" class=\"row_heading level0 row1\" >2</th>\n",
              "      <td id=\"T_8fcdf_row1_col0\" class=\"data row1 col0\" >positive</td>\n",
              "      <td id=\"T_8fcdf_row1_col1\" class=\"data row1 col1\" >566</td>\n",
              "    </tr>\n",
              "    <tr>\n",
              "      <th id=\"T_8fcdf_level0_row2\" class=\"row_heading level0 row2\" >1</th>\n",
              "      <td id=\"T_8fcdf_row2_col0\" class=\"data row2 col0\" >neutral</td>\n",
              "      <td id=\"T_8fcdf_row2_col1\" class=\"data row2 col1\" >261</td>\n",
              "    </tr>\n",
              "  </tbody>\n",
              "</table>\n"
            ],
            "text/plain": [
              "<pandas.io.formats.style.Styler at 0x1c293f84190>"
            ]
          },
          "execution_count": 525,
          "metadata": {},
          "output_type": "execute_result"
        }
      ],
      "source": [
        "from plotly import graph_objs as go\n",
        "temp = df.groupby('Polarity').count()['Text'].reset_index().sort_values(by='Text',ascending=False)\n",
        "temp.style.background_gradient(cmap='Purples')"
      ]
    },
    {
      "cell_type": "code",
      "execution_count": 526,
      "metadata": {
        "colab": {
          "base_uri": "https://localhost:8080/",
          "height": 206
        },
        "id": "H8VJ38MAUbz4",
        "outputId": "f4360797-1258-469e-89e3-1ba6bf8f31de"
      },
      "outputs": [
        {
          "data": {
            "text/html": [
              "<div>\n",
              "<style scoped>\n",
              "    .dataframe tbody tr th:only-of-type {\n",
              "        vertical-align: middle;\n",
              "    }\n",
              "\n",
              "    .dataframe tbody tr th {\n",
              "        vertical-align: top;\n",
              "    }\n",
              "\n",
              "    .dataframe thead th {\n",
              "        text-align: right;\n",
              "    }\n",
              "</style>\n",
              "<table border=\"1\" class=\"dataframe\">\n",
              "  <thead>\n",
              "    <tr style=\"text-align: right;\">\n",
              "      <th></th>\n",
              "      <th>Text</th>\n",
              "      <th>Polarity</th>\n",
              "    </tr>\n",
              "  </thead>\n",
              "  <tbody>\n",
              "    <tr>\n",
              "      <th>2671</th>\n",
              "      <td>মাসরাফি আর ভারতীয় লিজেন্ড জহির খাঁন এর উইকেট ই...</td>\n",
              "      <td>positive</td>\n",
              "    </tr>\n",
              "    <tr>\n",
              "      <th>538</th>\n",
              "      <td>অবহেলিত মমিনুল জন্য আজ এই টেষ্ট ড্র করতে পারলাম</td>\n",
              "      <td>positive</td>\n",
              "    </tr>\n",
              "    <tr>\n",
              "      <th>1628</th>\n",
              "      <td>বাংলাদেশের আবাল ক্রীড়া সাংবাদিক দের মাঠে নামায়...</td>\n",
              "      <td>negative</td>\n",
              "    </tr>\n",
              "    <tr>\n",
              "      <th>1412</th>\n",
              "      <td>এখন টেস্ট ও একি দশা। বাকি রইলো টি২০!</td>\n",
              "      <td>negative</td>\n",
              "    </tr>\n",
              "    <tr>\n",
              "      <th>1725</th>\n",
              "      <td>আমাদের শান্তনা দুজন বোলার ৪ উইকেট পাইছে,এটা নি...</td>\n",
              "      <td>negative</td>\n",
              "    </tr>\n",
              "  </tbody>\n",
              "</table>\n",
              "</div>"
            ],
            "text/plain": [
              "                                                   Text  Polarity\n",
              "2671  মাসরাফি আর ভারতীয় লিজেন্ড জহির খাঁন এর উইকেট ই...  positive\n",
              "538     অবহেলিত মমিনুল জন্য আজ এই টেষ্ট ড্র করতে পারলাম  positive\n",
              "1628  বাংলাদেশের আবাল ক্রীড়া সাংবাদিক দের মাঠে নামায়...  negative\n",
              "1412              এখন টেস্ট ও একি দশা। বাকি রইলো টি২০!   negative\n",
              "1725  আমাদের শান্তনা দুজন বোলার ৪ উইকেট পাইছে,এটা নি...  negative"
            ]
          },
          "execution_count": 526,
          "metadata": {},
          "output_type": "execute_result"
        }
      ],
      "source": [
        "df.sample(n=5, random_state=0)[['Text', 'Polarity']]\n"
      ]
    },
    {
      "cell_type": "code",
      "execution_count": 527,
      "metadata": {
        "colab": {
          "base_uri": "https://localhost:8080/"
        },
        "id": "xBjJWelsVtZI",
        "outputId": "8e5b93b2-6bd1-44ac-da84-4f0342583273"
      },
      "outputs": [
        {
          "name": "stdout",
          "output_type": "stream",
          "text": [
            ",আমার বাংলাদেশ জিদবে #$ @ ইনশা আল্লাহ।। \n",
            " Sentiment:--  positive \n",
            "\n",
            "ধন্যবাদ রাজ্জাককে সুযোগ দেওয়ার জন্য। \n",
            " Sentiment:--  positive \n",
            "\n",
            " আসেন এখন আমরা বাংলাদেশ টিমরে গাইলাই \n",
            " Sentiment:--  negative \n",
            "\n",
            " আরো আগে রাজ্জাকের প্রত্যাবর্তন করা দরকার ছিল \n",
            " Sentiment:--  positive \n",
            "\n"
          ]
        }
      ],
      "source": [
        "#showing some random comments and their sentiments\n",
        "sample_data = [10,100,250,650]\n",
        "for i in sample_data:\n",
        "      print(df.Text[i],'\\n','Sentiment:-- ',df.Polarity[i],'\\n')"
      ]
    },
    {
      "cell_type": "markdown",
      "metadata": {
        "id": "M9pwSQt3cFVJ"
      },
      "source": [
        "## **Data Preprocessing**"
      ]
    },
    {
      "cell_type": "code",
      "execution_count": 528,
      "metadata": {
        "id": "QYfzI_dGM2GX"
      },
      "outputs": [],
      "source": [
        "#Data Cleaning\n",
        "def process_text(Text):\n",
        "    Text = re.sub('[^\\u0980-\\u09FF]',' ',str(Text)) #removing unnecessary punctuation\n",
        "    Text = re.sub('[?.`*^()!°¢܌Ͱ̰ߒנ~×Ҡߘ:ҰߑÍ|।;!,&%\\'@#$><A-Za-z0+-9=./''\"\"_০-৯]', '', str(Text))\n",
        "    Text = re.sub(r'(\\W)(?=\\1)', '', str(Text))\n",
        "    Text = re.sub(r'https?:\\/\\/.*[\\r\\n]*', '', str(Text), flags=re.MULTILINE)\n",
        "    Text = re.sub(r'\\<a href', ' ', str(Text))\n",
        "    Text = re.sub(r'&amp;', '', str(Text))\n",
        "    Text = re.sub(r'<br />', ' ', str(Text))\n",
        "    Text = re.sub(r'\\'', ' ', str(Text))\n",
        "    Text = re.sub(r'ߑͰߑ̰ߒנ', '', str(Text))\n",
        "    Text = re.sub(r'ߎɰߎɰߎɍ', '', str(Text))\n",
        "    #pattern = re.compile(r'\\b(' + r'|'.join(stopwords.words('bengali')) + r')\\b\\s*')\n",
        "    #Text = pattern.sub('', Text)\n",
        "    return Text"
      ]
    },
    {
      "cell_type": "code",
      "execution_count": 529,
      "metadata": {
        "colab": {
          "base_uri": "https://localhost:8080/"
        },
        "id": "agbyEHk4-dFx",
        "outputId": "2bb3a5e1-0a27-40f0-bc4c-5812a1040d25"
      },
      "outputs": [
        {
          "name": "stdout",
          "output_type": "stream",
          "text": [
            "Original:\n",
            " ,আমার বাংলাদেশ জিদবে #$ @ ইনশা আল্লাহ।। \n",
            "Cleaned:\n",
            "  আমার বাংলাদেশ জিদবে ইনশা আল্লাহ  \n",
            " Textiment:--  positive \n",
            "\n",
            "Original:\n",
            " ধন্যবাদ রাজ্জাককে সুযোগ দেওয়ার জন্য। \n",
            "Cleaned:\n",
            " ধন্যবাদ রাজ্জাককে সুযোগ দেওয়ার জন্য  \n",
            " Textiment:--  positive \n",
            "\n",
            "Original:\n",
            "  আসেন এখন আমরা বাংলাদেশ টিমরে গাইলাই \n",
            "Cleaned:\n",
            "  আসেন এখন আমরা বাংলাদেশ টিমরে গাইলাই \n",
            " Textiment:--  negative \n",
            "\n"
          ]
        }
      ],
      "source": [
        "# Apply the function into the dataframe\n",
        "df['cleaned'] = df['Text'].apply(process_text)\n",
        "\n",
        "# print some cleaned reviews from the dataset\n",
        "sample_data = [10,100,250]\n",
        "for i in sample_data:\n",
        "     print('Original:\\n',df.Text[i],'\\nCleaned:\\n',\n",
        "           df.cleaned[i],'\\n','Textiment:-- ',df.Polarity[i],'\\n')"
      ]
    },
    {
      "cell_type": "markdown",
      "metadata": {
        "id": "UVpO8hfWdsAy"
      },
      "source": [
        "Removing Low-length data\n"
      ]
    },
    {
      "cell_type": "code",
      "execution_count": 530,
      "metadata": {
        "colab": {
          "base_uri": "https://localhost:8080/"
        },
        "id": "TnupOlPPJW0s",
        "outputId": "67b45dcd-363c-47fa-c5fc-bd300d7f4267"
      },
      "outputs": [
        {
          "name": "stdout",
          "output_type": "stream",
          "text": [
            "After Cleaning: \n",
            "Removed 136 Small Reviews \n",
            "Total Reviews: 2843\n"
          ]
        }
      ],
      "source": [
        "# Length of each Reveiws\n",
        "df['length'] = df['cleaned'].apply(lambda x:len(x.split()))\n",
        "# Remove the reviews with least words\n",
        "lnt=len(df)\n",
        "df = df.loc[df.length>3]\n",
        "df = df.reset_index(drop = True)\n",
        "print(\"After Cleaning:\",\"\\nRemoved {} Small Reviews\".format(lnt-len(df)),\n",
        "      \"\\nTotal Reviews:\",len(df))"
      ]
    },
    {
      "cell_type": "code",
      "execution_count": 531,
      "metadata": {
        "id": "PJ_nQWpzmNOo"
      },
      "outputs": [],
      "source": [
        "Positive_sent = df[df['Polarity']=='positive']\n",
        "Negative_sent = df[df['Polarity']=='negative']\n",
        "Neutral_sent = df[df['Polarity']=='neutral']"
      ]
    },
    {
      "cell_type": "markdown",
      "metadata": {
        "id": "L-lPi5EfdOu0"
      },
      "source": [
        "Taking only positive and Negative data"
      ]
    },
    {
      "cell_type": "code",
      "execution_count": null,
      "metadata": {
        "colab": {
          "base_uri": "https://localhost:8080/"
        },
        "id": "PwLc39pTFfq1",
        "outputId": "c61a7201-d19a-45d5-9b1c-9825baa7d39e"
      },
      "outputs": [],
      "source": []
    },
    {
      "cell_type": "code",
      "execution_count": 532,
      "metadata": {
        "colab": {
          "base_uri": "https://localhost:8080/",
          "height": 579
        },
        "id": "TB1QSds0fZEi",
        "outputId": "9799da32-0402-494d-d186-7e53f08684fb"
      },
      "outputs": [
        {
          "data": {
            "image/png": "[encoded data removed]",
            "text/plain": [
              "<Figure size 640x480 with 1 Axes>"
            ]
          },
          "metadata": {},
          "output_type": "display_data"
        }
      ],
      "source": [
        "# visualizing positive and negative data\n",
        "sns.countplot(x='Polarity', data=df, palette='viridis')\n",
        "plt.title('Count Plot of Categorical Data')\n",
        "plt.xlabel('Categories')\n",
        "plt.ylabel('Count')\n",
        "plt.show()"
      ]
    },
    {
      "cell_type": "markdown",
      "metadata": {
        "id": "5XlFQSMef5C2"
      },
      "source": [
        "Imbalance data"
      ]
    },
    {
      "cell_type": "markdown",
      "metadata": {
        "id": "HDQpUYCMg0By"
      },
      "source": [
        "## Handling Imbalancedataset"
      ]
    },
    {
      "cell_type": "code",
      "execution_count": 533,
      "metadata": {
        "id": "j3wnQZF3gtzZ"
      },
      "outputs": [],
      "source": [
        "label_encoder = LabelEncoder()\n",
        "y = label_encoder.fit_transform(df['Polarity'])"
      ]
    },
    {
      "cell_type": "code",
      "execution_count": 534,
      "metadata": {},
      "outputs": [],
      "source": [
        "df['labels']=y"
      ]
    },
    {
      "cell_type": "code",
      "execution_count": 535,
      "metadata": {},
      "outputs": [
        {
          "data": {
            "text/html": [
              "<div>\n",
              "<style scoped>\n",
              "    .dataframe tbody tr th:only-of-type {\n",
              "        vertical-align: middle;\n",
              "    }\n",
              "\n",
              "    .dataframe tbody tr th {\n",
              "        vertical-align: top;\n",
              "    }\n",
              "\n",
              "    .dataframe thead th {\n",
              "        text-align: right;\n",
              "    }\n",
              "</style>\n",
              "<table border=\"1\" class=\"dataframe\">\n",
              "  <thead>\n",
              "    <tr style=\"text-align: right;\">\n",
              "      <th></th>\n",
              "      <th>Text</th>\n",
              "      <th>Polarity</th>\n",
              "      <th>cleaned</th>\n",
              "      <th>length</th>\n",
              "      <th>labels</th>\n",
              "    </tr>\n",
              "  </thead>\n",
              "  <tbody>\n",
              "    <tr>\n",
              "      <th>0</th>\n",
              "      <td>জয় বাংলা কাপ! তাও আবার স্বাধীনতার মাস মার্চে। ...</td>\n",
              "      <td>positive</td>\n",
              "      <td>জয় বাংলা কাপ তাও আবার স্বাধীনতার মাস মার্চে যা...</td>\n",
              "      <td>17</td>\n",
              "      <td>2</td>\n",
              "    </tr>\n",
              "    <tr>\n",
              "      <th>1</th>\n",
              "      <td>জয় বাংলা কাপ! তাও আবার স্বাধীনতার মাস মার্চে। ...</td>\n",
              "      <td>positive</td>\n",
              "      <td>জয় বাংলা কাপ তাও আবার স্বাধীনতার মাস মার্চে যা...</td>\n",
              "      <td>17</td>\n",
              "      <td>2</td>\n",
              "    </tr>\n",
              "    <tr>\n",
              "      <th>2</th>\n",
              "      <td>বাংলাদেশের পরে ভারতের সাপর্ট ই করি ?</td>\n",
              "      <td>positive</td>\n",
              "      <td>বাংলাদেশের পরে ভারতের সাপর্ট ই করি</td>\n",
              "      <td>6</td>\n",
              "      <td>2</td>\n",
              "    </tr>\n",
              "    <tr>\n",
              "      <th>3</th>\n",
              "      <td>সৌম্যকে বাদ দেওয়া হোক</td>\n",
              "      <td>negative</td>\n",
              "      <td>সৌম্যকে বাদ দেওয়া হোক</td>\n",
              "      <td>4</td>\n",
              "      <td>0</td>\n",
              "    </tr>\n",
              "    <tr>\n",
              "      <th>4</th>\n",
              "      <td>প্রথমটি হচ্ছে, কোচ অত:পর সাকিব,সাকিব আর সাকিবর...</td>\n",
              "      <td>positive</td>\n",
              "      <td>প্রথমটি হচ্ছে কোচ অত পর সাকিব সাকিব আর সাকিবরে...</td>\n",
              "      <td>11</td>\n",
              "      <td>2</td>\n",
              "    </tr>\n",
              "    <tr>\n",
              "      <th>...</th>\n",
              "      <td>...</td>\n",
              "      <td>...</td>\n",
              "      <td>...</td>\n",
              "      <td>...</td>\n",
              "      <td>...</td>\n",
              "    </tr>\n",
              "    <tr>\n",
              "      <th>2838</th>\n",
              "      <td>নির্বাচকমণ্ডলী দের গালে জুতা মারা উচিত.. হালা...</td>\n",
              "      <td>negative</td>\n",
              "      <td>নির্বাচকমণ্ডলী দের গালে জুতা মারা উচিত হালার ...</td>\n",
              "      <td>23</td>\n",
              "      <td>0</td>\n",
              "    </tr>\n",
              "    <tr>\n",
              "      <th>2839</th>\n",
              "      <td>বস ভাল করবে ইটাই আশা করি,দারুন এরজন ব্যাটিং অল...</td>\n",
              "      <td>negative</td>\n",
              "      <td>বস ভাল করবে ইটাই আশা করি দারুন এরজন ব্যাটিং অল...</td>\n",
              "      <td>10</td>\n",
              "      <td>0</td>\n",
              "    </tr>\n",
              "    <tr>\n",
              "      <th>2840</th>\n",
              "      <td>বস ভাল করবে ইটাই আশা করি,দারুন এরজন ব্যাটিং অল...</td>\n",
              "      <td>negative</td>\n",
              "      <td>বস ভাল করবে ইটাই আশা করি দারুন এরজন ব্যাটিং অল...</td>\n",
              "      <td>10</td>\n",
              "      <td>0</td>\n",
              "    </tr>\n",
              "    <tr>\n",
              "      <th>2841</th>\n",
              "      <td>গুগল সার্চ করে মিনহাজের রানরেট দেখে নিন? এভারে...</td>\n",
              "      <td>negative</td>\n",
              "      <td>গুগল সার্চ করে মিনহাজের রানরেট দেখে নিন এভারেজ...</td>\n",
              "      <td>18</td>\n",
              "      <td>0</td>\n",
              "    </tr>\n",
              "    <tr>\n",
              "      <th>2842</th>\n",
              "      <td>টিম মেনেজমেন্ট থেকে শুরু করে সবাইকে গাজার পরিব...</td>\n",
              "      <td>negative</td>\n",
              "      <td>টিম মেনেজমেন্ট থেকে শুরু করে সবাইকে গাজার পরিব...</td>\n",
              "      <td>23</td>\n",
              "      <td>0</td>\n",
              "    </tr>\n",
              "  </tbody>\n",
              "</table>\n",
              "<p>2843 rows × 5 columns</p>\n",
              "</div>"
            ],
            "text/plain": [
              "                                                   Text  Polarity  \\\n",
              "0     জয় বাংলা কাপ! তাও আবার স্বাধীনতার মাস মার্চে। ...  positive   \n",
              "1     জয় বাংলা কাপ! তাও আবার স্বাধীনতার মাস মার্চে। ...  positive   \n",
              "2                  বাংলাদেশের পরে ভারতের সাপর্ট ই করি ?  positive   \n",
              "3                                 সৌম্যকে বাদ দেওয়া হোক  negative   \n",
              "4     প্রথমটি হচ্ছে, কোচ অত:পর সাকিব,সাকিব আর সাকিবর...  positive   \n",
              "...                                                 ...       ...   \n",
              "2838   নির্বাচকমণ্ডলী দের গালে জুতা মারা উচিত.. হালা...  negative   \n",
              "2839  বস ভাল করবে ইটাই আশা করি,দারুন এরজন ব্যাটিং অল...  negative   \n",
              "2840  বস ভাল করবে ইটাই আশা করি,দারুন এরজন ব্যাটিং অল...  negative   \n",
              "2841  গুগল সার্চ করে মিনহাজের রানরেট দেখে নিন? এভারে...  negative   \n",
              "2842  টিম মেনেজমেন্ট থেকে শুরু করে সবাইকে গাজার পরিব...  negative   \n",
              "\n",
              "                                                cleaned  length  labels  \n",
              "0     জয় বাংলা কাপ তাও আবার স্বাধীনতার মাস মার্চে যা...      17       2  \n",
              "1     জয় বাংলা কাপ তাও আবার স্বাধীনতার মাস মার্চে যা...      17       2  \n",
              "2                   বাংলাদেশের পরে ভারতের সাপর্ট ই করি        6       2  \n",
              "3                                 সৌম্যকে বাদ দেওয়া হোক       4       0  \n",
              "4     প্রথমটি হচ্ছে কোচ অত পর সাকিব সাকিব আর সাকিবরে...      11       2  \n",
              "...                                                 ...     ...     ...  \n",
              "2838   নির্বাচকমণ্ডলী দের গালে জুতা মারা উচিত হালার ...      23       0  \n",
              "2839  বস ভাল করবে ইটাই আশা করি দারুন এরজন ব্যাটিং অল...      10       0  \n",
              "2840  বস ভাল করবে ইটাই আশা করি দারুন এরজন ব্যাটিং অল...      10       0  \n",
              "2841  গুগল সার্চ করে মিনহাজের রানরেট দেখে নিন এভারেজ...      18       0  \n",
              "2842  টিম মেনেজমেন্ট থেকে শুরু করে সবাইকে গাজার পরিব...      23       0  \n",
              "\n",
              "[2843 rows x 5 columns]"
            ]
          },
          "execution_count": 535,
          "metadata": {},
          "output_type": "execute_result"
        }
      ],
      "source": [
        "df"
      ]
    },
    {
      "cell_type": "code",
      "execution_count": 536,
      "metadata": {},
      "outputs": [],
      "source": [
        "train1, test1 = train_test_split(df,random_state=69, test_size=0.2)\n",
        "training_cleaned = []\n",
        "testing_cleaned = []\n",
        "\n",
        "\n",
        "\n",
        "train_cleaned=train1['cleaned'].values\n",
        "train_labels=train1['labels'].values\n",
        "for i in range(train_cleaned.shape[0]): \n",
        "    #print(train_sentences[i])\n",
        "    x=str(train_cleaned[i])\n",
        "    training_cleaned.append(x)\n",
        "    \n",
        "training_cleaned=np.array(training_cleaned)\n",
        "\n",
        "\n",
        "\n",
        "\n",
        "\n",
        "test_cleaned=test1['cleaned'].values\n",
        "test_labels=test1['labels'].values\n",
        "\n",
        "for i in range(test_cleaned.shape[0]): \n",
        "    x=str(test_cleaned[i])\n",
        "    testing_cleaned.append(x)\n",
        "    \n",
        "testing_cleaned=np.array(testing_cleaned)\n",
        "\n",
        "\n",
        "train_labels=keras.utils.to_categorical(train_labels)\n",
        "\n",
        "\n",
        "test_labels=keras.utils.to_categorical(test_labels)"
      ]
    },
    {
      "cell_type": "code",
      "execution_count": 537,
      "metadata": {},
      "outputs": [
        {
          "name": "stdout",
          "output_type": "stream",
          "text": [
            "Training Set Length: 2274\n",
            "Testing Set Length: 569\n",
            "training_sentences shape: (2274,)\n",
            "testing_sentences shape: (569,)\n",
            "train_labels shape: (2274, 3)\n",
            "test_labels shape: (569, 3)\n"
          ]
        }
      ],
      "source": [
        "print(\"Training Set Length: \"+str(len(train1)))\n",
        "print(\"Testing Set Length: \"+str(len(test1)))\n",
        "print(\"training_sentences shape: \"+str(training_cleaned.shape))\n",
        "print(\"testing_sentences shape: \"+str(testing_cleaned.shape))\n",
        "print(\"train_labels shape: \"+str(train_labels.shape))\n",
        "print(\"test_labels shape: \"+str(test_labels.shape))"
      ]
    },
    {
      "cell_type": "code",
      "execution_count": 538,
      "metadata": {},
      "outputs": [
        {
          "name": "stdout",
          "output_type": "stream",
          "text": [
            "labels\n",
            "1    1651\n",
            "0    1651\n",
            "2    1651\n",
            "Name: count, dtype: int64\n"
          ]
        }
      ],
      "source": [
        "from sklearn.utils import resample\n",
        "import pandas as pd\n",
        "import numpy as np\n",
        "import keras\n",
        "\n",
        "# Assuming train1 contains the original training data\n",
        "train_combined = pd.concat([pd.DataFrame(training_cleaned), pd.DataFrame(train_labels.argmax(axis=1))], axis=1)\n",
        "train_combined.columns = ['cleaned', 'labels']\n",
        "\n",
        "# Find the size of the majority class\n",
        "majority_class_size = train_combined['labels'].value_counts().max()\n",
        "\n",
        "# Separate the classes\n",
        "class_0 = train_combined[train_combined['labels'] == 0]\n",
        "class_1 = train_combined[train_combined['labels'] == 1]\n",
        "class_2 = train_combined[train_combined['labels'] == 2]\n",
        "\n",
        "# Oversample the minority classes to match the size of the majority class\n",
        "class_1_oversampled = resample(class_1, \n",
        "                               replace=True, \n",
        "                               n_samples=majority_class_size, \n",
        "                               random_state=42)\n",
        "\n",
        "class_2_oversampled = resample(class_2, \n",
        "                               replace=True, \n",
        "                               n_samples=majority_class_size, \n",
        "                               random_state=42)\n",
        "\n",
        "# Combine the majority class with the oversampled minority classes\n",
        "train_oversampled = pd.concat([class_0, class_1_oversampled, class_2_oversampled])\n",
        "\n",
        "# Shuffle the new dataset\n",
        "train_oversampled = train_oversampled.sample(frac=1, random_state=42)\n",
        "\n",
        "# Update training data and labels\n",
        "training_cleaned = train_oversampled['cleaned'].values\n",
        "train_labels = keras.utils.to_categorical(train_oversampled['labels'].values)\n",
        "\n",
        "# Optionally, check the new class distribution\n",
        "print(train_oversampled['labels'].value_counts())\n"
      ]
    },
    {
      "cell_type": "code",
      "execution_count": null,
      "metadata": {},
      "outputs": [],
      "source": []
    },
    {
      "cell_type": "code",
      "execution_count": 539,
      "metadata": {},
      "outputs": [
        {
          "name": "stdout",
          "output_type": "stream",
          "text": [
            "Label 0: 1651 samples\n",
            "Label 1: 1651 samples\n",
            "Label 2: 1651 samples\n"
          ]
        }
      ],
      "source": [
        "import numpy as np\n",
        "\n",
        "# If train_labels is one-hot encoded, convert it back to categorical labels first:\n",
        "if train_labels.ndim == 2:  # checking if it's one-hot encoded\n",
        "    train_labels_categorical = np.argmax(train_labels, axis=1)\n",
        "else:\n",
        "    train_labels_categorical = train_labels\n",
        "\n",
        "# Get unique labels and their counts\n",
        "unique_labels, counts = np.unique(train_labels_categorical, return_counts=True)\n",
        "\n",
        "# Display the labels and their respective counts\n",
        "for label, count in zip(unique_labels, counts):\n",
        "    print(f\"Label {label}: {count} samples\")\n"
      ]
    },
    {
      "cell_type": "code",
      "execution_count": 540,
      "metadata": {},
      "outputs": [
        {
          "name": "stdout",
          "output_type": "stream",
          "text": [
            " টি টুয়েন্টিতেও বাঁশ খাবে দিন শেষে হাতুরের জয় দলের কোচ হয়েই তিনটা ট্রফি আর কি চাই \n",
            "[0. 1. 0.]\n"
          ]
        }
      ],
      "source": [
        "print(training_cleaned[1])\n",
        "print(train_labels[0])"
      ]
    },
    {
      "cell_type": "code",
      "execution_count": 541,
      "metadata": {},
      "outputs": [],
      "source": [
        "vocab_size = 25000\n",
        "embedding_dim = 300\n",
        "max_length = 100\n",
        "trunc_type='post'\n",
        "oov_tok = \"<OOV>\""
      ]
    },
    {
      "cell_type": "code",
      "execution_count": 542,
      "metadata": {},
      "outputs": [
        {
          "name": "stdout",
          "output_type": "stream",
          "text": [
            "5807\n",
            "Word index length:5807\n"
          ]
        }
      ],
      "source": [
        "tokenizer = Tokenizer(num_words = vocab_size, oov_token=oov_tok)\n",
        "tokenizer.fit_on_texts(training_cleaned)\n",
        "word_index = tokenizer.word_index\n",
        "print(len(word_index))\n",
        "print(\"Word index length:\"+str(len(tokenizer.word_index)))\n",
        "\n",
        "sequences = tokenizer.texts_to_sequences(training_cleaned)\n",
        "\n",
        "padded = pad_sequences(sequences,maxlen=max_length, truncating=trunc_type)\n",
        "\n",
        "test_sequences = tokenizer.texts_to_sequences(testing_cleaned)\n",
        "testing_padded = pad_sequences(test_sequences,maxlen=max_length)\n"
      ]
    },
    {
      "cell_type": "code",
      "execution_count": 543,
      "metadata": {},
      "outputs": [
        {
          "name": "stdout",
          "output_type": "stream",
          "text": [
            "Sentence :--> \n",
            "\n",
            "পাকিস্তান বোলিং এ সর্বকালের সেরা একটি দল যাদের কোনো তুলনা হয় না\n",
            "\n",
            "Sentence Tokenized and Converted into Sequence :--> \n",
            "\n",
            "[335, 62, 69, 295, 163, 273, 39, 945, 164, 875, 16, 2]\n",
            "\n",
            "After Padding the Sequence with padding length 100 :--> \n",
            "\n",
            "[  0   0   0   0   0   0   0   0   0   0   0   0   0   0   0   0   0   0\n",
            "   0   0   0   0   0   0   0   0   0   0   0   0   0   0   0   0   0   0\n",
            "   0   0   0   0   0   0   0   0   0   0   0   0   0   0   0   0   0   0\n",
            "   0   0   0   0   0   0   0   0   0   0   0   0   0   0   0   0   0   0\n",
            "   0   0   0   0   0   0   0   0   0   0   0   0   0   0   0   0 335  62\n",
            "  69 295 163 273  39 945 164 875  16   2]\n"
          ]
        }
      ],
      "source": [
        "print(\"Sentence :--> \\n\")\n",
        "print(training_cleaned[2]+\"\\n\")\n",
        "print(\"Sentence Tokenized and Converted into Sequence :--> \\n\")\n",
        "print(str(sequences[2])+\"\\n\")\n",
        "print(\"After Padding the Sequence with padding length 100 :--> \\n\")\n",
        "print(padded[2])"
      ]
    },
    {
      "cell_type": "code",
      "execution_count": 544,
      "metadata": {},
      "outputs": [
        {
          "name": "stdout",
          "output_type": "stream",
          "text": [
            "Padded shape(training): (4953, 100)\n",
            "Padded shape(testing): (569, 100)\n"
          ]
        }
      ],
      "source": [
        "print(\"Padded shape(training): \"+str(padded.shape))\n",
        "print(\"Padded shape(testing): \"+str(testing_padded.shape))"
      ]
    },
    {
      "cell_type": "code",
      "execution_count": 545,
      "metadata": {},
      "outputs": [
        {
          "name": "stdout",
          "output_type": "stream",
          "text": [
            "Model: \"sequential_17\"\n",
            "_________________________________________________________________\n",
            " Layer (type)                Output Shape              Param #   \n",
            "=================================================================\n",
            " embedding_17 (Embedding)    (None, 100, 300)          7500000   \n",
            "                                                                 \n",
            " conv1d_34 (Conv1D)          (None, 98, 200)           180200    \n",
            "                                                                 \n",
            " conv1d_35 (Conv1D)          (None, 96, 200)           120200    \n",
            "                                                                 \n",
            " bidirectional_34 (Bidirect  (None, 96, 128)           135680    \n",
            " ional)                                                          \n",
            "                                                                 \n",
            " dropout_17 (Dropout)        (None, 96, 128)           0         \n",
            "                                                                 \n",
            " bidirectional_35 (Bidirect  (None, 128)               98816     \n",
            " ional)                                                          \n",
            "                                                                 \n",
            " dense_68 (Dense)            (None, 50)                6450      \n",
            "                                                                 \n",
            " dense_69 (Dense)            (None, 50)                2550      \n",
            "                                                                 \n",
            " flatten_17 (Flatten)        (None, 50)                0         \n",
            "                                                                 \n",
            " dense_70 (Dense)            (None, 100)               5100      \n",
            "                                                                 \n",
            " dense_71 (Dense)            (None, 3)                 303       \n",
            "                                                                 \n",
            "=================================================================\n",
            "Total params: 8049299 (30.71 MB)\n",
            "Trainable params: 8049299 (30.71 MB)\n",
            "Non-trainable params: 0 (0.00 Byte)\n",
            "_________________________________________________________________\n"
          ]
        }
      ],
      "source": [
        "import tensorflow as tf\n",
        "from tensorflow.keras.models import Sequential\n",
        "from tensorflow.keras.layers import Embedding, Conv1D, Bidirectional, LSTM, Dropout, Dense, Flatten\n",
        "from tensorflow.keras.optimizers import Adam\n",
        "from tensorflow.keras import regularizers\n",
        "from tensorflow.keras.callbacks import EarlyStopping\n",
        "\n",
        "# Define the model with regularization and increased dropout\n",
        "with tf.device('/gpu:0'):\n",
        "    model = Sequential()\n",
        "    model.add(Embedding(vocab_size, embedding_dim, input_length=max_length))\n",
        "    model.add(Conv1D(200, kernel_size=3, activation='relu'))\n",
        "    model.add(Conv1D(200, kernel_size=3, activation='relu'))\n",
        "    model.add(Bidirectional(LSTM(64, return_sequences=True)))\n",
        "    model.add(Dropout(0.6))  # Increased dropout to 0.6\n",
        "    model.add(Bidirectional(LSTM(64)))\n",
        "    model.add(Dense(50, activation='relu'))\n",
        "    model.add(Dense(50, activation='relu'))\n",
        "    model.add(Flatten())\n",
        "    model.add(Dense(100, kernel_regularizer=regularizers.l2(0.02), activation=\"relu\"))  # Increased L2 penalty\n",
        "    model.add(Dense(3, activation='softmax'))\n",
        "\n",
        "# Compile the model with a reduced learning rate\n",
        "adam = Adam(learning_rate=0.0001, beta_1=0.9, beta_2=0.999, epsilon=1e-07)\n",
        "model.compile(loss='categorical_crossentropy', optimizer=adam, metrics=['accuracy'])\n",
        "\n",
        "# Implement early stopping to avoid overfitting\n",
        "early_stop = EarlyStopping(monitor='val_loss', patience=3, restore_best_weights=True)\n",
        "model.summary()\n",
        "\n",
        "\n"
      ]
    },
    {
      "cell_type": "code",
      "execution_count": 546,
      "metadata": {},
      "outputs": [
        {
          "name": "stdout",
          "output_type": "stream",
          "text": [
            "Epoch 1/10\n",
            "155/155 [==============================] - 30s 150ms/step - loss: 2.2835 - accuracy: 0.3438 - val_loss: 2.1107 - val_accuracy: 0.7223\n",
            "Epoch 2/10\n",
            "155/155 [==============================] - 22s 141ms/step - loss: 1.7223 - accuracy: 0.6562 - val_loss: 1.7149 - val_accuracy: 0.6872\n",
            "Epoch 3/10\n",
            "155/155 [==============================] - 22s 145ms/step - loss: 0.9812 - accuracy: 0.9328 - val_loss: 1.6424 - val_accuracy: 0.7276\n",
            "Epoch 4/10\n",
            "155/155 [==============================] - 23s 148ms/step - loss: 0.7323 - accuracy: 0.9707 - val_loss: 1.7130 - val_accuracy: 0.7680\n",
            "Epoch 5/10\n",
            "155/155 [==============================] - 23s 149ms/step - loss: 0.5987 - accuracy: 0.9756 - val_loss: 1.5597 - val_accuracy: 0.7610\n",
            "Epoch 6/10\n",
            "155/155 [==============================] - 22s 143ms/step - loss: 0.4859 - accuracy: 0.9798 - val_loss: 1.5358 - val_accuracy: 0.7540\n",
            "Epoch 7/10\n",
            "155/155 [==============================] - 22s 140ms/step - loss: 0.4001 - accuracy: 0.9814 - val_loss: 1.5197 - val_accuracy: 0.7469\n",
            "Epoch 8/10\n",
            "155/155 [==============================] - 22s 144ms/step - loss: 0.3391 - accuracy: 0.9810 - val_loss: 1.3939 - val_accuracy: 0.7522\n",
            "Epoch 9/10\n",
            "155/155 [==============================] - 22s 143ms/step - loss: 0.2809 - accuracy: 0.9816 - val_loss: 1.4157 - val_accuracy: 0.7452\n",
            "Epoch 10/10\n",
            "155/155 [==============================] - 22s 141ms/step - loss: 0.2341 - accuracy: 0.9836 - val_loss: 1.4516 - val_accuracy: 0.7417\n"
          ]
        },
        {
          "data": {
            "image/png": "[encoded data removed]",
            "text/plain": [
              "<Figure size 640x480 with 1 Axes>"
            ]
          },
          "metadata": {},
          "output_type": "display_data"
        },
        {
          "data": {
            "image/png": "[encoded data removed]",
            "text/plain": [
              "<Figure size 640x480 with 1 Axes>"
            ]
          },
          "metadata": {},
          "output_type": "display_data"
        }
      ],
      "source": [
        "# Train the model with early stopping\n",
        "history = model.fit(\n",
        "    padded, \n",
        "    train_labels, \n",
        "    epochs=10, \n",
        "    batch_size=32,\n",
        "    validation_data=(testing_padded, test_labels), \n",
        "    callbacks=[early_stop], \n",
        "    verbose=1,\n",
        "    use_multiprocessing=True, \n",
        "    workers=8\n",
        ")\n",
        "\n",
        "# Plot the accuracy and loss curves to visualize overfitting\n",
        "import matplotlib.pyplot as plt\n",
        "\n",
        "# Plot training & validation accuracy\n",
        "plt.plot(history.history['accuracy'])\n",
        "plt.plot(history.history['val_accuracy'])\n",
        "plt.title('Model Accuracy')\n",
        "plt.ylabel('Accuracy')\n",
        "plt.xlabel('Epoch')\n",
        "plt.legend(['Train', 'Validation'], loc='upper left')\n",
        "plt.show()\n",
        "\n",
        "# Plot training & validation loss\n",
        "plt.plot(history.history['loss'])\n",
        "plt.plot(history.history['val_loss'])\n",
        "plt.title('Model Loss')\n",
        "plt.ylabel('Loss')\n",
        "plt.xlabel('Epoch')\n",
        "plt.legend(['Train', 'Validation'], loc='upper left')\n",
        "plt.show()"
      ]
    },
    {
      "cell_type": "code",
      "execution_count": null,
      "metadata": {},
      "outputs": [],
      "source": []
    }
  ],
  "metadata": {
    "colab": {
      "provenance": [],
      "toc_visible": true
    },
    "kernelspec": {
      "display_name": "Python 3",
      "name": "python3"
    },
    "language_info": {
      "codemirror_mode": {
        "name": "ipython",
        "version": 3
      },
      "file_extension": ".py",
      "mimetype": "text/x-python",
      "name": "python",
      "nbconvert_exporter": "python",
      "pygments_lexer": "ipython3",
      "version": "3.11.5"
    }
  },
  "nbformat": 4,
  "nbformat_minor": 0
}
