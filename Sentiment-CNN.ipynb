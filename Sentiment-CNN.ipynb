{
  "cells": [
    {
      "cell_type": "markdown",
      "metadata": {
        "id": "y3KMdmjDb8Kq"
      },
      "source": [
        "## **Importing Libraries**"
      ]
    },
    {
      "cell_type": "code",
      "execution_count": 2,
      "metadata": {
        "id": "UiDq4VkUCUUJ"
      },
      "outputs": [],
      "source": [
        "import numpy as np\n",
        "import pandas as pd\n",
        "import matplotlib.pyplot as plt\n",
        "%matplotlib inline\n",
        "import seaborn as sns\n",
        "import re,json,nltk\n",
        "import tensorflow as tf\n",
        "from sklearn.preprocessing import LabelEncoder\n",
        "from sklearn.feature_extraction.text import TfidfVectorizer\n",
        "from sklearn.model_selection import train_test_split\n",
        "from sklearn.metrics import classification_report,accuracy_score,precision_score,recall_score,f1_score\n",
        "import json\n",
        "from sklearn.metrics import classification_report, confusion_matrix\n",
        "import tensorflow as tf\n",
        "import keras\n",
        "from tensorflow.keras.preprocessing.text import Tokenizer\n",
        "from tensorflow.keras.optimizers import Adamax\n",
        "from tensorflow.keras.metrics import Precision, Recall\n",
        "from tensorflow.keras.layers import Dense, ReLU\n",
        "from tensorflow.keras.layers import Embedding, BatchNormalization, Concatenate\n",
        "from tensorflow.keras.layers import Conv1D, GlobalMaxPooling1D, Dropout\n",
        "from tensorflow.keras.models import Sequential, Model\n",
        "from sklearn.preprocessing import LabelEncoder\n",
        "from tensorflow.keras.preprocessing.sequence import pad_sequences\n",
        "from keras.utils import to_categorical\n",
        "from keras.models import Sequential\n",
        "from keras.layers import LSTM,Dense,Dropout,Activation,Embedding,Flatten,Bidirectional,MaxPooling2D, Conv1D, MaxPooling1D\n",
        "from keras.optimizers import SGD,Adam\n",
        "from keras import regularizers\n"
      ]
    },
    {
      "cell_type": "code",
      "execution_count": 3,
      "metadata": {
        "colab": {
          "base_uri": "https://localhost:8080/",
          "height": 293
        },
        "id": "o5FayioHSG70",
        "outputId": "80c9cc63-8e94-4172-b0b0-0b857204260c"
      },
      "outputs": [
        {
          "data": {
            "text/html": [
              "<div>\n",
              "<style scoped>\n",
              "    .dataframe tbody tr th:only-of-type {\n",
              "        vertical-align: middle;\n",
              "    }\n",
              "\n",
              "    .dataframe tbody tr th {\n",
              "        vertical-align: top;\n",
              "    }\n",
              "\n",
              "    .dataframe thead th {\n",
              "        text-align: right;\n",
              "    }\n",
              "</style>\n",
              "<table border=\"1\" class=\"dataframe\">\n",
              "  <thead>\n",
              "    <tr style=\"text-align: right;\">\n",
              "      <th></th>\n",
              "      <th>Source</th>\n",
              "      <th>Date</th>\n",
              "      <th>Text</th>\n",
              "      <th>Category</th>\n",
              "      <th>Polarity</th>\n",
              "    </tr>\n",
              "  </thead>\n",
              "  <tbody>\n",
              "    <tr>\n",
              "      <th>0</th>\n",
              "      <td>BBC Bangla</td>\n",
              "      <td>2018-06-03 00:00:00</td>\n",
              "      <td>জয় বাংলা কাপ! তাও আবার স্বাধীনতার মাস মার্চে। ...</td>\n",
              "      <td>other</td>\n",
              "      <td>positive</td>\n",
              "    </tr>\n",
              "    <tr>\n",
              "      <th>1</th>\n",
              "      <td>BBC Bangla</td>\n",
              "      <td>2018-06-04 00:00:00</td>\n",
              "      <td>জয় বাংলা কাপ! তাও আবার স্বাধীনতার মাস মার্চে। ...</td>\n",
              "      <td>team</td>\n",
              "      <td>positive</td>\n",
              "    </tr>\n",
              "    <tr>\n",
              "      <th>2</th>\n",
              "      <td>BBC Bangla</td>\n",
              "      <td>15/6/2017</td>\n",
              "      <td>বাংলাদেশের পরে ভারতের সাপর্ট ই করি ?</td>\n",
              "      <td>team</td>\n",
              "      <td>positive</td>\n",
              "    </tr>\n",
              "    <tr>\n",
              "      <th>3</th>\n",
              "      <td>BBC Bangla</td>\n",
              "      <td>15/6/2020</td>\n",
              "      <td>সৌম্যকে বাদ দেওয়া হোক</td>\n",
              "      <td>batting</td>\n",
              "      <td>negative</td>\n",
              "    </tr>\n",
              "    <tr>\n",
              "      <th>4</th>\n",
              "      <td>BBC Bangla</td>\n",
              "      <td>27/1/2018</td>\n",
              "      <td>প্রথমটি হচ্ছে, কোচ অত:পর সাকিব,সাকিব আর সাকিবর...</td>\n",
              "      <td>team</td>\n",
              "      <td>positive</td>\n",
              "    </tr>\n",
              "  </tbody>\n",
              "</table>\n",
              "</div>"
            ],
            "text/plain": [
              "       Source                 Date  \\\n",
              "0  BBC Bangla  2018-06-03 00:00:00   \n",
              "1  BBC Bangla  2018-06-04 00:00:00   \n",
              "2  BBC Bangla            15/6/2017   \n",
              "3  BBC Bangla            15/6/2020   \n",
              "4  BBC Bangla            27/1/2018   \n",
              "\n",
              "                                                Text Category  Polarity  \n",
              "0  জয় বাংলা কাপ! তাও আবার স্বাধীনতার মাস মার্চে। ...    other  positive  \n",
              "1  জয় বাংলা কাপ! তাও আবার স্বাধীনতার মাস মার্চে। ...     team  positive  \n",
              "2               বাংলাদেশের পরে ভারতের সাপর্ট ই করি ?     team  positive  \n",
              "3                              সৌম্যকে বাদ দেওয়া হোক  batting  negative  \n",
              "4  প্রথমটি হচ্ছে, কোচ অত:পর সাকিব,সাকিব আর সাকিবর...     team  positive  "
            ]
          },
          "execution_count": 3,
          "metadata": {},
          "output_type": "execute_result"
        }
      ],
      "source": [
        "#Load dataset\n",
        "df = pd.read_excel('data.xlsx')\n",
        "\n",
        "df.head()\n"
      ]
    },
    {
      "cell_type": "code",
      "execution_count": 4,
      "metadata": {
        "colab": {
          "base_uri": "https://localhost:8080/"
        },
        "id": "IgbK3SjHOdz8",
        "outputId": "3fe14a32-109c-4db9-ba28-fca75484a390"
      },
      "outputs": [
        {
          "data": {
            "text/plain": [
              "Index(['Source', 'Date', 'Text', 'Category', 'Polarity'], dtype='object')"
            ]
          },
          "execution_count": 4,
          "metadata": {},
          "output_type": "execute_result"
        }
      ],
      "source": [
        "#Show total columns\n",
        "df.columns"
      ]
    },
    {
      "cell_type": "code",
      "execution_count": 5,
      "metadata": {
        "id": "MzhR4iQEbH7t"
      },
      "outputs": [],
      "source": [
        "#Drop the unnecessary colums\n",
        "df = df.drop(['Source', 'Date','Category'], axis=1)"
      ]
    },
    {
      "cell_type": "code",
      "execution_count": 6,
      "metadata": {
        "colab": {
          "base_uri": "https://localhost:8080/",
          "height": 206
        },
        "id": "XskBLN55T9B-",
        "outputId": "7062bdb7-04fe-4331-ceaa-cad24fd1499f"
      },
      "outputs": [
        {
          "data": {
            "text/html": [
              "<div>\n",
              "<style scoped>\n",
              "    .dataframe tbody tr th:only-of-type {\n",
              "        vertical-align: middle;\n",
              "    }\n",
              "\n",
              "    .dataframe tbody tr th {\n",
              "        vertical-align: top;\n",
              "    }\n",
              "\n",
              "    .dataframe thead th {\n",
              "        text-align: right;\n",
              "    }\n",
              "</style>\n",
              "<table border=\"1\" class=\"dataframe\">\n",
              "  <thead>\n",
              "    <tr style=\"text-align: right;\">\n",
              "      <th></th>\n",
              "      <th>Text</th>\n",
              "      <th>Polarity</th>\n",
              "    </tr>\n",
              "  </thead>\n",
              "  <tbody>\n",
              "    <tr>\n",
              "      <th>0</th>\n",
              "      <td>জয় বাংলা কাপ! তাও আবার স্বাধীনতার মাস মার্চে। ...</td>\n",
              "      <td>positive</td>\n",
              "    </tr>\n",
              "    <tr>\n",
              "      <th>1</th>\n",
              "      <td>জয় বাংলা কাপ! তাও আবার স্বাধীনতার মাস মার্চে। ...</td>\n",
              "      <td>positive</td>\n",
              "    </tr>\n",
              "    <tr>\n",
              "      <th>2</th>\n",
              "      <td>বাংলাদেশের পরে ভারতের সাপর্ট ই করি ?</td>\n",
              "      <td>positive</td>\n",
              "    </tr>\n",
              "    <tr>\n",
              "      <th>3</th>\n",
              "      <td>সৌম্যকে বাদ দেওয়া হোক</td>\n",
              "      <td>negative</td>\n",
              "    </tr>\n",
              "    <tr>\n",
              "      <th>4</th>\n",
              "      <td>প্রথমটি হচ্ছে, কোচ অত:পর সাকিব,সাকিব আর সাকিবর...</td>\n",
              "      <td>positive</td>\n",
              "    </tr>\n",
              "  </tbody>\n",
              "</table>\n",
              "</div>"
            ],
            "text/plain": [
              "                                                Text  Polarity\n",
              "0  জয় বাংলা কাপ! তাও আবার স্বাধীনতার মাস মার্চে। ...  positive\n",
              "1  জয় বাংলা কাপ! তাও আবার স্বাধীনতার মাস মার্চে। ...  positive\n",
              "2               বাংলাদেশের পরে ভারতের সাপর্ট ই করি ?  positive\n",
              "3                              সৌম্যকে বাদ দেওয়া হোক  negative\n",
              "4  প্রথমটি হচ্ছে, কোচ অত:পর সাকিব,সাকিব আর সাকিবর...  positive"
            ]
          },
          "execution_count": 6,
          "metadata": {},
          "output_type": "execute_result"
        }
      ],
      "source": [
        "df.head()\n"
      ]
    },
    {
      "cell_type": "code",
      "execution_count": 7,
      "metadata": {
        "colab": {
          "base_uri": "https://localhost:8080/",
          "height": 175
        },
        "id": "fF7VVFGWUDmM",
        "outputId": "a9f774b1-f8ce-41f4-e9bf-5b6fb8811f23"
      },
      "outputs": [
        {
          "data": {
            "text/html": [
              "<div>\n",
              "<style scoped>\n",
              "    .dataframe tbody tr th:only-of-type {\n",
              "        vertical-align: middle;\n",
              "    }\n",
              "\n",
              "    .dataframe tbody tr th {\n",
              "        vertical-align: top;\n",
              "    }\n",
              "\n",
              "    .dataframe thead th {\n",
              "        text-align: right;\n",
              "    }\n",
              "</style>\n",
              "<table border=\"1\" class=\"dataframe\">\n",
              "  <thead>\n",
              "    <tr style=\"text-align: right;\">\n",
              "      <th></th>\n",
              "      <th>Text</th>\n",
              "      <th>Polarity</th>\n",
              "    </tr>\n",
              "  </thead>\n",
              "  <tbody>\n",
              "    <tr>\n",
              "      <th>count</th>\n",
              "      <td>2979</td>\n",
              "      <td>2979</td>\n",
              "    </tr>\n",
              "    <tr>\n",
              "      <th>unique</th>\n",
              "      <td>2720</td>\n",
              "      <td>3</td>\n",
              "    </tr>\n",
              "    <tr>\n",
              "      <th>top</th>\n",
              "      <td>এই পিচে বাংলাদেশকে ৪র্থ ইনিংসে ব্যাট করতে হবে,...</td>\n",
              "      <td>negative</td>\n",
              "    </tr>\n",
              "    <tr>\n",
              "      <th>freq</th>\n",
              "      <td>4</td>\n",
              "      <td>2152</td>\n",
              "    </tr>\n",
              "  </tbody>\n",
              "</table>\n",
              "</div>"
            ],
            "text/plain": [
              "                                                     Text  Polarity\n",
              "count                                                2979      2979\n",
              "unique                                               2720         3\n",
              "top     এই পিচে বাংলাদেশকে ৪র্থ ইনিংসে ব্যাট করতে হবে,...  negative\n",
              "freq                                                    4      2152"
            ]
          },
          "execution_count": 7,
          "metadata": {},
          "output_type": "execute_result"
        }
      ],
      "source": [
        "df.describe()"
      ]
    },
    {
      "cell_type": "code",
      "execution_count": 8,
      "metadata": {
        "colab": {
          "base_uri": "https://localhost:8080/"
        },
        "id": "Ww44mPg9SGby",
        "outputId": "f4f70548-0768-49d1-813c-a1edb184b3c9"
      },
      "outputs": [
        {
          "name": "stdout",
          "output_type": "stream",
          "text": [
            "Total Reviews: 2979 \n",
            "Total Positive Reviews: 566 \n",
            "Total Negative Reviews: 2152 \n",
            "Total Neutral Reviews: 261\n"
          ]
        }
      ],
      "source": [
        "#show total numbers of pos,neg and neutral comments\n",
        "print(\"Total Reviews:\",len(df),\n",
        "      \"\\nTotal Positive Reviews:\",len(df[df.Polarity =='positive']),\n",
        "      \"\\nTotal Negative Reviews:\",len(df[df.Polarity=='negative']),\n",
        "      \"\\nTotal Neutral Reviews:\",len(df[df.Polarity =='neutral']))"
      ]
    },
    {
      "cell_type": "code",
      "execution_count": 9,
      "metadata": {
        "colab": {
          "base_uri": "https://localhost:8080/",
          "height": 430
        },
        "id": "TLj_-aVOPVx8",
        "outputId": "5a78b762-9abe-4796-c886-8904da0ee1dd"
      },
      "outputs": [
        {
          "data": {
            "image/png": "[encoded data removed]",
            "text/plain": [
              "<Figure size 640x480 with 1 Axes>"
            ]
          },
          "metadata": {},
          "output_type": "display_data"
        }
      ],
      "source": [
        "#visualize the data\n",
        "df.groupby('Polarity').size().plot(kind='barh', color=sns.palettes.mpl_palette('Dark2'))\n",
        "plt.gca().spines[['top', 'right',]].set_visible(False)"
      ]
    },
    {
      "cell_type": "code",
      "execution_count": 10,
      "metadata": {
        "colab": {
          "base_uri": "https://localhost:8080/",
          "height": 143
        },
        "id": "LIU3bSI3O93S",
        "outputId": "3866b6f5-d0f5-4238-a997-0adbc85b7ab3"
      },
      "outputs": [
        {
          "data": {
            "text/html": [
              "<style type=\"text/css\">\n",
              "#T_1a8d0_row0_col1 {\n",
              "  background-color: #3f007d;\n",
              "  color: #f1f1f1;\n",
              "}\n",
              "#T_1a8d0_row1_col1 {\n",
              "  background-color: #e9e8f2;\n",
              "  color: #000000;\n",
              "}\n",
              "#T_1a8d0_row2_col1 {\n",
              "  background-color: #fcfbfd;\n",
              "  color: #000000;\n",
              "}\n",
              "</style>\n",
              "<table id=\"T_1a8d0\">\n",
              "  <thead>\n",
              "    <tr>\n",
              "      <th class=\"blank level0\" >&nbsp;</th>\n",
              "      <th id=\"T_1a8d0_level0_col0\" class=\"col_heading level0 col0\" >Polarity</th>\n",
              "      <th id=\"T_1a8d0_level0_col1\" class=\"col_heading level0 col1\" >Text</th>\n",
              "    </tr>\n",
              "  </thead>\n",
              "  <tbody>\n",
              "    <tr>\n",
              "      <th id=\"T_1a8d0_level0_row0\" class=\"row_heading level0 row0\" >0</th>\n",
              "      <td id=\"T_1a8d0_row0_col0\" class=\"data row0 col0\" >negative</td>\n",
              "      <td id=\"T_1a8d0_row0_col1\" class=\"data row0 col1\" >2152</td>\n",
              "    </tr>\n",
              "    <tr>\n",
              "      <th id=\"T_1a8d0_level0_row1\" class=\"row_heading level0 row1\" >2</th>\n",
              "      <td id=\"T_1a8d0_row1_col0\" class=\"data row1 col0\" >positive</td>\n",
              "      <td id=\"T_1a8d0_row1_col1\" class=\"data row1 col1\" >566</td>\n",
              "    </tr>\n",
              "    <tr>\n",
              "      <th id=\"T_1a8d0_level0_row2\" class=\"row_heading level0 row2\" >1</th>\n",
              "      <td id=\"T_1a8d0_row2_col0\" class=\"data row2 col0\" >neutral</td>\n",
              "      <td id=\"T_1a8d0_row2_col1\" class=\"data row2 col1\" >261</td>\n",
              "    </tr>\n",
              "  </tbody>\n",
              "</table>\n"
            ],
            "text/plain": [
              "<pandas.io.formats.style.Styler at 0x1de8a1b78d0>"
            ]
          },
          "execution_count": 10,
          "metadata": {},
          "output_type": "execute_result"
        }
      ],
      "source": [
        "from plotly import graph_objs as go\n",
        "temp = df.groupby('Polarity').count()['Text'].reset_index().sort_values(by='Text',ascending=False)\n",
        "temp.style.background_gradient(cmap='Purples')"
      ]
    },
    {
      "cell_type": "code",
      "execution_count": 11,
      "metadata": {
        "colab": {
          "base_uri": "https://localhost:8080/",
          "height": 206
        },
        "id": "H8VJ38MAUbz4",
        "outputId": "f4360797-1258-469e-89e3-1ba6bf8f31de"
      },
      "outputs": [
        {
          "data": {
            "text/html": [
              "<div>\n",
              "<style scoped>\n",
              "    .dataframe tbody tr th:only-of-type {\n",
              "        vertical-align: middle;\n",
              "    }\n",
              "\n",
              "    .dataframe tbody tr th {\n",
              "        vertical-align: top;\n",
              "    }\n",
              "\n",
              "    .dataframe thead th {\n",
              "        text-align: right;\n",
              "    }\n",
              "</style>\n",
              "<table border=\"1\" class=\"dataframe\">\n",
              "  <thead>\n",
              "    <tr style=\"text-align: right;\">\n",
              "      <th></th>\n",
              "      <th>Text</th>\n",
              "      <th>Polarity</th>\n",
              "    </tr>\n",
              "  </thead>\n",
              "  <tbody>\n",
              "    <tr>\n",
              "      <th>2671</th>\n",
              "      <td>মাসরাফি আর ভারতীয় লিজেন্ড জহির খাঁন এর উইকেট ই...</td>\n",
              "      <td>positive</td>\n",
              "    </tr>\n",
              "    <tr>\n",
              "      <th>538</th>\n",
              "      <td>অবহেলিত মমিনুল জন্য আজ এই টেষ্ট ড্র করতে পারলাম</td>\n",
              "      <td>positive</td>\n",
              "    </tr>\n",
              "    <tr>\n",
              "      <th>1628</th>\n",
              "      <td>বাংলাদেশের আবাল ক্রীড়া সাংবাদিক দের মাঠে নামায়...</td>\n",
              "      <td>negative</td>\n",
              "    </tr>\n",
              "    <tr>\n",
              "      <th>1412</th>\n",
              "      <td>এখন টেস্ট ও একি দশা। বাকি রইলো টি২০!</td>\n",
              "      <td>negative</td>\n",
              "    </tr>\n",
              "    <tr>\n",
              "      <th>1725</th>\n",
              "      <td>আমাদের শান্তনা দুজন বোলার ৪ উইকেট পাইছে,এটা নি...</td>\n",
              "      <td>negative</td>\n",
              "    </tr>\n",
              "  </tbody>\n",
              "</table>\n",
              "</div>"
            ],
            "text/plain": [
              "                                                   Text  Polarity\n",
              "2671  মাসরাফি আর ভারতীয় লিজেন্ড জহির খাঁন এর উইকেট ই...  positive\n",
              "538     অবহেলিত মমিনুল জন্য আজ এই টেষ্ট ড্র করতে পারলাম  positive\n",
              "1628  বাংলাদেশের আবাল ক্রীড়া সাংবাদিক দের মাঠে নামায়...  negative\n",
              "1412              এখন টেস্ট ও একি দশা। বাকি রইলো টি২০!   negative\n",
              "1725  আমাদের শান্তনা দুজন বোলার ৪ উইকেট পাইছে,এটা নি...  negative"
            ]
          },
          "execution_count": 11,
          "metadata": {},
          "output_type": "execute_result"
        }
      ],
      "source": [
        "df.sample(n=5, random_state=0)[['Text', 'Polarity']]\n"
      ]
    },
    {
      "cell_type": "code",
      "execution_count": 12,
      "metadata": {
        "colab": {
          "base_uri": "https://localhost:8080/"
        },
        "id": "xBjJWelsVtZI",
        "outputId": "8e5b93b2-6bd1-44ac-da84-4f0342583273"
      },
      "outputs": [
        {
          "name": "stdout",
          "output_type": "stream",
          "text": [
            ",আমার বাংলাদেশ জিদবে #$ @ ইনশা আল্লাহ।। \n",
            " Sentiment:--  positive \n",
            "\n",
            "ধন্যবাদ রাজ্জাককে সুযোগ দেওয়ার জন্য। \n",
            " Sentiment:--  positive \n",
            "\n",
            " আসেন এখন আমরা বাংলাদেশ টিমরে গাইলাই \n",
            " Sentiment:--  negative \n",
            "\n",
            " আরো আগে রাজ্জাকের প্রত্যাবর্তন করা দরকার ছিল \n",
            " Sentiment:--  positive \n",
            "\n"
          ]
        }
      ],
      "source": [
        "#showing some random comments and their sentiments\n",
        "sample_data = [10,100,250,650]\n",
        "for i in sample_data:\n",
        "      print(df.Text[i],'\\n','Sentiment:-- ',df.Polarity[i],'\\n')"
      ]
    },
    {
      "cell_type": "markdown",
      "metadata": {
        "id": "M9pwSQt3cFVJ"
      },
      "source": [
        "## **Data Preprocessing**"
      ]
    },
    {
      "cell_type": "code",
      "execution_count": 13,
      "metadata": {
        "id": "QYfzI_dGM2GX"
      },
      "outputs": [],
      "source": [
        "#Data Cleaning\n",
        "def process_text(Text):\n",
        "    Text = re.sub('[^\\u0980-\\u09FF]',' ',str(Text)) #removing unnecessary punctuation\n",
        "    Text = re.sub('[?.`*^()!°¢܌Ͱ̰ߒנ~×Ҡߘ:ҰߑÍ|।;!,&%\\'@#$><A-Za-z0+-9=./''\"\"_০-৯]', '', str(Text))\n",
        "    Text = re.sub(r'(\\W)(?=\\1)', '', str(Text))\n",
        "    Text = re.sub(r'https?:\\/\\/.*[\\r\\n]*', '', str(Text), flags=re.MULTILINE)\n",
        "    Text = re.sub(r'\\<a href', ' ', str(Text))\n",
        "    Text = re.sub(r'&amp;', '', str(Text))\n",
        "    Text = re.sub(r'<br />', ' ', str(Text))\n",
        "    Text = re.sub(r'\\'', ' ', str(Text))\n",
        "    Text = re.sub(r'ߑͰߑ̰ߒנ', '', str(Text))\n",
        "    Text = re.sub(r'ߎɰߎɰߎɍ', '', str(Text))\n",
        "    #pattern = re.compile(r'\\b(' + r'|'.join(stopwords.words('bengali')) + r')\\b\\s*')\n",
        "    #Text = pattern.sub('', Text)\n",
        "    return Text"
      ]
    },
    {
      "cell_type": "code",
      "execution_count": 14,
      "metadata": {
        "colab": {
          "base_uri": "https://localhost:8080/"
        },
        "id": "agbyEHk4-dFx",
        "outputId": "2bb3a5e1-0a27-40f0-bc4c-5812a1040d25"
      },
      "outputs": [
        {
          "name": "stdout",
          "output_type": "stream",
          "text": [
            "Original:\n",
            " ,আমার বাংলাদেশ জিদবে #$ @ ইনশা আল্লাহ।। \n",
            "Cleaned:\n",
            "  আমার বাংলাদেশ জিদবে ইনশা আল্লাহ  \n",
            " Textiment:--  positive \n",
            "\n",
            "Original:\n",
            " ধন্যবাদ রাজ্জাককে সুযোগ দেওয়ার জন্য। \n",
            "Cleaned:\n",
            " ধন্যবাদ রাজ্জাককে সুযোগ দেওয়ার জন্য  \n",
            " Textiment:--  positive \n",
            "\n",
            "Original:\n",
            "  আসেন এখন আমরা বাংলাদেশ টিমরে গাইলাই \n",
            "Cleaned:\n",
            "  আসেন এখন আমরা বাংলাদেশ টিমরে গাইলাই \n",
            " Textiment:--  negative \n",
            "\n"
          ]
        }
      ],
      "source": [
        "# Apply the function into the dataframe\n",
        "df['cleaned'] = df['Text'].apply(process_text)\n",
        "\n",
        "# print some cleaned reviews from the dataset\n",
        "sample_data = [10,100,250]\n",
        "for i in sample_data:\n",
        "     print('Original:\\n',df.Text[i],'\\nCleaned:\\n',\n",
        "           df.cleaned[i],'\\n','Textiment:-- ',df.Polarity[i],'\\n')"
      ]
    },
    {
      "cell_type": "markdown",
      "metadata": {
        "id": "UVpO8hfWdsAy"
      },
      "source": [
        "Removing Low-length data\n"
      ]
    },
    {
      "cell_type": "code",
      "execution_count": 15,
      "metadata": {
        "id": "PJ_nQWpzmNOo"
      },
      "outputs": [],
      "source": [
        "Positive_sent = df[df['Polarity']=='positive']\n",
        "Negative_sent = df[df['Polarity']=='negative']\n",
        "Neutral_sent = df[df['Polarity']=='neutral']"
      ]
    },
    {
      "cell_type": "markdown",
      "metadata": {
        "id": "L-lPi5EfdOu0"
      },
      "source": [
        "Taking only positive and Negative data"
      ]
    },
    {
      "cell_type": "code",
      "execution_count": 16,
      "metadata": {
        "colab": {
          "base_uri": "https://localhost:8080/"
        },
        "id": "PwLc39pTFfq1",
        "outputId": "c61a7201-d19a-45d5-9b1c-9825baa7d39e"
      },
      "outputs": [
        {
          "data": {
            "text/plain": [
              "Polarity\n",
              "negative    2152\n",
              "positive     566\n",
              "Name: count, dtype: int64"
            ]
          },
          "execution_count": 16,
          "metadata": {},
          "output_type": "execute_result"
        }
      ],
      "source": [
        "Positive = df[df.Polarity == 'positive']\n",
        "Negative = df[df.Polarity == 'negative']\n",
        "df = pd.concat([Positive, Negative], ignore_index=True)\n",
        "df.Polarity.value_counts()"
      ]
    },
    {
      "cell_type": "code",
      "execution_count": 17,
      "metadata": {
        "colab": {
          "base_uri": "https://localhost:8080/",
          "height": 579
        },
        "id": "TB1QSds0fZEi",
        "outputId": "9799da32-0402-494d-d186-7e53f08684fb"
      },
      "outputs": [
        {
          "data": {
            "image/png": "[encoded data removed]",
            "text/plain": [
              "<Figure size 640x480 with 1 Axes>"
            ]
          },
          "metadata": {},
          "output_type": "display_data"
        }
      ],
      "source": [
        "# visualizing positive and negative data\n",
        "sns.countplot(x='Polarity', data=df, palette='viridis')\n",
        "plt.title('Count Plot of Categorical Data')\n",
        "plt.xlabel('Categories')\n",
        "plt.ylabel('Count')\n",
        "plt.show()"
      ]
    },
    {
      "cell_type": "markdown",
      "metadata": {},
      "source": [
        "#### Convert polarity into numerical value\n"
      ]
    },
    {
      "cell_type": "code",
      "execution_count": 18,
      "metadata": {},
      "outputs": [],
      "source": [
        "label_encoder = LabelEncoder()\n",
        "y = label_encoder.fit_transform(df['Polarity'])"
      ]
    },
    {
      "cell_type": "code",
      "execution_count": 19,
      "metadata": {},
      "outputs": [],
      "source": [
        "df['labels']=y"
      ]
    },
    {
      "cell_type": "code",
      "execution_count": 20,
      "metadata": {},
      "outputs": [
        {
          "data": {
            "text/html": [
              "<div>\n",
              "<style scoped>\n",
              "    .dataframe tbody tr th:only-of-type {\n",
              "        vertical-align: middle;\n",
              "    }\n",
              "\n",
              "    .dataframe tbody tr th {\n",
              "        vertical-align: top;\n",
              "    }\n",
              "\n",
              "    .dataframe thead th {\n",
              "        text-align: right;\n",
              "    }\n",
              "</style>\n",
              "<table border=\"1\" class=\"dataframe\">\n",
              "  <thead>\n",
              "    <tr style=\"text-align: right;\">\n",
              "      <th></th>\n",
              "      <th>Text</th>\n",
              "      <th>Polarity</th>\n",
              "      <th>cleaned</th>\n",
              "      <th>labels</th>\n",
              "    </tr>\n",
              "  </thead>\n",
              "  <tbody>\n",
              "    <tr>\n",
              "      <th>0</th>\n",
              "      <td>জয় বাংলা কাপ! তাও আবার স্বাধীনতার মাস মার্চে। ...</td>\n",
              "      <td>positive</td>\n",
              "      <td>জয় বাংলা কাপ তাও আবার স্বাধীনতার মাস মার্চে যা...</td>\n",
              "      <td>1</td>\n",
              "    </tr>\n",
              "    <tr>\n",
              "      <th>1</th>\n",
              "      <td>জয় বাংলা কাপ! তাও আবার স্বাধীনতার মাস মার্চে। ...</td>\n",
              "      <td>positive</td>\n",
              "      <td>জয় বাংলা কাপ তাও আবার স্বাধীনতার মাস মার্চে যা...</td>\n",
              "      <td>1</td>\n",
              "    </tr>\n",
              "    <tr>\n",
              "      <th>2</th>\n",
              "      <td>বাংলাদেশের পরে ভারতের সাপর্ট ই করি ?</td>\n",
              "      <td>positive</td>\n",
              "      <td>বাংলাদেশের পরে ভারতের সাপর্ট ই করি</td>\n",
              "      <td>1</td>\n",
              "    </tr>\n",
              "    <tr>\n",
              "      <th>3</th>\n",
              "      <td>প্রথমটি হচ্ছে, কোচ অত:পর সাকিব,সাকিব আর সাকিবর...</td>\n",
              "      <td>positive</td>\n",
              "      <td>প্রথমটি হচ্ছে কোচ অত পর সাকিব সাকিব আর সাকিবরে...</td>\n",
              "      <td>1</td>\n",
              "    </tr>\n",
              "    <tr>\n",
              "      <th>4</th>\n",
              "      <td>প্রথমটি হচ্ছে, কোচ অত:পর সাকিব,সাকিব আর সাকিবর...</td>\n",
              "      <td>positive</td>\n",
              "      <td>প্রথমটি হচ্ছে কোচ অত পর সাকিব সাকিব আর সাকিবরে...</td>\n",
              "      <td>1</td>\n",
              "    </tr>\n",
              "    <tr>\n",
              "      <th>...</th>\n",
              "      <td>...</td>\n",
              "      <td>...</td>\n",
              "      <td>...</td>\n",
              "      <td>...</td>\n",
              "    </tr>\n",
              "    <tr>\n",
              "      <th>2713</th>\n",
              "      <td>নির্বাচকমণ্ডলী দের গালে জুতা মারা উচিত.. হালা...</td>\n",
              "      <td>negative</td>\n",
              "      <td>নির্বাচকমণ্ডলী দের গালে জুতা মারা উচিত হালার ...</td>\n",
              "      <td>0</td>\n",
              "    </tr>\n",
              "    <tr>\n",
              "      <th>2714</th>\n",
              "      <td>বস ভাল করবে ইটাই আশা করি,দারুন এরজন ব্যাটিং অল...</td>\n",
              "      <td>negative</td>\n",
              "      <td>বস ভাল করবে ইটাই আশা করি দারুন এরজন ব্যাটিং অল...</td>\n",
              "      <td>0</td>\n",
              "    </tr>\n",
              "    <tr>\n",
              "      <th>2715</th>\n",
              "      <td>বস ভাল করবে ইটাই আশা করি,দারুন এরজন ব্যাটিং অল...</td>\n",
              "      <td>negative</td>\n",
              "      <td>বস ভাল করবে ইটাই আশা করি দারুন এরজন ব্যাটিং অল...</td>\n",
              "      <td>0</td>\n",
              "    </tr>\n",
              "    <tr>\n",
              "      <th>2716</th>\n",
              "      <td>গুগল সার্চ করে মিনহাজের রানরেট দেখে নিন? এভারে...</td>\n",
              "      <td>negative</td>\n",
              "      <td>গুগল সার্চ করে মিনহাজের রানরেট দেখে নিন এভারেজ...</td>\n",
              "      <td>0</td>\n",
              "    </tr>\n",
              "    <tr>\n",
              "      <th>2717</th>\n",
              "      <td>টিম মেনেজমেন্ট থেকে শুরু করে সবাইকে গাজার পরিব...</td>\n",
              "      <td>negative</td>\n",
              "      <td>টিম মেনেজমেন্ট থেকে শুরু করে সবাইকে গাজার পরিব...</td>\n",
              "      <td>0</td>\n",
              "    </tr>\n",
              "  </tbody>\n",
              "</table>\n",
              "<p>2718 rows × 4 columns</p>\n",
              "</div>"
            ],
            "text/plain": [
              "                                                   Text  Polarity  \\\n",
              "0     জয় বাংলা কাপ! তাও আবার স্বাধীনতার মাস মার্চে। ...  positive   \n",
              "1     জয় বাংলা কাপ! তাও আবার স্বাধীনতার মাস মার্চে। ...  positive   \n",
              "2                  বাংলাদেশের পরে ভারতের সাপর্ট ই করি ?  positive   \n",
              "3     প্রথমটি হচ্ছে, কোচ অত:পর সাকিব,সাকিব আর সাকিবর...  positive   \n",
              "4     প্রথমটি হচ্ছে, কোচ অত:পর সাকিব,সাকিব আর সাকিবর...  positive   \n",
              "...                                                 ...       ...   \n",
              "2713   নির্বাচকমণ্ডলী দের গালে জুতা মারা উচিত.. হালা...  negative   \n",
              "2714  বস ভাল করবে ইটাই আশা করি,দারুন এরজন ব্যাটিং অল...  negative   \n",
              "2715  বস ভাল করবে ইটাই আশা করি,দারুন এরজন ব্যাটিং অল...  negative   \n",
              "2716  গুগল সার্চ করে মিনহাজের রানরেট দেখে নিন? এভারে...  negative   \n",
              "2717  টিম মেনেজমেন্ট থেকে শুরু করে সবাইকে গাজার পরিব...  negative   \n",
              "\n",
              "                                                cleaned  labels  \n",
              "0     জয় বাংলা কাপ তাও আবার স্বাধীনতার মাস মার্চে যা...       1  \n",
              "1     জয় বাংলা কাপ তাও আবার স্বাধীনতার মাস মার্চে যা...       1  \n",
              "2                   বাংলাদেশের পরে ভারতের সাপর্ট ই করি        1  \n",
              "3     প্রথমটি হচ্ছে কোচ অত পর সাকিব সাকিব আর সাকিবরে...       1  \n",
              "4     প্রথমটি হচ্ছে কোচ অত পর সাকিব সাকিব আর সাকিবরে...       1  \n",
              "...                                                 ...     ...  \n",
              "2713   নির্বাচকমণ্ডলী দের গালে জুতা মারা উচিত হালার ...       0  \n",
              "2714  বস ভাল করবে ইটাই আশা করি দারুন এরজন ব্যাটিং অল...       0  \n",
              "2715  বস ভাল করবে ইটাই আশা করি দারুন এরজন ব্যাটিং অল...       0  \n",
              "2716  গুগল সার্চ করে মিনহাজের রানরেট দেখে নিন এভারেজ...       0  \n",
              "2717  টিম মেনেজমেন্ট থেকে শুরু করে সবাইকে গাজার পরিব...       0  \n",
              "\n",
              "[2718 rows x 4 columns]"
            ]
          },
          "execution_count": 20,
          "metadata": {},
          "output_type": "execute_result"
        }
      ],
      "source": [
        "df"
      ]
    },
    {
      "cell_type": "code",
      "execution_count": 21,
      "metadata": {},
      "outputs": [],
      "source": [
        "train1, test1 = train_test_split(df,random_state=69, test_size=0.2)\n",
        "training_cleaned = []\n",
        "testing_cleaned = []\n",
        "\n",
        "\n",
        "\n",
        "train_cleaned=train1['cleaned'].values\n",
        "train_labels=train1['labels'].values\n",
        "for i in range(train_cleaned.shape[0]): \n",
        "    #print(train_sentences[i])\n",
        "    x=str(train_cleaned[i])\n",
        "    training_cleaned.append(x)\n",
        "    \n",
        "training_cleaned=np.array(training_cleaned)\n",
        "\n",
        "\n",
        "\n",
        "\n",
        "\n",
        "test_cleaned=test1['cleaned'].values\n",
        "test_labels=test1['labels'].values\n",
        "\n",
        "for i in range(test_cleaned.shape[0]): \n",
        "    x=str(test_cleaned[i])\n",
        "    testing_cleaned.append(x)\n",
        "    \n",
        "testing_cleaned=np.array(testing_cleaned)\n",
        "\n",
        "\n",
        "train_labels=keras.utils.to_categorical(train_labels)\n",
        "\n",
        "\n",
        "test_labels=keras.utils.to_categorical(test_labels)"
      ]
    },
    {
      "cell_type": "code",
      "execution_count": 22,
      "metadata": {},
      "outputs": [
        {
          "name": "stdout",
          "output_type": "stream",
          "text": [
            "Training Set Length: 2174\n",
            "Testing Set Length: 544\n",
            "training_sentences shape: (2174,)\n",
            "testing_sentences shape: (544,)\n",
            "train_labels shape: (2174, 2)\n",
            "test_labels shape: (544, 2)\n"
          ]
        }
      ],
      "source": [
        "print(\"Training Set Length: \"+str(len(train1)))\n",
        "print(\"Testing Set Length: \"+str(len(test1)))\n",
        "print(\"training_sentences shape: \"+str(training_cleaned.shape))\n",
        "print(\"testing_sentences shape: \"+str(testing_cleaned.shape))\n",
        "print(\"train_labels shape: \"+str(train_labels.shape))\n",
        "print(\"test_labels shape: \"+str(test_labels.shape))"
      ]
    },
    {
      "cell_type": "code",
      "execution_count": 23,
      "metadata": {},
      "outputs": [],
      "source": [
        "from sklearn.utils import resample\n",
        "import pandas as pd\n",
        "\n",
        "# Combine training data and labels for resampling\n",
        "train_combined = pd.concat([pd.DataFrame(training_cleaned), pd.DataFrame(train_labels.argmax(axis=1))], axis=1)\n",
        "train_combined.columns = ['cleaned', 'labels']\n",
        "\n",
        "# Separate the majority and minority classes\n",
        "majority_class = train_combined[train_combined['labels'] == train_combined['labels'].mode()[0]]\n",
        "minority_class = train_combined[train_combined['labels'] != train_combined['labels'].mode()[0]]\n",
        "\n",
        "# Oversample the minority class\n",
        "minority_class_oversampled = resample(minority_class, \n",
        "                                      replace=True,       # Sample with replacement\n",
        "                                      n_samples=len(majority_class),  # Match majority class size\n",
        "                                      random_state=42)    # For reproducibility\n",
        "\n",
        "# Combine majority class with oversampled minority class\n",
        "train_oversampled = pd.concat([majority_class, minority_class_oversampled])\n",
        "\n",
        "# Shuffle the new dataset\n",
        "train_oversampled = train_oversampled.sample(frac=1, random_state=42)\n",
        "\n",
        "# Update training data and labels\n",
        "training_cleaned = train_oversampled['cleaned'].values\n",
        "train_labels = keras.utils.to_categorical(train_oversampled['labels'].values)\n",
        "\n"
      ]
    },
    {
      "cell_type": "code",
      "execution_count": 24,
      "metadata": {},
      "outputs": [
        {
          "name": "stdout",
          "output_type": "stream",
          "text": [
            "Label 0: 1728 samples\n",
            "Label 1: 1728 samples\n"
          ]
        }
      ],
      "source": [
        "import numpy as np\n",
        "\n",
        "# If train_labels is one-hot encoded, convert it back to categorical labels first:\n",
        "if train_labels.ndim == 2:  # checking if it's one-hot encoded\n",
        "    train_labels_categorical = np.argmax(train_labels, axis=1)\n",
        "else:\n",
        "    train_labels_categorical = train_labels\n",
        "\n",
        "# Get unique labels and their counts\n",
        "unique_labels, counts = np.unique(train_labels_categorical, return_counts=True)\n",
        "\n",
        "# Display the labels and their respective counts\n",
        "for label, count in zip(unique_labels, counts):\n",
        "    print(f\"Label {label}: {count} samples\")\n"
      ]
    },
    {
      "cell_type": "code",
      "execution_count": 25,
      "metadata": {},
      "outputs": [
        {
          "name": "stdout",
          "output_type": "stream",
          "text": [
            " পরাজয় হয়ছি করার কিছু নাই কিন্তু মাএ রানে অলআউট মানতে পারলাম না \n",
            "[0. 1.]\n"
          ]
        }
      ],
      "source": [
        "print(training_cleaned[1])\n",
        "print(train_labels[0])"
      ]
    },
    {
      "cell_type": "code",
      "execution_count": 26,
      "metadata": {},
      "outputs": [],
      "source": [
        "vocab_size = 25000\n",
        "embedding_dim = 300\n",
        "max_length = 100\n",
        "trunc_type='post'\n",
        "oov_tok = \"<OOV>\""
      ]
    },
    {
      "cell_type": "code",
      "execution_count": 27,
      "metadata": {},
      "outputs": [
        {
          "name": "stdout",
          "output_type": "stream",
          "text": [
            "5693\n",
            "Word index length:5693\n"
          ]
        }
      ],
      "source": [
        "tokenizer = Tokenizer(num_words = vocab_size, oov_token=oov_tok)\n",
        "tokenizer.fit_on_texts(training_cleaned)\n",
        "word_index = tokenizer.word_index\n",
        "print(len(word_index))\n",
        "print(\"Word index length:\"+str(len(tokenizer.word_index)))\n",
        "\n",
        "sequences = tokenizer.texts_to_sequences(training_cleaned)\n",
        "\n",
        "padded = pad_sequences(sequences,maxlen=max_length, truncating=trunc_type)\n",
        "\n",
        "test_sequences = tokenizer.texts_to_sequences(testing_cleaned)\n",
        "testing_padded = pad_sequences(test_sequences,maxlen=max_length)\n"
      ]
    },
    {
      "cell_type": "code",
      "execution_count": 28,
      "metadata": {},
      "outputs": [
        {
          "name": "stdout",
          "output_type": "stream",
          "text": [
            "Sentence :--> \n",
            "\n",
            " চাইছিল স্পিনিং উইকেট বানায়া তাদের নাজেহাল করবে \n",
            "\n",
            "Sentence Tokenized and Converted into Sequence :--> \n",
            "\n",
            "[2840, 1636, 52, 2841, 95, 2842, 169]\n",
            "\n",
            "After Padding the Sequence with padding length 100 :--> \n",
            "\n",
            "[   0    0    0    0    0    0    0    0    0    0    0    0    0    0\n",
            "    0    0    0    0    0    0    0    0    0    0    0    0    0    0\n",
            "    0    0    0    0    0    0    0    0    0    0    0    0    0    0\n",
            "    0    0    0    0    0    0    0    0    0    0    0    0    0    0\n",
            "    0    0    0    0    0    0    0    0    0    0    0    0    0    0\n",
            "    0    0    0    0    0    0    0    0    0    0    0    0    0    0\n",
            "    0    0    0    0    0    0    0    0    0 2840 1636   52 2841   95\n",
            " 2842  169]\n"
          ]
        }
      ],
      "source": [
        "print(\"Sentence :--> \\n\")\n",
        "print(training_cleaned[2]+\"\\n\")\n",
        "print(\"Sentence Tokenized and Converted into Sequence :--> \\n\")\n",
        "print(str(sequences[2])+\"\\n\")\n",
        "print(\"After Padding the Sequence with padding length 100 :--> \\n\")\n",
        "print(padded[2])"
      ]
    },
    {
      "cell_type": "code",
      "execution_count": 29,
      "metadata": {},
      "outputs": [
        {
          "name": "stdout",
          "output_type": "stream",
          "text": [
            "Padded shape(training): (3456, 100)\n",
            "Padded shape(testing): (544, 100)\n"
          ]
        }
      ],
      "source": [
        "print(\"Padded shape(training): \"+str(padded.shape))\n",
        "print(\"Padded shape(testing): \"+str(testing_padded.shape))"
      ]
    },
    {
      "cell_type": "code",
      "execution_count": 30,
      "metadata": {},
      "outputs": [],
      "source": [
        "from tensorflow.keras.layers import Embedding, Conv1D, BatchNormalization, ReLU, Dropout, GlobalMaxPooling1D, Concatenate, Dense\n",
        "from tensorflow.keras.models import Model, Sequential\n",
        "from tensorflow.keras.metrics import Precision, Recall\n",
        "from tensorflow.keras.optimizers import Adamax\n",
        "\n",
        "# Branch 1\n",
        "branch1 = Sequential()\n",
        "branch1.add(Embedding(vocab_size, embedding_dim, input_length=max_length))\n",
        "branch1.add(Conv1D(64, kernel_size=3, activation='relu'))\n",
        "branch1.add(BatchNormalization())\n",
        "branch1.add(ReLU())\n",
        "branch1.add(Dropout(0.5))\n",
        "branch1.add(GlobalMaxPooling1D())\n",
        "\n",
        "# Branch 2\n",
        "branch2 = Sequential()\n",
        "branch2.add(Embedding(vocab_size, embedding_dim, input_length=max_length))\n",
        "branch2.add(Conv1D(64, kernel_size=3, activation='relu'))\n",
        "branch2.add(BatchNormalization())\n",
        "branch2.add(ReLU())\n",
        "branch2.add(Dropout(0.5))\n",
        "branch2.add(GlobalMaxPooling1D())\n",
        "\n",
        "# Concatenate outputs from both branches\n",
        "concatenated = Concatenate()([branch1.output, branch2.output])\n",
        "\n",
        "# Add hidden layers\n",
        "hid_layer = Dense(128, activation='relu')(concatenated)\n",
        "dropout = Dropout(0.3)(hid_layer)\n",
        "output_layer = Dense(2, activation='softmax')(dropout)\n",
        "\n",
        "# Create model\n",
        "model = Model(inputs=[branch1.input, branch2.input], outputs=output_layer)\n",
        "\n",
        "\n"
      ]
    },
    {
      "cell_type": "code",
      "execution_count": 31,
      "metadata": {},
      "outputs": [
        {
          "name": "stdout",
          "output_type": "stream",
          "text": [
            "Model: \"model\"\n",
            "__________________________________________________________________________________________________\n",
            " Layer (type)                Output Shape                 Param #   Connected to                  \n",
            "==================================================================================================\n",
            " embedding_input (InputLaye  [(None, 100)]                0         []                            \n",
            " r)                                                                                               \n",
            "                                                                                                  \n",
            " embedding_1_input (InputLa  [(None, 100)]                0         []                            \n",
            " yer)                                                                                             \n",
            "                                                                                                  \n",
            " embedding (Embedding)       (None, 100, 300)             7500000   ['embedding_input[0][0]']     \n",
            "                                                                                                  \n",
            " embedding_1 (Embedding)     (None, 100, 300)             7500000   ['embedding_1_input[0][0]']   \n",
            "                                                                                                  \n",
            " conv1d (Conv1D)             (None, 98, 64)               57664     ['embedding[0][0]']           \n",
            "                                                                                                  \n",
            " conv1d_1 (Conv1D)           (None, 98, 64)               57664     ['embedding_1[0][0]']         \n",
            "                                                                                                  \n",
            " batch_normalization (Batch  (None, 98, 64)               256       ['conv1d[0][0]']              \n",
            " Normalization)                                                                                   \n",
            "                                                                                                  \n",
            " batch_normalization_1 (Bat  (None, 98, 64)               256       ['conv1d_1[0][0]']            \n",
            " chNormalization)                                                                                 \n",
            "                                                                                                  \n",
            " re_lu (ReLU)                (None, 98, 64)               0         ['batch_normalization[0][0]'] \n",
            "                                                                                                  \n",
            " re_lu_1 (ReLU)              (None, 98, 64)               0         ['batch_normalization_1[0][0]'\n",
            "                                                                    ]                             \n",
            "                                                                                                  \n",
            " dropout (Dropout)           (None, 98, 64)               0         ['re_lu[0][0]']               \n",
            "                                                                                                  \n",
            " dropout_1 (Dropout)         (None, 98, 64)               0         ['re_lu_1[0][0]']             \n",
            "                                                                                                  \n",
            " global_max_pooling1d (Glob  (None, 64)                   0         ['dropout[0][0]']             \n",
            " alMaxPooling1D)                                                                                  \n",
            "                                                                                                  \n",
            " global_max_pooling1d_1 (Gl  (None, 64)                   0         ['dropout_1[0][0]']           \n",
            " obalMaxPooling1D)                                                                                \n",
            "                                                                                                  \n",
            " concatenate (Concatenate)   (None, 128)                  0         ['global_max_pooling1d[0][0]',\n",
            "                                                                     'global_max_pooling1d_1[0][0]\n",
            "                                                                    ']                            \n",
            "                                                                                                  \n",
            " dense (Dense)               (None, 128)                  16512     ['concatenate[0][0]']         \n",
            "                                                                                                  \n",
            " dropout_2 (Dropout)         (None, 128)                  0         ['dense[0][0]']               \n",
            "                                                                                                  \n",
            " dense_1 (Dense)             (None, 2)                    258       ['dropout_2[0][0]']           \n",
            "                                                                                                  \n",
            "==================================================================================================\n",
            "Total params: 15132610 (57.73 MB)\n",
            "Trainable params: 15132354 (57.73 MB)\n",
            "Non-trainable params: 256 (1.00 KB)\n",
            "__________________________________________________________________________________________________\n"
          ]
        }
      ],
      "source": [
        "# Compile model\n",
        "model.compile(optimizer=Adamax(),\n",
        "              loss='categorical_crossentropy',\n",
        "              metrics=['accuracy', Precision(), Recall()])\n",
        "\n",
        "model.summary()\n",
        "\n"
      ]
    },
    {
      "cell_type": "code",
      "execution_count": 32,
      "metadata": {},
      "outputs": [
        {
          "name": "stdout",
          "output_type": "stream",
          "text": [
            "Epoch 1/10\n",
            "WARNING:tensorflow:From C:\\Users\\raquib\\AppData\\Roaming\\Python\\Python311\\site-packages\\keras\\src\\utils\\tf_utils.py:492: The name tf.ragged.RaggedTensorValue is deprecated. Please use tf.compat.v1.ragged.RaggedTensorValue instead.\n",
            "\n",
            "WARNING:tensorflow:From C:\\Users\\raquib\\AppData\\Roaming\\Python\\Python311\\site-packages\\keras\\src\\engine\\base_layer_utils.py:384: The name tf.executing_eagerly_outside_functions is deprecated. Please use tf.compat.v1.executing_eagerly_outside_functions instead.\n",
            "\n",
            "108/108 [==============================] - 18s 145ms/step - loss: 0.6956 - accuracy: 0.6820 - precision: 0.6820 - recall: 0.6820 - val_loss: 0.6753 - val_accuracy: 0.7574 - val_precision: 0.7574 - val_recall: 0.7574\n",
            "Epoch 2/10\n",
            "108/108 [==============================] - 15s 141ms/step - loss: 0.3014 - accuracy: 0.8782 - precision: 0.8782 - recall: 0.8782 - val_loss: 0.6399 - val_accuracy: 0.7794 - val_precision: 0.7794 - val_recall: 0.7794\n",
            "Epoch 3/10\n",
            "108/108 [==============================] - 16s 147ms/step - loss: 0.1850 - accuracy: 0.9288 - precision: 0.9288 - recall: 0.9288 - val_loss: 0.5847 - val_accuracy: 0.8107 - val_precision: 0.8107 - val_recall: 0.8107\n",
            "Epoch 4/10\n",
            "108/108 [==============================] - 16s 148ms/step - loss: 0.1359 - accuracy: 0.9554 - precision: 0.9554 - recall: 0.9554 - val_loss: 0.4945 - val_accuracy: 0.8272 - val_precision: 0.8272 - val_recall: 0.8272\n",
            "Epoch 5/10\n",
            "108/108 [==============================] - 16s 145ms/step - loss: 0.1059 - accuracy: 0.9627 - precision: 0.9627 - recall: 0.9627 - val_loss: 0.4326 - val_accuracy: 0.8180 - val_precision: 0.8180 - val_recall: 0.8180\n",
            "Epoch 6/10\n",
            "108/108 [==============================] - 16s 148ms/step - loss: 0.0963 - accuracy: 0.9708 - precision: 0.9708 - recall: 0.9708 - val_loss: 0.3934 - val_accuracy: 0.8254 - val_precision: 0.8254 - val_recall: 0.8254\n",
            "Epoch 7/10\n",
            "108/108 [==============================] - 16s 144ms/step - loss: 0.0856 - accuracy: 0.9792 - precision: 0.9792 - recall: 0.9792 - val_loss: 0.4205 - val_accuracy: 0.8217 - val_precision: 0.8217 - val_recall: 0.8217\n",
            "Epoch 8/10\n",
            "108/108 [==============================] - 15s 143ms/step - loss: 0.0723 - accuracy: 0.9774 - precision: 0.9774 - recall: 0.9774 - val_loss: 0.4538 - val_accuracy: 0.8290 - val_precision: 0.8290 - val_recall: 0.8290\n",
            "Epoch 9/10\n",
            "108/108 [==============================] - 16s 150ms/step - loss: 0.0720 - accuracy: 0.9818 - precision: 0.9818 - recall: 0.9818 - val_loss: 0.4432 - val_accuracy: 0.8309 - val_precision: 0.8309 - val_recall: 0.8309\n",
            "Epoch 10/10\n",
            "108/108 [==============================] - 16s 147ms/step - loss: 0.0537 - accuracy: 0.9844 - precision: 0.9844 - recall: 0.9844 - val_loss: 0.4658 - val_accuracy: 0.8327 - val_precision: 0.8327 - val_recall: 0.8327\n"
          ]
        }
      ],
      "source": [
        "# Assuming padded is used for both branches\n",
        "# Fit model with two inputs (duplicating padded for both branches if needed)\n",
        "history = model.fit(\n",
        "    [padded, padded],  # passing the same input to both branches\n",
        "    train_labels, \n",
        "    epochs=10, \n",
        "    batch_size=32,\n",
        "    validation_data=([testing_padded, testing_padded], test_labels), \n",
        "    verbose=1,\n",
        "    use_multiprocessing=True, \n",
        "    workers=8\n",
        ")"
      ]
    },
    {
      "cell_type": "code",
      "execution_count": 33,
      "metadata": {},
      "outputs": [
        {
          "data": {
            "image/png": "[encoded data removed]",
            "text/plain": [
              "<Figure size 640x480 with 1 Axes>"
            ]
          },
          "metadata": {},
          "output_type": "display_data"
        },
        {
          "data": {
            "image/png": "[encoded data removed]",
            "text/plain": [
              "<Figure size 640x480 with 1 Axes>"
            ]
          },
          "metadata": {},
          "output_type": "display_data"
        }
      ],
      "source": [
        "# Plot the accuracy and loss curves to visualize overfitting\n",
        "import matplotlib.pyplot as plt\n",
        "\n",
        "# Plot training & validation accuracy\n",
        "plt.plot(history.history['accuracy'])\n",
        "plt.plot(history.history['val_accuracy'])\n",
        "plt.title('Model Accuracy')\n",
        "plt.ylabel('Accuracy')\n",
        "plt.xlabel('Epoch')\n",
        "plt.legend(['Train', 'Validation'], loc='upper left')\n",
        "plt.show()\n",
        "\n",
        "# Plot training & validation loss\n",
        "plt.plot(history.history['loss'])\n",
        "plt.plot(history.history['val_loss'])\n",
        "plt.title('Model Loss')\n",
        "plt.ylabel('Loss')\n",
        "plt.xlabel('Epoch')\n",
        "plt.legend(['Train', 'Validation'], loc='upper left')\n",
        "plt.show()"
      ]
    },
    {
      "cell_type": "code",
      "execution_count": 34,
      "metadata": {},
      "outputs": [
        {
          "name": "stdout",
          "output_type": "stream",
          "text": [
            "17/17 [==============================] - 0s 4ms/step\n",
            "Confusion Matrix:\n",
            "[[380  44]\n",
            " [ 47  73]]\n"
          ]
        },
        {
          "data": {
            "image/png": "[encoded data removed]",
            "text/plain": [
              "<Figure size 600x400 with 2 Axes>"
            ]
          },
          "metadata": {},
          "output_type": "display_data"
        }
      ],
      "source": [
        "from sklearn.metrics import confusion_matrix\n",
        "import seaborn as sns\n",
        "import matplotlib.pyplot as plt\n",
        "import numpy as np\n",
        "\n",
        "# Step 1: Make predictions on the test set\n",
        "y_pred_prob = model.predict([testing_padded, testing_padded])  # Pass both inputs for the model\n",
        "y_pred_labels = np.argmax(y_pred_prob, axis=1)  # Convert probabilities to class labels\n",
        "\n",
        "# Step 2: Convert one-hot encoded `test_labels` back to class labels (if necessary)\n",
        "y_test_labels = np.argmax(test_labels, axis=1)\n",
        "\n",
        "# Step 3: Generate confusion matrix\n",
        "conf_matrix = confusion_matrix(y_test_labels, y_pred_labels)\n",
        "\n",
        "# Print the confusion matrix\n",
        "print(\"Confusion Matrix:\")\n",
        "print(conf_matrix)\n",
        "\n",
        "# Step 4 (Optional): Visualize the confusion matrix using a heatmap\n",
        "plt.figure(figsize=(6, 4))\n",
        "sns.heatmap(conf_matrix, annot=True, fmt='d', cmap='Blues', xticklabels=['Class_0', 'Class_1'], yticklabels=['Class_0', 'Class_1'])\n",
        "plt.xlabel('Predicted')\n",
        "plt.ylabel('Actual')\n",
        "plt.title('Confusion Matrix')\n",
        "plt.show()\n"
      ]
    },
    {
      "cell_type": "code",
      "execution_count": 41,
      "metadata": {},
      "outputs": [
        {
          "name": "stdout",
          "output_type": "stream",
          "text": [
            "Model: \"model_2\"\n",
            "__________________________________________________________________________________________________\n",
            " Layer (type)                Output Shape                 Param #   Connected to                  \n",
            "==================================================================================================\n",
            " embedding_8_input (InputLa  [(None, 100)]                0         []                            \n",
            " yer)                                                                                             \n",
            "                                                                                                  \n",
            " embedding_9_input (InputLa  [(None, 100)]                0         []                            \n",
            " yer)                                                                                             \n",
            "                                                                                                  \n",
            " embedding_8 (Embedding)     (None, 100, 300)             7500000   ['embedding_8_input[0][0]']   \n",
            "                                                                                                  \n",
            " embedding_9 (Embedding)     (None, 100, 300)             7500000   ['embedding_9_input[0][0]']   \n",
            "                                                                                                  \n",
            " conv1d_14 (Conv1D)          (None, 98, 64)               57664     ['embedding_8[0][0]']         \n",
            "                                                                                                  \n",
            " conv1d_16 (Conv1D)          (None, 98, 64)               57664     ['embedding_9[0][0]']         \n",
            "                                                                                                  \n",
            " conv1d_15 (Conv1D)          (None, 96, 64)               12352     ['conv1d_14[0][0]']           \n",
            "                                                                                                  \n",
            " conv1d_17 (Conv1D)          (None, 96, 64)               12352     ['conv1d_16[0][0]']           \n",
            "                                                                                                  \n",
            " batch_normalization_6 (Bat  (None, 96, 64)               256       ['conv1d_15[0][0]']           \n",
            " chNormalization)                                                                                 \n",
            "                                                                                                  \n",
            " batch_normalization_7 (Bat  (None, 96, 64)               256       ['conv1d_17[0][0]']           \n",
            " chNormalization)                                                                                 \n",
            "                                                                                                  \n",
            " re_lu_6 (ReLU)              (None, 96, 64)               0         ['batch_normalization_6[0][0]'\n",
            "                                                                    ]                             \n",
            "                                                                                                  \n",
            " re_lu_7 (ReLU)              (None, 96, 64)               0         ['batch_normalization_7[0][0]'\n",
            "                                                                    ]                             \n",
            "                                                                                                  \n",
            " dropout_8 (Dropout)         (None, 96, 64)               0         ['re_lu_6[0][0]']             \n",
            "                                                                                                  \n",
            " dropout_9 (Dropout)         (None, 96, 64)               0         ['re_lu_7[0][0]']             \n",
            "                                                                                                  \n",
            " global_max_pooling1d_6 (Gl  (None, 64)                   0         ['dropout_8[0][0]']           \n",
            " obalMaxPooling1D)                                                                                \n",
            "                                                                                                  \n",
            " global_max_pooling1d_7 (Gl  (None, 64)                   0         ['dropout_9[0][0]']           \n",
            " obalMaxPooling1D)                                                                                \n",
            "                                                                                                  \n",
            " concatenate_2 (Concatenate  (None, 128)                  0         ['global_max_pooling1d_6[0][0]\n",
            " )                                                                  ',                            \n",
            "                                                                     'global_max_pooling1d_7[0][0]\n",
            "                                                                    ']                            \n",
            "                                                                                                  \n",
            " dense_4 (Dense)             (None, 128)                  16512     ['concatenate_2[0][0]']       \n",
            "                                                                                                  \n",
            " dropout_10 (Dropout)        (None, 128)                  0         ['dense_4[0][0]']             \n",
            "                                                                                                  \n",
            " dense_5 (Dense)             (None, 2)                    258       ['dropout_10[0][0]']          \n",
            "                                                                                                  \n",
            "==================================================================================================\n",
            "Total params: 15157314 (57.82 MB)\n",
            "Trainable params: 15157058 (57.82 MB)\n",
            "Non-trainable params: 256 (1.00 KB)\n",
            "__________________________________________________________________________________________________\n"
          ]
        }
      ],
      "source": [
        "from tensorflow.keras.layers import Embedding, Conv1D, BatchNormalization, ReLU, Dropout, GlobalMaxPooling1D, Concatenate, Dense\n",
        "from tensorflow.keras.models import Model, Sequential\n",
        "\n",
        "# Branch 1\n",
        "branch1 = Sequential()\n",
        "branch1.add(Embedding(vocab_size, embedding_dim, input_length=max_length))\n",
        "branch1.add(Conv1D(64, kernel_size=3, activation='relu'))\n",
        "branch1.add(Conv1D(64, kernel_size=3, activation='relu'))  \n",
        "branch1.add(BatchNormalization())\n",
        "branch1.add(ReLU())\n",
        "branch1.add(Dropout(0.5))\n",
        "branch1.add(GlobalMaxPooling1D())\n",
        "\n",
        "# Branch 2\n",
        "branch2 = Sequential()\n",
        "branch2.add(Embedding(vocab_size, embedding_dim, input_length=max_length))\n",
        "branch2.add(Conv1D(64, kernel_size=3, activation='relu'))\n",
        "branch2.add(Conv1D(64, kernel_size=3, activation='relu'))  \n",
        "branch2.add(BatchNormalization())\n",
        "branch2.add(ReLU())\n",
        "branch2.add(Dropout(0.5))\n",
        "branch2.add(GlobalMaxPooling1D())\n",
        "\n",
        "# Concatenate outputs from both branches\n",
        "concatenated = Concatenate()([branch1.output, branch2.output])\n",
        "\n",
        "# Add hidden layers\n",
        "hid_layer = Dense(128, activation='relu')(concatenated)\n",
        "dropout = Dropout(0.3)(hid_layer)\n",
        "output_layer = Dense(2, activation='softmax')(dropout)\n",
        "\n",
        "# Create model\n",
        "model = Model(inputs=[branch1.input, branch2.input], outputs=output_layer)\n",
        "\n",
        "# Model summary\n",
        "model.summary()\n"
      ]
    },
    {
      "cell_type": "code",
      "execution_count": 42,
      "metadata": {},
      "outputs": [],
      "source": [
        "# Compile model\n",
        "model.compile(optimizer=Adamax(),\n",
        "              loss='categorical_crossentropy',\n",
        "              metrics=['accuracy', Precision(), Recall()])"
      ]
    },
    {
      "cell_type": "code",
      "execution_count": 43,
      "metadata": {},
      "outputs": [
        {
          "name": "stdout",
          "output_type": "stream",
          "text": [
            "Epoch 1/10\n",
            "108/108 [==============================] - 18s 150ms/step - loss: 0.5958 - accuracy: 0.6820 - precision_2: 0.6820 - recall_2: 0.6820 - val_loss: 0.6878 - val_accuracy: 0.5993 - val_precision_2: 0.5993 - val_recall_2: 0.5993\n",
            "Epoch 2/10\n",
            "108/108 [==============================] - 16s 147ms/step - loss: 0.2577 - accuracy: 0.9091 - precision_2: 0.9091 - recall_2: 0.9091 - val_loss: 0.6405 - val_accuracy: 0.7794 - val_precision_2: 0.7794 - val_recall_2: 0.7794\n",
            "Epoch 3/10\n",
            "108/108 [==============================] - 17s 160ms/step - loss: 0.1411 - accuracy: 0.9508 - precision_2: 0.9508 - recall_2: 0.9508 - val_loss: 0.5682 - val_accuracy: 0.8217 - val_precision_2: 0.8217 - val_recall_2: 0.8217\n",
            "Epoch 4/10\n",
            "108/108 [==============================] - 17s 155ms/step - loss: 0.1036 - accuracy: 0.9699 - precision_2: 0.9699 - recall_2: 0.9699 - val_loss: 0.4737 - val_accuracy: 0.8327 - val_precision_2: 0.8327 - val_recall_2: 0.8327\n",
            "Epoch 5/10\n",
            "108/108 [==============================] - 16s 152ms/step - loss: 0.0792 - accuracy: 0.9806 - precision_2: 0.9806 - recall_2: 0.9806 - val_loss: 0.4276 - val_accuracy: 0.8272 - val_precision_2: 0.8272 - val_recall_2: 0.8272\n",
            "Epoch 6/10\n",
            "108/108 [==============================] - 16s 152ms/step - loss: 0.0679 - accuracy: 0.9809 - precision_2: 0.9809 - recall_2: 0.9809 - val_loss: 0.3964 - val_accuracy: 0.8438 - val_precision_2: 0.8438 - val_recall_2: 0.8438\n",
            "Epoch 7/10\n",
            "108/108 [==============================] - 16s 152ms/step - loss: 0.0621 - accuracy: 0.9829 - precision_2: 0.9829 - recall_2: 0.9829 - val_loss: 0.4177 - val_accuracy: 0.8456 - val_precision_2: 0.8456 - val_recall_2: 0.8456\n",
            "Epoch 8/10\n",
            "108/108 [==============================] - 16s 150ms/step - loss: 0.0560 - accuracy: 0.9838 - precision_2: 0.9838 - recall_2: 0.9838 - val_loss: 0.4393 - val_accuracy: 0.8438 - val_precision_2: 0.8438 - val_recall_2: 0.8438\n",
            "Epoch 9/10\n",
            "108/108 [==============================] - 16s 151ms/step - loss: 0.0551 - accuracy: 0.9852 - precision_2: 0.9852 - recall_2: 0.9852 - val_loss: 0.4463 - val_accuracy: 0.8474 - val_precision_2: 0.8474 - val_recall_2: 0.8474\n",
            "Epoch 10/10\n",
            "108/108 [==============================] - 16s 149ms/step - loss: 0.0525 - accuracy: 0.9864 - precision_2: 0.9864 - recall_2: 0.9864 - val_loss: 0.4403 - val_accuracy: 0.8364 - val_precision_2: 0.8364 - val_recall_2: 0.8364\n"
          ]
        }
      ],
      "source": [
        "# Assuming padded is used for both branches\n",
        "# Fit model with two inputs (duplicating padded for both branches if needed)\n",
        "history = model.fit(\n",
        "    [padded, padded],  # passing the same input to both branches\n",
        "    train_labels, \n",
        "    epochs=10, \n",
        "    batch_size=32,\n",
        "    validation_data=([testing_padded, testing_padded], test_labels), \n",
        "    verbose=1,\n",
        "    use_multiprocessing=True, \n",
        "    workers=8\n",
        ")"
      ]
    },
    {
      "cell_type": "code",
      "execution_count": 44,
      "metadata": {},
      "outputs": [
        {
          "name": "stdout",
          "output_type": "stream",
          "text": [
            "17/17 [==============================] - 0s 6ms/step\n",
            "Confusion Matrix:\n",
            "[[389  35]\n",
            " [ 54  66]]\n"
          ]
        },
        {
          "data": {
            "image/png": "[encoded data removed]",
            "text/plain": [
              "<Figure size 600x400 with 2 Axes>"
            ]
          },
          "metadata": {},
          "output_type": "display_data"
        }
      ],
      "source": [
        "from sklearn.metrics import confusion_matrix\n",
        "import seaborn as sns\n",
        "import matplotlib.pyplot as plt\n",
        "import numpy as np\n",
        "\n",
        "# Step 1: Make predictions on the test set\n",
        "y_pred_prob = model.predict([testing_padded, testing_padded])  # Pass both inputs for the model\n",
        "y_pred_labels = np.argmax(y_pred_prob, axis=1)  # Convert probabilities to class labels\n",
        "\n",
        "# Step 2: Convert one-hot encoded `test_labels` back to class labels (if necessary)\n",
        "y_test_labels = np.argmax(test_labels, axis=1)\n",
        "\n",
        "# Step 3: Generate confusion matrix\n",
        "conf_matrix = confusion_matrix(y_test_labels, y_pred_labels)\n",
        "\n",
        "# Print the confusion matrix\n",
        "print(\"Confusion Matrix:\")\n",
        "print(conf_matrix)\n",
        "\n",
        "# Step 4 (Optional): Visualize the confusion matrix using a heatmap\n",
        "plt.figure(figsize=(6, 4))\n",
        "sns.heatmap(conf_matrix, annot=True, fmt='d', cmap='Blues', xticklabels=['Class_0', 'Class_1'], yticklabels=['Class_0', 'Class_1'])\n",
        "plt.xlabel('Predicted')\n",
        "plt.ylabel('Actual')\n",
        "plt.title('Confusion Matrix')\n",
        "plt.show()\n"
      ]
    },
    {
      "cell_type": "code",
      "execution_count": null,
      "metadata": {},
      "outputs": [],
      "source": []
    }
  ],
  "metadata": {
    "colab": {
      "provenance": [],
      "toc_visible": true
    },
    "kernelspec": {
      "display_name": "Python 3",
      "name": "python3"
    },
    "language_info": {
      "codemirror_mode": {
        "name": "ipython",
        "version": 3
      },
      "file_extension": ".py",
      "mimetype": "text/x-python",
      "name": "python",
      "nbconvert_exporter": "python",
      "pygments_lexer": "ipython3",
      "version": "3.11.5"
    }
  },
  "nbformat": 4,
  "nbformat_minor": 0
}
