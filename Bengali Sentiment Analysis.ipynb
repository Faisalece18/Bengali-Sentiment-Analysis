{
  "cells": [
    {
      "cell_type": "markdown",
      "metadata": {
        "id": "y3KMdmjDb8Kq"
      },
      "source": [
        "## **Importing Libraries**"
      ]
    },
    {
      "cell_type": "code",
      "execution_count": 1,
      "metadata": {
        "id": "UiDq4VkUCUUJ"
      },
      "outputs": [
        {
          "name": "stdout",
          "output_type": "stream",
          "text": [
            "WARNING:tensorflow:From C:\\Users\\raquib\\AppData\\Roaming\\Python\\Python311\\site-packages\\keras\\src\\losses.py:2976: The name tf.losses.sparse_softmax_cross_entropy is deprecated. Please use tf.compat.v1.losses.sparse_softmax_cross_entropy instead.\n",
            "\n"
          ]
        }
      ],
      "source": [
        "import numpy as np\n",
        "import pandas as pd\n",
        "import matplotlib.pyplot as plt\n",
        "%matplotlib inline\n",
        "import seaborn as sns\n",
        "import re,json,nltk\n",
        "import tensorflow as tf\n",
        "from sklearn.preprocessing import LabelEncoder\n",
        "from sklearn.feature_extraction.text import TfidfVectorizer\n",
        "from sklearn.model_selection import train_test_split\n",
        "from sklearn.metrics import classification_report,accuracy_score,precision_score,recall_score,f1_score\n",
        "import json\n"
      ]
    },
    {
      "cell_type": "code",
      "execution_count": 2,
      "metadata": {
        "colab": {
          "base_uri": "https://localhost:8080/",
          "height": 293
        },
        "id": "o5FayioHSG70",
        "outputId": "80c9cc63-8e94-4172-b0b0-0b857204260c"
      },
      "outputs": [
        {
          "data": {
            "text/html": [
              "<div>\n",
              "<style scoped>\n",
              "    .dataframe tbody tr th:only-of-type {\n",
              "        vertical-align: middle;\n",
              "    }\n",
              "\n",
              "    .dataframe tbody tr th {\n",
              "        vertical-align: top;\n",
              "    }\n",
              "\n",
              "    .dataframe thead th {\n",
              "        text-align: right;\n",
              "    }\n",
              "</style>\n",
              "<table border=\"1\" class=\"dataframe\">\n",
              "  <thead>\n",
              "    <tr style=\"text-align: right;\">\n",
              "      <th></th>\n",
              "      <th>Source</th>\n",
              "      <th>Date</th>\n",
              "      <th>Text</th>\n",
              "      <th>Category</th>\n",
              "      <th>Polarity</th>\n",
              "    </tr>\n",
              "  </thead>\n",
              "  <tbody>\n",
              "    <tr>\n",
              "      <th>0</th>\n",
              "      <td>BBC Bangla</td>\n",
              "      <td>2018-06-03 00:00:00</td>\n",
              "      <td>জয় বাংলা কাপ! তাও আবার স্বাধীনতার মাস মার্চে। ...</td>\n",
              "      <td>other</td>\n",
              "      <td>positive</td>\n",
              "    </tr>\n",
              "    <tr>\n",
              "      <th>1</th>\n",
              "      <td>BBC Bangla</td>\n",
              "      <td>2018-06-04 00:00:00</td>\n",
              "      <td>জয় বাংলা কাপ! তাও আবার স্বাধীনতার মাস মার্চে। ...</td>\n",
              "      <td>team</td>\n",
              "      <td>positive</td>\n",
              "    </tr>\n",
              "    <tr>\n",
              "      <th>2</th>\n",
              "      <td>BBC Bangla</td>\n",
              "      <td>15/6/2017</td>\n",
              "      <td>বাংলাদেশের পরে ভারতের সাপর্ট ই করি ?</td>\n",
              "      <td>team</td>\n",
              "      <td>positive</td>\n",
              "    </tr>\n",
              "    <tr>\n",
              "      <th>3</th>\n",
              "      <td>BBC Bangla</td>\n",
              "      <td>15/6/2020</td>\n",
              "      <td>সৌম্যকে বাদ দেওয়া হোক</td>\n",
              "      <td>batting</td>\n",
              "      <td>negative</td>\n",
              "    </tr>\n",
              "    <tr>\n",
              "      <th>4</th>\n",
              "      <td>BBC Bangla</td>\n",
              "      <td>27/1/2018</td>\n",
              "      <td>প্রথমটি হচ্ছে, কোচ অত:পর সাকিব,সাকিব আর সাকিবর...</td>\n",
              "      <td>team</td>\n",
              "      <td>positive</td>\n",
              "    </tr>\n",
              "  </tbody>\n",
              "</table>\n",
              "</div>"
            ],
            "text/plain": [
              "       Source                 Date  \\\n",
              "0  BBC Bangla  2018-06-03 00:00:00   \n",
              "1  BBC Bangla  2018-06-04 00:00:00   \n",
              "2  BBC Bangla            15/6/2017   \n",
              "3  BBC Bangla            15/6/2020   \n",
              "4  BBC Bangla            27/1/2018   \n",
              "\n",
              "                                                Text Category  Polarity  \n",
              "0  জয় বাংলা কাপ! তাও আবার স্বাধীনতার মাস মার্চে। ...    other  positive  \n",
              "1  জয় বাংলা কাপ! তাও আবার স্বাধীনতার মাস মার্চে। ...     team  positive  \n",
              "2               বাংলাদেশের পরে ভারতের সাপর্ট ই করি ?     team  positive  \n",
              "3                              সৌম্যকে বাদ দেওয়া হোক  batting  negative  \n",
              "4  প্রথমটি হচ্ছে, কোচ অত:পর সাকিব,সাকিব আর সাকিবর...     team  positive  "
            ]
          },
          "execution_count": 2,
          "metadata": {},
          "output_type": "execute_result"
        }
      ],
      "source": [
        "#Load dataset\n",
        "df = pd.read_excel('data.xlsx')\n",
        "\n",
        "df.head()\n"
      ]
    },
    {
      "cell_type": "code",
      "execution_count": 3,
      "metadata": {
        "colab": {
          "base_uri": "https://localhost:8080/"
        },
        "id": "IgbK3SjHOdz8",
        "outputId": "3fe14a32-109c-4db9-ba28-fca75484a390"
      },
      "outputs": [
        {
          "data": {
            "text/plain": [
              "Index(['Source', 'Date', 'Text', 'Category', 'Polarity'], dtype='object')"
            ]
          },
          "execution_count": 3,
          "metadata": {},
          "output_type": "execute_result"
        }
      ],
      "source": [
        "#Show total columns\n",
        "df.columns"
      ]
    },
    {
      "cell_type": "code",
      "execution_count": 4,
      "metadata": {
        "id": "MzhR4iQEbH7t"
      },
      "outputs": [],
      "source": [
        "#Drop the unnecessary colums\n",
        "df = df.drop(['Source', 'Date','Category'], axis=1)"
      ]
    },
    {
      "cell_type": "code",
      "execution_count": 5,
      "metadata": {
        "colab": {
          "base_uri": "https://localhost:8080/",
          "height": 206
        },
        "id": "XskBLN55T9B-",
        "outputId": "7062bdb7-04fe-4331-ceaa-cad24fd1499f"
      },
      "outputs": [
        {
          "data": {
            "text/html": [
              "<div>\n",
              "<style scoped>\n",
              "    .dataframe tbody tr th:only-of-type {\n",
              "        vertical-align: middle;\n",
              "    }\n",
              "\n",
              "    .dataframe tbody tr th {\n",
              "        vertical-align: top;\n",
              "    }\n",
              "\n",
              "    .dataframe thead th {\n",
              "        text-align: right;\n",
              "    }\n",
              "</style>\n",
              "<table border=\"1\" class=\"dataframe\">\n",
              "  <thead>\n",
              "    <tr style=\"text-align: right;\">\n",
              "      <th></th>\n",
              "      <th>Text</th>\n",
              "      <th>Polarity</th>\n",
              "    </tr>\n",
              "  </thead>\n",
              "  <tbody>\n",
              "    <tr>\n",
              "      <th>0</th>\n",
              "      <td>জয় বাংলা কাপ! তাও আবার স্বাধীনতার মাস মার্চে। ...</td>\n",
              "      <td>positive</td>\n",
              "    </tr>\n",
              "    <tr>\n",
              "      <th>1</th>\n",
              "      <td>জয় বাংলা কাপ! তাও আবার স্বাধীনতার মাস মার্চে। ...</td>\n",
              "      <td>positive</td>\n",
              "    </tr>\n",
              "    <tr>\n",
              "      <th>2</th>\n",
              "      <td>বাংলাদেশের পরে ভারতের সাপর্ট ই করি ?</td>\n",
              "      <td>positive</td>\n",
              "    </tr>\n",
              "    <tr>\n",
              "      <th>3</th>\n",
              "      <td>সৌম্যকে বাদ দেওয়া হোক</td>\n",
              "      <td>negative</td>\n",
              "    </tr>\n",
              "    <tr>\n",
              "      <th>4</th>\n",
              "      <td>প্রথমটি হচ্ছে, কোচ অত:পর সাকিব,সাকিব আর সাকিবর...</td>\n",
              "      <td>positive</td>\n",
              "    </tr>\n",
              "  </tbody>\n",
              "</table>\n",
              "</div>"
            ],
            "text/plain": [
              "                                                Text  Polarity\n",
              "0  জয় বাংলা কাপ! তাও আবার স্বাধীনতার মাস মার্চে। ...  positive\n",
              "1  জয় বাংলা কাপ! তাও আবার স্বাধীনতার মাস মার্চে। ...  positive\n",
              "2               বাংলাদেশের পরে ভারতের সাপর্ট ই করি ?  positive\n",
              "3                              সৌম্যকে বাদ দেওয়া হোক  negative\n",
              "4  প্রথমটি হচ্ছে, কোচ অত:পর সাকিব,সাকিব আর সাকিবর...  positive"
            ]
          },
          "execution_count": 5,
          "metadata": {},
          "output_type": "execute_result"
        }
      ],
      "source": [
        "df.head()\n"
      ]
    },
    {
      "cell_type": "code",
      "execution_count": 6,
      "metadata": {
        "colab": {
          "base_uri": "https://localhost:8080/",
          "height": 175
        },
        "id": "fF7VVFGWUDmM",
        "outputId": "a9f774b1-f8ce-41f4-e9bf-5b6fb8811f23"
      },
      "outputs": [
        {
          "data": {
            "text/html": [
              "<div>\n",
              "<style scoped>\n",
              "    .dataframe tbody tr th:only-of-type {\n",
              "        vertical-align: middle;\n",
              "    }\n",
              "\n",
              "    .dataframe tbody tr th {\n",
              "        vertical-align: top;\n",
              "    }\n",
              "\n",
              "    .dataframe thead th {\n",
              "        text-align: right;\n",
              "    }\n",
              "</style>\n",
              "<table border=\"1\" class=\"dataframe\">\n",
              "  <thead>\n",
              "    <tr style=\"text-align: right;\">\n",
              "      <th></th>\n",
              "      <th>Text</th>\n",
              "      <th>Polarity</th>\n",
              "    </tr>\n",
              "  </thead>\n",
              "  <tbody>\n",
              "    <tr>\n",
              "      <th>count</th>\n",
              "      <td>2979</td>\n",
              "      <td>2979</td>\n",
              "    </tr>\n",
              "    <tr>\n",
              "      <th>unique</th>\n",
              "      <td>2720</td>\n",
              "      <td>3</td>\n",
              "    </tr>\n",
              "    <tr>\n",
              "      <th>top</th>\n",
              "      <td>এই পিচে বাংলাদেশকে ৪র্থ ইনিংসে ব্যাট করতে হবে,...</td>\n",
              "      <td>negative</td>\n",
              "    </tr>\n",
              "    <tr>\n",
              "      <th>freq</th>\n",
              "      <td>4</td>\n",
              "      <td>2152</td>\n",
              "    </tr>\n",
              "  </tbody>\n",
              "</table>\n",
              "</div>"
            ],
            "text/plain": [
              "                                                     Text  Polarity\n",
              "count                                                2979      2979\n",
              "unique                                               2720         3\n",
              "top     এই পিচে বাংলাদেশকে ৪র্থ ইনিংসে ব্যাট করতে হবে,...  negative\n",
              "freq                                                    4      2152"
            ]
          },
          "execution_count": 6,
          "metadata": {},
          "output_type": "execute_result"
        }
      ],
      "source": [
        "df.describe()"
      ]
    },
    {
      "cell_type": "code",
      "execution_count": 7,
      "metadata": {
        "colab": {
          "base_uri": "https://localhost:8080/"
        },
        "id": "Ww44mPg9SGby",
        "outputId": "f4f70548-0768-49d1-813c-a1edb184b3c9"
      },
      "outputs": [
        {
          "name": "stdout",
          "output_type": "stream",
          "text": [
            "Total Reviews: 2979 \n",
            "Total Positive Reviews: 566 \n",
            "Total Negative Reviews: 2152 \n",
            "Total Neutral Reviews: 261\n"
          ]
        }
      ],
      "source": [
        "#show total numbers of pos,neg and neutral comments\n",
        "print(\"Total Reviews:\",len(df),\n",
        "      \"\\nTotal Positive Reviews:\",len(df[df.Polarity =='positive']),\n",
        "      \"\\nTotal Negative Reviews:\",len(df[df.Polarity=='negative']),\n",
        "      \"\\nTotal Neutral Reviews:\",len(df[df.Polarity =='neutral']))"
      ]
    },
    {
      "cell_type": "code",
      "execution_count": 8,
      "metadata": {
        "colab": {
          "base_uri": "https://localhost:8080/",
          "height": 430
        },
        "id": "TLj_-aVOPVx8",
        "outputId": "5a78b762-9abe-4796-c886-8904da0ee1dd"
      },
      "outputs": [
        {
          "data": {
            "image/png": "[encoded data removed]",
            "text/plain": [
              "<Figure size 640x480 with 1 Axes>"
            ]
          },
          "metadata": {},
          "output_type": "display_data"
        }
      ],
      "source": [
        "#visualize the data\n",
        "df.groupby('Polarity').size().plot(kind='barh', color=sns.palettes.mpl_palette('Dark2'))\n",
        "plt.gca().spines[['top', 'right',]].set_visible(False)"
      ]
    },
    {
      "cell_type": "code",
      "execution_count": 9,
      "metadata": {
        "colab": {
          "base_uri": "https://localhost:8080/",
          "height": 143
        },
        "id": "LIU3bSI3O93S",
        "outputId": "3866b6f5-d0f5-4238-a997-0adbc85b7ab3"
      },
      "outputs": [
        {
          "data": {
            "text/html": [
              "<style type=\"text/css\">\n",
              "#T_b0d0d_row0_col1 {\n",
              "  background-color: #3f007d;\n",
              "  color: #f1f1f1;\n",
              "}\n",
              "#T_b0d0d_row1_col1 {\n",
              "  background-color: #e9e8f2;\n",
              "  color: #000000;\n",
              "}\n",
              "#T_b0d0d_row2_col1 {\n",
              "  background-color: #fcfbfd;\n",
              "  color: #000000;\n",
              "}\n",
              "</style>\n",
              "<table id=\"T_b0d0d\">\n",
              "  <thead>\n",
              "    <tr>\n",
              "      <th class=\"blank level0\" >&nbsp;</th>\n",
              "      <th id=\"T_b0d0d_level0_col0\" class=\"col_heading level0 col0\" >Polarity</th>\n",
              "      <th id=\"T_b0d0d_level0_col1\" class=\"col_heading level0 col1\" >Text</th>\n",
              "    </tr>\n",
              "  </thead>\n",
              "  <tbody>\n",
              "    <tr>\n",
              "      <th id=\"T_b0d0d_level0_row0\" class=\"row_heading level0 row0\" >0</th>\n",
              "      <td id=\"T_b0d0d_row0_col0\" class=\"data row0 col0\" >negative</td>\n",
              "      <td id=\"T_b0d0d_row0_col1\" class=\"data row0 col1\" >2152</td>\n",
              "    </tr>\n",
              "    <tr>\n",
              "      <th id=\"T_b0d0d_level0_row1\" class=\"row_heading level0 row1\" >2</th>\n",
              "      <td id=\"T_b0d0d_row1_col0\" class=\"data row1 col0\" >positive</td>\n",
              "      <td id=\"T_b0d0d_row1_col1\" class=\"data row1 col1\" >566</td>\n",
              "    </tr>\n",
              "    <tr>\n",
              "      <th id=\"T_b0d0d_level0_row2\" class=\"row_heading level0 row2\" >1</th>\n",
              "      <td id=\"T_b0d0d_row2_col0\" class=\"data row2 col0\" >neutral</td>\n",
              "      <td id=\"T_b0d0d_row2_col1\" class=\"data row2 col1\" >261</td>\n",
              "    </tr>\n",
              "  </tbody>\n",
              "</table>\n"
            ],
            "text/plain": [
              "<pandas.io.formats.style.Styler at 0x28f61f43dd0>"
            ]
          },
          "execution_count": 9,
          "metadata": {},
          "output_type": "execute_result"
        }
      ],
      "source": [
        "from plotly import graph_objs as go\n",
        "temp = df.groupby('Polarity').count()['Text'].reset_index().sort_values(by='Text',ascending=False)\n",
        "temp.style.background_gradient(cmap='Purples')"
      ]
    },
    {
      "cell_type": "code",
      "execution_count": 10,
      "metadata": {
        "colab": {
          "base_uri": "https://localhost:8080/",
          "height": 206
        },
        "id": "H8VJ38MAUbz4",
        "outputId": "f4360797-1258-469e-89e3-1ba6bf8f31de"
      },
      "outputs": [
        {
          "data": {
            "text/html": [
              "<div>\n",
              "<style scoped>\n",
              "    .dataframe tbody tr th:only-of-type {\n",
              "        vertical-align: middle;\n",
              "    }\n",
              "\n",
              "    .dataframe tbody tr th {\n",
              "        vertical-align: top;\n",
              "    }\n",
              "\n",
              "    .dataframe thead th {\n",
              "        text-align: right;\n",
              "    }\n",
              "</style>\n",
              "<table border=\"1\" class=\"dataframe\">\n",
              "  <thead>\n",
              "    <tr style=\"text-align: right;\">\n",
              "      <th></th>\n",
              "      <th>Text</th>\n",
              "      <th>Polarity</th>\n",
              "    </tr>\n",
              "  </thead>\n",
              "  <tbody>\n",
              "    <tr>\n",
              "      <th>2671</th>\n",
              "      <td>মাসরাফি আর ভারতীয় লিজেন্ড জহির খাঁন এর উইকেট ই...</td>\n",
              "      <td>positive</td>\n",
              "    </tr>\n",
              "    <tr>\n",
              "      <th>538</th>\n",
              "      <td>অবহেলিত মমিনুল জন্য আজ এই টেষ্ট ড্র করতে পারলাম</td>\n",
              "      <td>positive</td>\n",
              "    </tr>\n",
              "    <tr>\n",
              "      <th>1628</th>\n",
              "      <td>বাংলাদেশের আবাল ক্রীড়া সাংবাদিক দের মাঠে নামায়...</td>\n",
              "      <td>negative</td>\n",
              "    </tr>\n",
              "    <tr>\n",
              "      <th>1412</th>\n",
              "      <td>এখন টেস্ট ও একি দশা। বাকি রইলো টি২০!</td>\n",
              "      <td>negative</td>\n",
              "    </tr>\n",
              "    <tr>\n",
              "      <th>1725</th>\n",
              "      <td>আমাদের শান্তনা দুজন বোলার ৪ উইকেট পাইছে,এটা নি...</td>\n",
              "      <td>negative</td>\n",
              "    </tr>\n",
              "  </tbody>\n",
              "</table>\n",
              "</div>"
            ],
            "text/plain": [
              "                                                   Text  Polarity\n",
              "2671  মাসরাফি আর ভারতীয় লিজেন্ড জহির খাঁন এর উইকেট ই...  positive\n",
              "538     অবহেলিত মমিনুল জন্য আজ এই টেষ্ট ড্র করতে পারলাম  positive\n",
              "1628  বাংলাদেশের আবাল ক্রীড়া সাংবাদিক দের মাঠে নামায়...  negative\n",
              "1412              এখন টেস্ট ও একি দশা। বাকি রইলো টি২০!   negative\n",
              "1725  আমাদের শান্তনা দুজন বোলার ৪ উইকেট পাইছে,এটা নি...  negative"
            ]
          },
          "execution_count": 10,
          "metadata": {},
          "output_type": "execute_result"
        }
      ],
      "source": [
        "df.sample(n=5, random_state=0)[['Text', 'Polarity']]\n"
      ]
    },
    {
      "cell_type": "code",
      "execution_count": 11,
      "metadata": {
        "colab": {
          "base_uri": "https://localhost:8080/"
        },
        "id": "xBjJWelsVtZI",
        "outputId": "8e5b93b2-6bd1-44ac-da84-4f0342583273"
      },
      "outputs": [
        {
          "name": "stdout",
          "output_type": "stream",
          "text": [
            ",আমার বাংলাদেশ জিদবে #$ @ ইনশা আল্লাহ।। \n",
            " Sentiment:--  positive \n",
            "\n",
            "ধন্যবাদ রাজ্জাককে সুযোগ দেওয়ার জন্য। \n",
            " Sentiment:--  positive \n",
            "\n",
            " আসেন এখন আমরা বাংলাদেশ টিমরে গাইলাই \n",
            " Sentiment:--  negative \n",
            "\n",
            " আরো আগে রাজ্জাকের প্রত্যাবর্তন করা দরকার ছিল \n",
            " Sentiment:--  positive \n",
            "\n"
          ]
        }
      ],
      "source": [
        "#showing some random comments and their sentiments\n",
        "sample_data = [10,100,250,650]\n",
        "for i in sample_data:\n",
        "      print(df.Text[i],'\\n','Sentiment:-- ',df.Polarity[i],'\\n')"
      ]
    },
    {
      "cell_type": "markdown",
      "metadata": {
        "id": "M9pwSQt3cFVJ"
      },
      "source": [
        "## **Data Preprocessing**"
      ]
    },
    {
      "cell_type": "code",
      "execution_count": 12,
      "metadata": {
        "colab": {
          "base_uri": "https://localhost:8080/"
        },
        "id": "FwjNKBD4JFlY",
        "outputId": "d5c42f80-0609-4b6b-d94b-f99e3038db84"
      },
      "outputs": [
        {
          "name": "stderr",
          "output_type": "stream",
          "text": [
            "[nltk_data] Downloading package stopwords to\n",
            "[nltk_data]     C:\\Users\\raquib\\AppData\\Roaming\\nltk_data...\n",
            "[nltk_data]   Package stopwords is already up-to-date!\n"
          ]
        }
      ],
      "source": [
        "import nltk\n",
        "nltk.download('stopwords')\n",
        "from nltk.corpus import stopwords"
      ]
    },
    {
      "cell_type": "code",
      "execution_count": 13,
      "metadata": {
        "id": "QYfzI_dGM2GX"
      },
      "outputs": [],
      "source": [
        "#Data Cleaning\n",
        "def process_text(Text):\n",
        "    Text = re.sub('[^\\u0980-\\u09FF]',' ',str(Text)) #removing unnecessary punctuation\n",
        "    Text = re.sub('[?.`*^()!°¢܌Ͱ̰ߒנ~×Ҡߘ:ҰߑÍ|।;!,&%\\'@#$><A-Za-z0+-9=./''\"\"_০-৯]', '', str(Text))\n",
        "    Text = re.sub(r'(\\W)(?=\\1)', '', str(Text))\n",
        "    Text = re.sub(r'https?:\\/\\/.*[\\r\\n]*', '', str(Text), flags=re.MULTILINE)\n",
        "    Text = re.sub(r'\\<a href', ' ', str(Text))\n",
        "    Text = re.sub(r'&amp;', '', str(Text))\n",
        "    Text = re.sub(r'<br />', ' ', str(Text))\n",
        "    Text = re.sub(r'\\'', ' ', str(Text))\n",
        "    Text = re.sub(r'ߑͰߑ̰ߒנ', '', str(Text))\n",
        "    Text = re.sub(r'ߎɰߎɰߎɍ', '', str(Text))\n",
        "    pattern = re.compile(r'\\b(' + r'|'.join(stopwords.words('bengali')) + r')\\b\\s*')\n",
        "    Text = pattern.sub('', Text)\n",
        "    return Text"
      ]
    },
    {
      "cell_type": "code",
      "execution_count": 14,
      "metadata": {
        "colab": {
          "base_uri": "https://localhost:8080/"
        },
        "id": "agbyEHk4-dFx",
        "outputId": "2bb3a5e1-0a27-40f0-bc4c-5812a1040d25"
      },
      "outputs": [
        {
          "name": "stdout",
          "output_type": "stream",
          "text": [
            "Original:\n",
            " ,আমার বাংলাদেশ জিদবে #$ @ ইনশা আল্লাহ।। \n",
            "Cleaned:\n",
            "  বাংলাদেশ জিদবে ইনশা আল্লাহ  \n",
            " Textiment:--  positive \n",
            "\n",
            "Original:\n",
            " ধন্যবাদ রাজ্জাককে সুযোগ দেওয়ার জন্য। \n",
            "Cleaned:\n",
            " ধন্যবাদ াজ্জাককে সুযোগ ্য  \n",
            " Textiment:--  positive \n",
            "\n",
            "Original:\n",
            "  আসেন এখন আমরা বাংলাদেশ টিমরে গাইলাই \n",
            "Cleaned:\n",
            "  আসেন আমরা বাংলাদেশ মরে গাইলা \n",
            " Textiment:--  negative \n",
            "\n"
          ]
        }
      ],
      "source": [
        "# Apply the function into the dataframe\n",
        "df['cleaned'] = df['Text'].apply(process_text)\n",
        "\n",
        "# print some cleaned reviews from the dataset\n",
        "sample_data = [10,100,250]\n",
        "for i in sample_data:\n",
        "     print('Original:\\n',df.Text[i],'\\nCleaned:\\n',\n",
        "           df.cleaned[i],'\\n','Textiment:-- ',df.Polarity[i],'\\n')"
      ]
    },
    {
      "cell_type": "markdown",
      "metadata": {
        "id": "UVpO8hfWdsAy"
      },
      "source": [
        "Removing Low-length data\n"
      ]
    },
    {
      "cell_type": "code",
      "execution_count": 15,
      "metadata": {
        "colab": {
          "base_uri": "https://localhost:8080/"
        },
        "id": "TnupOlPPJW0s",
        "outputId": "67b45dcd-363c-47fa-c5fc-bd300d7f4267"
      },
      "outputs": [
        {
          "name": "stdout",
          "output_type": "stream",
          "text": [
            "After Cleaning: \n",
            "Removed 357 Small Reviews \n",
            "Total Reviews: 2622\n"
          ]
        }
      ],
      "source": [
        "# Length of each Reveiws\n",
        "df['length'] = df['cleaned'].apply(lambda x:len(x.split()))\n",
        "# Remove the reviews with least words\n",
        "lnt=len(df)\n",
        "df = df.loc[df.length>3]\n",
        "df = df.reset_index(drop = True)\n",
        "print(\"After Cleaning:\",\"\\nRemoved {} Small Reviews\".format(lnt-len(df)),\n",
        "      \"\\nTotal Reviews:\",len(df))"
      ]
    },
    {
      "cell_type": "code",
      "execution_count": 16,
      "metadata": {
        "id": "PJ_nQWpzmNOo"
      },
      "outputs": [],
      "source": [
        "Positive_sent = df[df['Polarity']=='positive']\n",
        "Negative_sent = df[df['Polarity']=='negative']\n",
        "Neutral_sent = df[df['Polarity']=='neutral']"
      ]
    },
    {
      "cell_type": "markdown",
      "metadata": {
        "id": "L-lPi5EfdOu0"
      },
      "source": [
        "Taking only positive and Negative data"
      ]
    },
    {
      "cell_type": "code",
      "execution_count": 17,
      "metadata": {
        "colab": {
          "base_uri": "https://localhost:8080/"
        },
        "id": "PwLc39pTFfq1",
        "outputId": "c61a7201-d19a-45d5-9b1c-9825baa7d39e"
      },
      "outputs": [
        {
          "data": {
            "text/plain": [
              "Polarity\n",
              "negative    1943\n",
              "positive     462\n",
              "Name: count, dtype: int64"
            ]
          },
          "execution_count": 17,
          "metadata": {},
          "output_type": "execute_result"
        }
      ],
      "source": [
        "Positive = df[df.Polarity == 'positive']\n",
        "Negative = df[df.Polarity == 'negative']\n",
        "df = pd.concat([Positive, Negative], ignore_index=True)\n",
        "df.Polarity.value_counts()"
      ]
    },
    {
      "cell_type": "code",
      "execution_count": 18,
      "metadata": {
        "colab": {
          "base_uri": "https://localhost:8080/",
          "height": 579
        },
        "id": "TB1QSds0fZEi",
        "outputId": "9799da32-0402-494d-d186-7e53f08684fb"
      },
      "outputs": [
        {
          "data": {
            "image/png": "[encoded data removed]",
            "text/plain": [
              "<Figure size 640x480 with 1 Axes>"
            ]
          },
          "metadata": {},
          "output_type": "display_data"
        }
      ],
      "source": [
        "# visualizing positive and negative data\n",
        "sns.countplot(x='Polarity', data=df, palette='viridis')\n",
        "plt.title('Count Plot of Categorical Data')\n",
        "plt.xlabel('Categories')\n",
        "plt.ylabel('Count')\n",
        "plt.show()"
      ]
    },
    {
      "cell_type": "markdown",
      "metadata": {
        "id": "5XlFQSMef5C2"
      },
      "source": [
        "Imbalance data"
      ]
    },
    {
      "cell_type": "markdown",
      "metadata": {
        "id": "HDQpUYCMg0By"
      },
      "source": [
        "## Handling Imbalancedataset"
      ]
    },
    {
      "cell_type": "code",
      "execution_count": 19,
      "metadata": {
        "id": "j3wnQZF3gtzZ"
      },
      "outputs": [],
      "source": [
        "label_encoder = LabelEncoder()\n",
        "y = label_encoder.fit_transform(df['Polarity'])"
      ]
    },
    {
      "cell_type": "code",
      "execution_count": 20,
      "metadata": {
        "id": "k6wpm7yzgSVA"
      },
      "outputs": [],
      "source": [
        "X=df['cleaned'].values"
      ]
    },
    {
      "cell_type": "code",
      "execution_count": 21,
      "metadata": {
        "colab": {
          "base_uri": "https://localhost:8080/"
        },
        "id": "9Tcy5ayUiJ0B",
        "outputId": "e0b2d1af-bcbb-4ae3-d970-a7135dabd0d6"
      },
      "outputs": [
        {
          "name": "stderr",
          "output_type": "stream",
          "text": [
            "c:\\Users\\raquib\\anaconda3\\Lib\\site-packages\\sklearn\\feature_extraction\\text.py:525: UserWarning: The parameter 'token_pattern' will not be used since 'tokenizer' is not None'\n",
            "  warnings.warn(\n"
          ]
        }
      ],
      "source": [
        "tfidf = TfidfVectorizer(ngram_range=(1,2),use_idf=True,tokenizer=lambda x: x.split())\n",
        "X = tfidf.fit_transform(X)"
      ]
    },
    {
      "cell_type": "code",
      "execution_count": 22,
      "metadata": {
        "id": "4RVyUe5kfufD"
      },
      "outputs": [],
      "source": [
        "#Handling Imbalance dataset using SMOTE\n",
        "from imblearn.over_sampling import SMOTE\n",
        "smote = SMOTE(sampling_strategy='minority')\n",
        "X_sm, y_sm = smote.fit_resample(X, y)"
      ]
    },
    {
      "cell_type": "code",
      "execution_count": 23,
      "metadata": {
        "colab": {
          "base_uri": "https://localhost:8080/",
          "height": 472
        },
        "id": "Z_ly5VNwi62g",
        "outputId": "dfc77791-baac-49ab-9997-a86975e87cb3"
      },
      "outputs": [
        {
          "data": {
            "image/png": "[encoded data removed]",
            "text/plain": [
              "<Figure size 640x480 with 1 Axes>"
            ]
          },
          "metadata": {},
          "output_type": "display_data"
        }
      ],
      "source": [
        "sns.countplot(x=y_sm)\n",
        "plt.title('Class Distribution After SMOTE')\n",
        "plt.xlabel('Class')\n",
        "plt.ylabel('Count')\n",
        "plt.show()"
      ]
    },
    {
      "cell_type": "markdown",
      "metadata": {
        "id": "TPycWaOp08O1"
      },
      "source": [
        "## Lable Encoding and Dataset Splitting"
      ]
    },
    {
      "cell_type": "code",
      "execution_count": 24,
      "metadata": {
        "id": "vjn65smO1Ae-"
      },
      "outputs": [],
      "source": [
        "#Label Encoding Function\n",
        "\n",
        "\n",
        "def label_encoding(sentiment,bool):\n",
        "    \"\"\"\n",
        "    This function will return the encoded labels in array format.\n",
        "\n",
        "    Args:\n",
        "        sentiment: series of class names(str)\n",
        "        bool: boolean (True or False)\n",
        "\n",
        "    Returns:\n",
        "        labels: numpy array\n",
        "    \"\"\"\n",
        "    le = LabelEncoder()\n",
        "    le.fit(sentiment)\n",
        "    encoded_labels = le.transform(sentiment)\n",
        "    labels = np.array(encoded_labels) # Converting into numpy array\n",
        "    class_names =le.classes_ ## Define the class names again\n",
        "    if bool == True:\n",
        "        print(\"\\n\\t\\t\\t===== Label Encoding =====\",\"\\nClass Names:-->\",le.classes_)\n",
        "        for i in sample_data:\n",
        "            print(sentiment[i],' ', encoded_labels[i],'\\n')\n",
        "\n",
        "    return labels\n",
        "\n"
      ]
    },
    {
      "cell_type": "code",
      "execution_count": 25,
      "metadata": {
        "id": "PDHCLBuKCZdJ"
      },
      "outputs": [],
      "source": [
        "# Dataset Splitting Function\n",
        "def dataset_split(feature_space,sentiment):\n",
        "    \"\"\"\n",
        "    This function will return the splitted (80%-20%) feature vector .\n",
        "\n",
        "    Args:\n",
        "        feature_space: calcuated feature vector (sparse matrix)\n",
        "        sentiment: encoded lables (array)\n",
        "\n",
        "    Returns:\n",
        "        X_train: training feature vector (sparse matrix)\n",
        "        X_test : testing feature vector (sparse matrix)\n",
        "        y_train: training encoded labels (array)\n",
        "        y_test : testing encoded labels (array)\n",
        "    \"\"\"\n",
        "    from imblearn.over_sampling import SMOTE\n",
        "\n",
        "    X_train,X_test,y_train,y_test = train_test_split(feature_space,sentiment,train_size = 0.8,\n",
        "                                                  test_size = 0.2,random_state=15, stratify=sentiment)\n",
        "    print(\"Feature Size :======>\",X_train.shape[1])\n",
        "    print(\"\\nDataset Distribution:\\n\")\n",
        "    print(\"\\tSet Name\",\"\\t\\tSize\")\n",
        "    print(\"\\t========\\t\\t======\")\n",
        "\n",
        "    print(\"\\tFull\\t\\t\\t\",feature_space.shape[0],\n",
        "        \"\\n\\tTraining\\t\\t\",X_train.shape[0],\n",
        "        \"\\n\\tTest\\t\\t\\t\",X_test.shape[0])\n",
        "\n",
        "    return X_train,X_test,y_train,y_test"
      ]
    },
    {
      "cell_type": "markdown",
      "metadata": {
        "id": "Ik9hR_MC7rUc"
      },
      "source": [
        "## Model Building Using Machine Learning Feature Extraction Using TF-IDF"
      ]
    },
    {
      "cell_type": "code",
      "execution_count": 26,
      "metadata": {
        "id": "y4bOw-P27Iyt"
      },
      "outputs": [],
      "source": [
        "# Unigram Tf-idf value calculation\n",
        "def calc_gram_tfidf(reviews,gram):\n",
        "    \"\"\"\n",
        "    This function will return the tf-idf value of the respective gram features .\n",
        "\n",
        "    Args:\n",
        "        reviews: a list of cleaned reviews\n",
        "\n",
        "    Returns:\n",
        "        tfidf: a instance of TfidfVectorizer\n",
        "        X : Unigram Feature Vector (sparse matrix)\n",
        "    \"\"\"\n",
        "    tfidf = TfidfVectorizer(ngram_range=gram,use_idf=True,tokenizer=lambda x: x.split())\n",
        "    X = tfidf.fit_transform(reviews)\n",
        "\n",
        "    return tfidf,X"
      ]
    },
    {
      "cell_type": "code",
      "execution_count": 27,
      "metadata": {
        "id": "acg5ifi97zNg"
      },
      "outputs": [],
      "source": [
        "# Importing all the ML classifiers\n",
        "from sklearn.linear_model import LogisticRegression\n",
        "from sklearn.tree import DecisionTreeClassifier\n",
        "from sklearn.ensemble import RandomForestClassifier\n",
        "from sklearn.naive_bayes import MultinomialNB\n",
        "from sklearn.neighbors import KNeighborsClassifier\n",
        "from sklearn.svm import SVC\n",
        "from sklearn.linear_model import SGDClassifier\n",
        "from sklearn.ensemble import AdaBoostClassifier\n",
        "from sklearn.ensemble import BaggingClassifier\n",
        "from sklearn.ensemble import ExtraTreesClassifier\n",
        "from sklearn.ensemble import GradientBoostingClassifier\n",
        "from xgboost import XGBClassifier\n",
        "from sklearn.metrics import classification_report,accuracy_score,precision_score,recall_score,f1_score\n",
        "from sklearn.metrics import roc_curve, roc_auc_score\n",
        "from sklearn.metrics import average_precision_score,roc_auc_score, roc_curve, precision_recall_curve\n"
      ]
    },
    {
      "cell_type": "code",
      "execution_count": 28,
      "metadata": {
        "id": "FXOSLAec76zL"
      },
      "outputs": [],
      "source": [
        "#  Classifiers Defination\n",
        "def ml_models_defination():\n",
        "    \"\"\"\n",
        "    This function consists the models defination for All gram Features\n",
        "\n",
        "    Retuns:\n",
        "        ml_models: list of models\n",
        "        model_names: list of model_names\n",
        "\n",
        "    \"\"\"\n",
        "\n",
        "    lr_model = LogisticRegression(random_state = 123)\n",
        "    dt_model = DecisionTreeClassifier(criterion = 'entropy', random_state = 0)\n",
        "    rf_model = RandomForestClassifier(n_estimators=100, criterion ='entropy', random_state = 0)\n",
        "    mnb_model = MultinomialNB(alpha=0.15)\n",
        "    knn_model = KNeighborsClassifier(n_neighbors=3, metric = 'minkowski')\n",
        "    lsvm_model = SVC(kernel = 'linear',C = 0.2, probability=True, random_state = 0)\n",
        "    ksvm_model = SVC(C= 1000,kernel = 'rbf',probability=True, gamma = 0.00015, random_state = 0)\n",
        "    sgd_model = SGDClassifier(loss ='log_loss',penalty='l2', max_iter=100)\n",
        "    abc = AdaBoostClassifier(n_estimators=50, random_state=2)\n",
        "    bc = BaggingClassifier(n_estimators=50, random_state=2)\n",
        "    etc = ExtraTreesClassifier(n_estimators=50, random_state=2)\n",
        "    gbdt = GradientBoostingClassifier(n_estimators=50,random_state=2)\n",
        "    xgb = XGBClassifier(n_estimators=50,random_state=2)\n",
        "    model_names = ['Logistic Regression','Decision Tree','Random Forest','Naive Bayes','KNN','Linear SVM','Kernel SVM','SGD','XGB','GBDT','ETC','BC','ABC']\n",
        "    #model_names = ['Logistic Regression']\n",
        "    # Create list of models\n",
        "    ml_models = [lr_model,dt_model,rf_model,mnb_model,knn_model,lsvm_model,ksvm_model,sgd_model,xgb,gbdt,etc,bc,abc]\n",
        "    #ml_models = [lr_model]\n",
        "    return ml_models,model_names\n",
        "\n",
        "\n",
        "\n",
        "\n"
      ]
    },
    {
      "cell_type": "code",
      "execution_count": 29,
      "metadata": {
        "id": "RUVFwAqnCUSc"
      },
      "outputs": [],
      "source": [
        "# Model Evaluation Function\n",
        "def model_performace(model,X_train,X_test,y_train,y_test):\n",
        "    \"\"\"\n",
        "    This function will return the performance parameter values of each ML models.\n",
        "    Performance parameters are Accuracy, F1-Score, Precision, Recall.\n",
        "\n",
        "    Args:\n",
        "        model: a ML model instance\n",
        "        X_train: training feature vector (sparse matrix)\n",
        "        X_test : testing feature vector (sparse matrix)\n",
        "        y_train: training encoded labels (array)\n",
        "        y_test : testing encoded labels (array)\n",
        "\n",
        "    Returns:\n",
        "        my_dict: a dictionary of all the parameters for each models\n",
        "    \"\"\"\n",
        "    my_dict = {}\n",
        "    model.fit(X_train,y_train)\n",
        "    # Prediction\n",
        "    pred_y = model.predict(X_test)\n",
        "    my_dict['Accuracy'] = round(accuracy_score(y_test, pred_y),4)*100\n",
        "    my_dict['Precision'] = round(precision_score(y_test, pred_y),4)*100\n",
        "    my_dict['Recall'] = round(recall_score(y_test, pred_y),4)*100\n",
        "    my_dict['F1 Score'] = round(f1_score(y_test, pred_y),4)*100\n",
        "\n",
        "    return my_dict"
      ]
    },
    {
      "cell_type": "code",
      "execution_count": 30,
      "metadata": {
        "id": "Nm1kldnrCVWr"
      },
      "outputs": [],
      "source": [
        "# Model Performane into Dataframe\n",
        "def performance_table(performance_dict):\n",
        "    \"\"\"\n",
        "    This function will create a dataframe of all the performance parameters.\n",
        "\n",
        "    Args:\n",
        "        performance_dict: a dictionary of all the parameters for each models\n",
        "\n",
        "    Returns:\n",
        "        performance_df: a dataframe\n",
        "    \"\"\"\n",
        "\n",
        "    acc_list = []\n",
        "    pr_list = []\n",
        "    re_list = []\n",
        "    f1_list = []\n",
        "    for i in performance_dict.keys():\n",
        "        acc_list.append(performance_dict[i]['Accuracy'])\n",
        "        pr_list.append(performance_dict[i]['Precision'])\n",
        "        re_list.append(performance_dict[i]['Recall'])\n",
        "        f1_list.append(performance_dict[i]['F1 Score'])\n",
        "\n",
        "    # Create a dataframe\n",
        "    model_names = ['LR','DT','RF','MNB','KNN','Linear SVM','RBF SVM','SGD','XGB','GBDT','ETC','BC','ABC']\n",
        "    performance_df = pd.DataFrame({'Accuracy':acc_list,'Precision':pr_list,\n",
        "                                   'Recall':re_list,'F1 Score':f1_list,\n",
        "                                   'Model Name':model_names })\n",
        "    return performance_df"
      ]
    },
    {
      "cell_type": "markdown",
      "metadata": {
        "id": "j-lj5hJ28Vgn"
      },
      "source": [
        "## Model Training"
      ]
    },
    {
      "cell_type": "code",
      "execution_count": 31,
      "metadata": {
        "colab": {
          "base_uri": "https://localhost:8080/"
        },
        "id": "J0Nh7df58XLl",
        "outputId": "475f5322-3a6a-4094-a4f7-6e6f79bf706b"
      },
      "outputs": [
        {
          "name": "stderr",
          "output_type": "stream",
          "text": [
            "c:\\Users\\raquib\\anaconda3\\Lib\\site-packages\\sklearn\\feature_extraction\\text.py:525: UserWarning: The parameter 'token_pattern' will not be used since 'tokenizer' is not None'\n",
            "  warnings.warn(\n"
          ]
        },
        {
          "name": "stdout",
          "output_type": "stream",
          "text": [
            "Feature Size :======> 6375\n",
            "\n",
            "Dataset Distribution:\n",
            "\n",
            "\tSet Name \t\tSize\n",
            "\t========\t\t======\n",
            "\tFull\t\t\t 3886 \n",
            "\tTraining\t\t 3108 \n",
            "\tTest\t\t\t 778\n"
          ]
        },
        {
          "name": "stderr",
          "output_type": "stream",
          "text": [
            "c:\\Users\\raquib\\anaconda3\\Lib\\site-packages\\sklearn\\ensemble\\_weight_boosting.py:519: FutureWarning: The SAMME.R algorithm (the default) is deprecated and will be removed in 1.6. Use the SAMME algorithm to circumvent this warning.\n",
            "  warnings.warn(\n",
            "c:\\Users\\raquib\\anaconda3\\Lib\\site-packages\\sklearn\\feature_extraction\\text.py:525: UserWarning: The parameter 'token_pattern' will not be used since 'tokenizer' is not None'\n",
            "  warnings.warn(\n"
          ]
        },
        {
          "name": "stdout",
          "output_type": "stream",
          "text": [
            "Feature Size :======> 14215\n",
            "\n",
            "Dataset Distribution:\n",
            "\n",
            "\tSet Name \t\tSize\n",
            "\t========\t\t======\n",
            "\tFull\t\t\t 3886 \n",
            "\tTraining\t\t 3108 \n",
            "\tTest\t\t\t 778\n"
          ]
        },
        {
          "name": "stderr",
          "output_type": "stream",
          "text": [
            "c:\\Users\\raquib\\anaconda3\\Lib\\site-packages\\sklearn\\ensemble\\_weight_boosting.py:519: FutureWarning: The SAMME.R algorithm (the default) is deprecated and will be removed in 1.6. Use the SAMME algorithm to circumvent this warning.\n",
            "  warnings.warn(\n",
            "c:\\Users\\raquib\\anaconda3\\Lib\\site-packages\\sklearn\\feature_extraction\\text.py:525: UserWarning: The parameter 'token_pattern' will not be used since 'tokenizer' is not None'\n",
            "  warnings.warn(\n"
          ]
        },
        {
          "name": "stdout",
          "output_type": "stream",
          "text": [
            "Feature Size :======> 13719\n",
            "\n",
            "Dataset Distribution:\n",
            "\n",
            "\tSet Name \t\tSize\n",
            "\t========\t\t======\n",
            "\tFull\t\t\t 3886 \n",
            "\tTraining\t\t 3108 \n",
            "\tTest\t\t\t 778\n"
          ]
        },
        {
          "name": "stderr",
          "output_type": "stream",
          "text": [
            "c:\\Users\\raquib\\anaconda3\\Lib\\site-packages\\sklearn\\ensemble\\_weight_boosting.py:519: FutureWarning: The SAMME.R algorithm (the default) is deprecated and will be removed in 1.6. Use the SAMME algorithm to circumvent this warning.\n",
            "  warnings.warn(\n"
          ]
        }
      ],
      "source": [
        "## save the performance of the model for each gram feature\n",
        "gram_names = ['Unigram','Bigram','Trigram']\n",
        "ngrams = [(1,1),(2,2),(3,3)]\n",
        "for i,gram in enumerate(ngrams):\n",
        "    tfidf,X = calc_gram_tfidf(df.cleaned,gram)\n",
        "    from imblearn.over_sampling import SMOTE\n",
        "    smote = SMOTE(sampling_strategy='minority')\n",
        "    X_sm, y_sm = smote.fit_resample(X, y)\n",
        "    X_train,X_test,y_train,y_test = dataset_split(X_sm,y_sm)\n",
        "    ml_models,model_names = ml_models_defination()\n",
        "    # call model accuracy function and save the metrices into a dictionary\n",
        "    accuracy = {f'{model_names[j]}':model_performace(model,X_train,X_test,y_train,y_test) for j,model in enumerate(ml_models)}\n",
        "    #Save the performance parameter into json file\n",
        "    with open(f'ml_performance_{gram_names[i]}.json', 'w') as f:\n",
        "           json.dump(accuracy, f)"
      ]
    },
    {
      "cell_type": "code",
      "execution_count": 32,
      "metadata": {
        "colab": {
          "base_uri": "https://localhost:8080/",
          "height": 1000
        },
        "id": "VcnHLrT7l3Ql",
        "outputId": "7451ad9a-f2fc-4365-8599-b8bfb7e5a26e"
      },
      "outputs": [
        {
          "data": {
            "image/png": "[encoded data removed]",
            "text/plain": [
              "<Figure size 1000x600 with 1 Axes>"
            ]
          },
          "metadata": {},
          "output_type": "display_data"
        },
        {
          "data": {
            "image/png": "[encoded data removed]",
            "text/plain": [
              "<Figure size 1000x600 with 1 Axes>"
            ]
          },
          "metadata": {},
          "output_type": "display_data"
        },
        {
          "data": {
            "image/png": "[encoded data removed]",
            "text/plain": [
              "<Figure size 1000x600 with 1 Axes>"
            ]
          },
          "metadata": {},
          "output_type": "display_data"
        }
      ],
      "source": [
        "import json\n",
        "import pandas as pd\n",
        "import matplotlib.pyplot as plt\n",
        "\n",
        "gram_names = ['Unigram', 'Bigram', 'Trigram']\n",
        "\n",
        "for gram in gram_names:\n",
        "    accuracy = json.load(open(f'ml_performance_{gram}.json'))\n",
        "    table = performance_table(accuracy)\n",
        "\n",
        "    # Sort the table based on accuracy in descending order\n",
        "    table_sorted = table.sort_values(by='Accuracy', ascending=False).head(4)\n",
        "\n",
        "    # Plotting\n",
        "    plt.figure(figsize=(10, 6))\n",
        "    bars = plt.barh(table_sorted['Model Name'], table_sorted['Accuracy'], color='skyblue')\n",
        "    plt.xlabel('Accuracy')\n",
        "    plt.title(f'Top 4 Models based on Accuracy - {gram} feature')\n",
        "\n",
        "    # Display accuracy values above the bars\n",
        "    for bar in bars:\n",
        "        plt.text(bar.get_width(), bar.get_y() + bar.get_height()/2,\n",
        "                 f'{bar.get_width():.2f}%',\n",
        "                 va='center', ha='left', fontsize=8, color='black')\n",
        "\n",
        "    plt.show()\n"
      ]
    },
    {
      "cell_type": "code",
      "execution_count": 33,
      "metadata": {
        "colab": {
          "base_uri": "https://localhost:8080/"
        },
        "id": "Tbt0SyEcTwBI",
        "outputId": "a7990389-fcd3-4315-c5e9-a798ce9751ba"
      },
      "outputs": [
        {
          "name": "stdout",
          "output_type": "stream",
          "text": [
            "\n",
            "========== Performace Table for Unigram feature:========\n",
            "     Accuracy  Precision  Recall  F1 Score  Model Name\n",
            "0      89.85      88.94   91.00     89.96          LR\n",
            "1      88.43      88.83   87.92     88.37          DT\n",
            "2      93.06      94.67   91.26     92.93          RF\n",
            "3      88.69      82.51   98.20     89.67         MNB\n",
            "4      55.01      52.65   99.74     68.92         KNN\n",
            "5      87.02      88.92   84.58     86.69  Linear SVM\n",
            "6      89.46      89.06   89.97     89.51     RBF SVM\n",
            "7      92.80      90.12   96.14     93.03         SGD\n",
            "8      87.79      92.00   82.78     87.14         XGB\n",
            "9      80.98      88.75   70.95     78.86        GBDT\n",
            "10     94.86      94.40   95.37     94.88         ETC\n",
            "11     90.62      90.51   90.75     90.63          BC\n",
            "12     80.46      84.75   74.29     79.18         ABC\n",
            "\n",
            "========In case of Unigram feature:========\n",
            "\n",
            "Highest Accuracy achieved by ETC at = 94.86\n",
            "Highest F1-Score achieved by ETC at = 94.88\n",
            "Highest Precision Score achieved by RF at = 94.67\n",
            "Highest Recall Score achieved by KNN at = 99.74\n",
            "\n",
            "========== Performace Table for Bigram feature:========\n",
            "     Accuracy  Precision  Recall  F1 Score  Model Name\n",
            "0      90.75      98.47   82.78     89.94          LR\n",
            "1      91.26      97.07   85.09     90.68          DT\n",
            "2      91.65      98.21   84.83     91.03          RF\n",
            "3      78.02      69.75   98.97     81.83         MNB\n",
            "4      53.21      51.66   99.74     68.07         KNN\n",
            "5      83.80      98.88   68.38     80.85  Linear SVM\n",
            "6      88.69      99.02   78.15     87.36     RBF SVM\n",
            "7      93.70      98.02   89.20     93.41         SGD\n",
            "8      89.46      97.82   80.72     88.45         XGB\n",
            "9      85.60      97.92   72.75     83.48        GBDT\n",
            "10     92.54      98.53   86.38     92.05         ETC\n",
            "11     91.26      95.99   86.12     90.79          BC\n",
            "12     89.33      96.36   81.75     88.46         ABC\n",
            "\n",
            "========In case of Bigram feature:========\n",
            "\n",
            "Highest Accuracy achieved by SGD at = 93.7\n",
            "Highest F1-Score achieved by SGD at = 93.41000000000001\n",
            "Highest Precision Score achieved by RBF SVM at = 99.02\n",
            "Highest Recall Score achieved by KNN at = 99.74\n",
            "\n",
            "========== Performace Table for Trigram feature:========\n",
            "     Accuracy  Precision  Recall  F1 Score  Model Name\n",
            "0      88.95      98.71   78.92     87.71          LR\n",
            "1      91.65      98.50   84.58     91.01          DT\n",
            "2      91.26      98.49   83.80     90.56          RF\n",
            "3      63.11      57.54  100.00     73.05         MNB\n",
            "4      52.19      51.12   99.49     67.54         KNN\n",
            "5      83.80      99.25   68.12     80.79  Linear SVM\n",
            "6      86.76      98.64   74.55     84.92     RBF SVM\n",
            "7      92.42      98.25   86.38     91.93         SGD\n",
            "8      88.43     100.00   76.86     86.92         XGB\n",
            "9      86.89     100.00   73.78     84.91        GBDT\n",
            "10     92.03      98.52   85.35     91.46         ETC\n",
            "11     91.52      98.79   84.06     90.83          BC\n",
            "12     90.23      99.37   80.98     89.24         ABC\n",
            "\n",
            "========In case of Trigram feature:========\n",
            "\n",
            "Highest Accuracy achieved by SGD at = 92.42\n",
            "Highest F1-Score achieved by SGD at = 91.93\n",
            "Highest Precision Score achieved by XGB at = 100.0\n",
            "Highest Recall Score achieved by MNB at = 100.0\n"
          ]
        }
      ],
      "source": [
        "# Load all the json files\n",
        "gram_names = ['Unigram','Bigram','Trigram']\n",
        "\n",
        "for gram in gram_names:\n",
        "  accuracy = json.load(open(f'ml_performance_{gram}.json'))\n",
        "  table = performance_table(accuracy)\n",
        "  print(f\"\\n========== Performace Table for {gram} feature:========\\n\",table)\n",
        "  print(f\"\\n========In case of {gram} feature:========\\n\")\n",
        "  print(f\"Highest Accuracy achieved by {table['Model Name'][table.Accuracy.idxmax(axis = 0)]} at = {max(table.Accuracy)}\")\n",
        "  print(f\"Highest F1-Score achieved by {table['Model Name'][table['F1 Score'].idxmax(axis = 0)]} at = {max(table['F1 Score'] )}\")\n",
        "  print(f\"Highest Precision Score achieved by {table['Model Name'][table['Precision'].idxmax(axis = 0)]} at = {max(table['Precision'] )}\")\n",
        "  print(f\"Highest Recall Score achieved by {table['Model Name'][table['Recall'].idxmax(axis = 0)]} at = {max(table['Recall'] )}\")"
      ]
    },
    {
      "cell_type": "code",
      "execution_count": 34,
      "metadata": {
        "colab": {
          "base_uri": "https://localhost:8080/"
        },
        "id": "rCZ_gbAomveI",
        "outputId": "ea820298-6608-457b-d50d-44431a001e16"
      },
      "outputs": [
        {
          "name": "stdout",
          "output_type": "stream",
          "text": [
            "\n",
            "========== Performance Table for Unigram feature:========\n",
            "\n",
            "+--------------+------------+-------------+----------+------------+\n",
            "| Model Name   |   Accuracy |   Precision |   Recall |   F1 Score |\n",
            "+==============+============+=============+==========+============+\n",
            "| LR           |      89.85 |       88.94 |    91    |      89.96 |\n",
            "+--------------+------------+-------------+----------+------------+\n",
            "| DT           |      88.43 |       88.83 |    87.92 |      88.37 |\n",
            "+--------------+------------+-------------+----------+------------+\n",
            "| RF           |      93.06 |       94.67 |    91.26 |      92.93 |\n",
            "+--------------+------------+-------------+----------+------------+\n",
            "| MNB          |      88.69 |       82.51 |    98.2  |      89.67 |\n",
            "+--------------+------------+-------------+----------+------------+\n",
            "| KNN          |      55.01 |       52.65 |    99.74 |      68.92 |\n",
            "+--------------+------------+-------------+----------+------------+\n",
            "| Linear SVM   |      87.02 |       88.92 |    84.58 |      86.69 |\n",
            "+--------------+------------+-------------+----------+------------+\n",
            "| RBF SVM      |      89.46 |       89.06 |    89.97 |      89.51 |\n",
            "+--------------+------------+-------------+----------+------------+\n",
            "| SGD          |      92.8  |       90.12 |    96.14 |      93.03 |\n",
            "+--------------+------------+-------------+----------+------------+\n",
            "| XGB          |      87.79 |       92    |    82.78 |      87.14 |\n",
            "+--------------+------------+-------------+----------+------------+\n",
            "| GBDT         |      80.98 |       88.75 |    70.95 |      78.86 |\n",
            "+--------------+------------+-------------+----------+------------+\n",
            "| ETC          |      94.86 |       94.4  |    95.37 |      94.88 |\n",
            "+--------------+------------+-------------+----------+------------+\n",
            "| BC           |      90.62 |       90.51 |    90.75 |      90.63 |\n",
            "+--------------+------------+-------------+----------+------------+\n",
            "| ABC          |      80.46 |       84.75 |    74.29 |      79.18 |\n",
            "+--------------+------------+-------------+----------+------------+\n",
            "\n",
            "======== In case of Unigram feature:========\n",
            "\n",
            "Highest Accuracy achieved by ETC at = 94.86\n",
            "Highest F1-Score achieved by ETC at = 94.88\n",
            "Highest Precision Score achieved by RF at = 94.67\n",
            "Highest Recall Score achieved by KNN at = 99.74\n",
            "\n",
            "========== Performance Table for Bigram feature:========\n",
            "\n",
            "+--------------+------------+-------------+----------+------------+\n",
            "| Model Name   |   Accuracy |   Precision |   Recall |   F1 Score |\n",
            "+==============+============+=============+==========+============+\n",
            "| LR           |      90.75 |       98.47 |    82.78 |      89.94 |\n",
            "+--------------+------------+-------------+----------+------------+\n",
            "| DT           |      91.26 |       97.07 |    85.09 |      90.68 |\n",
            "+--------------+------------+-------------+----------+------------+\n",
            "| RF           |      91.65 |       98.21 |    84.83 |      91.03 |\n",
            "+--------------+------------+-------------+----------+------------+\n",
            "| MNB          |      78.02 |       69.75 |    98.97 |      81.83 |\n",
            "+--------------+------------+-------------+----------+------------+\n",
            "| KNN          |      53.21 |       51.66 |    99.74 |      68.07 |\n",
            "+--------------+------------+-------------+----------+------------+\n",
            "| Linear SVM   |      83.8  |       98.88 |    68.38 |      80.85 |\n",
            "+--------------+------------+-------------+----------+------------+\n",
            "| RBF SVM      |      88.69 |       99.02 |    78.15 |      87.36 |\n",
            "+--------------+------------+-------------+----------+------------+\n",
            "| SGD          |      93.7  |       98.02 |    89.2  |      93.41 |\n",
            "+--------------+------------+-------------+----------+------------+\n",
            "| XGB          |      89.46 |       97.82 |    80.72 |      88.45 |\n",
            "+--------------+------------+-------------+----------+------------+\n",
            "| GBDT         |      85.6  |       97.92 |    72.75 |      83.48 |\n",
            "+--------------+------------+-------------+----------+------------+\n",
            "| ETC          |      92.54 |       98.53 |    86.38 |      92.05 |\n",
            "+--------------+------------+-------------+----------+------------+\n",
            "| BC           |      91.26 |       95.99 |    86.12 |      90.79 |\n",
            "+--------------+------------+-------------+----------+------------+\n",
            "| ABC          |      89.33 |       96.36 |    81.75 |      88.46 |\n",
            "+--------------+------------+-------------+----------+------------+\n",
            "\n",
            "======== In case of Bigram feature:========\n",
            "\n",
            "Highest Accuracy achieved by SGD at = 93.7\n",
            "Highest F1-Score achieved by SGD at = 93.41\n",
            "Highest Precision Score achieved by RBF SVM at = 99.02\n",
            "Highest Recall Score achieved by KNN at = 99.74\n",
            "\n",
            "========== Performance Table for Trigram feature:========\n",
            "\n",
            "+--------------+------------+-------------+----------+------------+\n",
            "| Model Name   |   Accuracy |   Precision |   Recall |   F1 Score |\n",
            "+==============+============+=============+==========+============+\n",
            "| LR           |      88.95 |       98.71 |    78.92 |      87.71 |\n",
            "+--------------+------------+-------------+----------+------------+\n",
            "| DT           |      91.65 |       98.5  |    84.58 |      91.01 |\n",
            "+--------------+------------+-------------+----------+------------+\n",
            "| RF           |      91.26 |       98.49 |    83.8  |      90.56 |\n",
            "+--------------+------------+-------------+----------+------------+\n",
            "| MNB          |      63.11 |       57.54 |   100    |      73.05 |\n",
            "+--------------+------------+-------------+----------+------------+\n",
            "| KNN          |      52.19 |       51.12 |    99.49 |      67.54 |\n",
            "+--------------+------------+-------------+----------+------------+\n",
            "| Linear SVM   |      83.8  |       99.25 |    68.12 |      80.79 |\n",
            "+--------------+------------+-------------+----------+------------+\n",
            "| RBF SVM      |      86.76 |       98.64 |    74.55 |      84.92 |\n",
            "+--------------+------------+-------------+----------+------------+\n",
            "| SGD          |      92.42 |       98.25 |    86.38 |      91.93 |\n",
            "+--------------+------------+-------------+----------+------------+\n",
            "| XGB          |      88.43 |      100    |    76.86 |      86.92 |\n",
            "+--------------+------------+-------------+----------+------------+\n",
            "| GBDT         |      86.89 |      100    |    73.78 |      84.91 |\n",
            "+--------------+------------+-------------+----------+------------+\n",
            "| ETC          |      92.03 |       98.52 |    85.35 |      91.46 |\n",
            "+--------------+------------+-------------+----------+------------+\n",
            "| BC           |      91.52 |       98.79 |    84.06 |      90.83 |\n",
            "+--------------+------------+-------------+----------+------------+\n",
            "| ABC          |      90.23 |       99.37 |    80.98 |      89.24 |\n",
            "+--------------+------------+-------------+----------+------------+\n",
            "\n",
            "======== In case of Trigram feature:========\n",
            "\n",
            "Highest Accuracy achieved by SGD at = 92.42\n",
            "Highest F1-Score achieved by SGD at = 91.93\n",
            "Highest Precision Score achieved by XGB at = 100.0\n",
            "Highest Recall Score achieved by MNB at = 100.0\n"
          ]
        }
      ],
      "source": [
        "from tabulate import tabulate\n",
        "\n",
        "gram_names = ['Unigram', 'Bigram', 'Trigram']\n",
        "\n",
        "for gram in gram_names:\n",
        "    accuracy = json.load(open(f'ml_performance_{gram}.json'))\n",
        "    table = performance_table(accuracy)\n",
        "\n",
        "    # Display performance table\n",
        "    print(f\"\\n========== Performance Table for {gram} feature:========\\n\")\n",
        "    headers = [\"Model Name\", \"Accuracy\", \"Precision\", \"Recall\", \"F1 Score\"]\n",
        "    data = table[headers].values\n",
        "    print(tabulate(data, headers=headers, tablefmt=\"grid\"))\n",
        "\n",
        "    # Display additional information\n",
        "    print(f\"\\n======== In case of {gram} feature:========\\n\")\n",
        "    highest_accuracy_model = table.loc[table['Accuracy'].idxmax(axis=0)]['Model Name']\n",
        "    highest_f1_model = table.loc[table['F1 Score'].idxmax(axis=0)]['Model Name']\n",
        "    highest_precision_model = table.loc[table['Precision'].idxmax(axis=0)]['Model Name']\n",
        "    highest_recall_model = table.loc[table['Recall'].idxmax(axis=0)]['Model Name']\n",
        "\n",
        "    print(f\"Highest Accuracy achieved by {highest_accuracy_model} at = {round(max(table['Accuracy']), 2)}\")\n",
        "    print(f\"Highest F1-Score achieved by {highest_f1_model} at = {round(max(table['F1 Score']), 2)}\")\n",
        "    print(f\"Highest Precision Score achieved by {highest_precision_model} at = {round(max(table['Precision']), 2)}\")\n",
        "    print(f\"Highest Recall Score achieved by {highest_recall_model} at = {round(max(table['Recall']), 2)}\")\n"
      ]
    },
    {
      "cell_type": "markdown",
      "metadata": {},
      "source": [
        "## Showing one classifer's classification report and confusion matrix"
      ]
    },
    {
      "cell_type": "code",
      "execution_count": 35,
      "metadata": {
        "colab": {
          "base_uri": "https://localhost:8080/"
        },
        "id": "TCKL-AR_pvjb",
        "outputId": "425b9e76-951d-448d-929c-83db380ae119"
      },
      "outputs": [
        {
          "name": "stderr",
          "output_type": "stream",
          "text": [
            "c:\\Users\\raquib\\anaconda3\\Lib\\site-packages\\sklearn\\feature_extraction\\text.py:525: UserWarning: The parameter 'token_pattern' will not be used since 'tokenizer' is not None'\n",
            "  warnings.warn(\n"
          ]
        }
      ],
      "source": [
        "X=df['cleaned'].values\n",
        "tfidf = TfidfVectorizer(ngram_range=(1,1),use_idf=True,tokenizer=lambda x: x.split())\n",
        "X = tfidf.fit_transform(X)"
      ]
    },
    {
      "cell_type": "code",
      "execution_count": 36,
      "metadata": {
        "id": "SRrOdCqxqEl5"
      },
      "outputs": [],
      "source": [
        "from imblearn.over_sampling import SMOTE\n",
        "smote = SMOTE(sampling_strategy='minority')\n",
        "X_sm, y_sm = smote.fit_resample(X, y)"
      ]
    },
    {
      "cell_type": "code",
      "execution_count": 37,
      "metadata": {
        "id": "dfxbdS5Ko_lZ"
      },
      "outputs": [],
      "source": [
        "X_train, X_test, y_train, y_test = train_test_split(X_sm, y_sm, test_size=0.2, random_state=15, stratify=y_sm)"
      ]
    },
    {
      "cell_type": "code",
      "execution_count": 38,
      "metadata": {
        "colab": {
          "base_uri": "https://localhost:8080/"
        },
        "id": "DKToYae5or4z",
        "outputId": "b835c903-2ed4-484d-c603-12a0d3aaa290"
      },
      "outputs": [
        {
          "name": "stdout",
          "output_type": "stream",
          "text": [
            "94.86\n"
          ]
        }
      ],
      "source": [
        "etc = ExtraTreesClassifier(n_estimators=50, random_state=2)\n",
        "etc.fit(X_train,y_train)\n",
        "    # Prediction\n",
        "pred_y = etc.predict(X_test)\n",
        "Accuracy = round(accuracy_score(y_test, pred_y),4)*100\n",
        "print(Accuracy)"
      ]
    },
    {
      "cell_type": "code",
      "execution_count": 39,
      "metadata": {
        "colab": {
          "base_uri": "https://localhost:8080/"
        },
        "id": "0nfyJ_lmAotE",
        "outputId": "4a0757ca-c870-4fd2-e2eb-64d288879dc5"
      },
      "outputs": [
        {
          "name": "stdout",
          "output_type": "stream",
          "text": [
            "Classification Report:\n",
            "              precision    recall  f1-score   support\n",
            "\n",
            "           0       0.96      0.94      0.95       389\n",
            "           1       0.94      0.96      0.95       389\n",
            "\n",
            "    accuracy                           0.95       778\n",
            "   macro avg       0.95      0.95      0.95       778\n",
            "weighted avg       0.95      0.95      0.95       778\n",
            "\n"
          ]
        }
      ],
      "source": [
        "report = classification_report(y_test, pred_y)\n",
        "print(\"Classification Report:\")\n",
        "print(report)"
      ]
    },
    {
      "cell_type": "code",
      "execution_count": 40,
      "metadata": {
        "colab": {
          "base_uri": "https://localhost:8080/",
          "height": 472
        },
        "id": "lrv_E-WoqZvw",
        "outputId": "4acc7cd3-6109-4ebb-f3a7-47feafa8a3c1"
      },
      "outputs": [
        {
          "data": {
            "image/png": "[encoded data removed]",
            "text/plain": [
              "<Figure size 640x480 with 2 Axes>"
            ]
          },
          "metadata": {},
          "output_type": "display_data"
        }
      ],
      "source": [
        "from sklearn.metrics import confusion_matrix\n",
        "conf_matrix = confusion_matrix(y_test, pred_y)\n",
        "sns.heatmap(conf_matrix, annot=True, fmt='d', cmap='Blues')\n",
        "plt.xlabel('Predicted')\n",
        "plt.ylabel('Actual')\n",
        "plt.title('Confusion Matrix')\n",
        "plt.show()"
      ]
    },
    {
      "cell_type": "markdown",
      "metadata": {},
      "source": [
        "## Performing grid search for searching best parameters for one model"
      ]
    },
    {
      "cell_type": "code",
      "execution_count": 41,
      "metadata": {
        "colab": {
          "base_uri": "https://localhost:8080/"
        },
        "id": "VGdCo6B9C7Mb",
        "outputId": "774164bf-83ae-473d-dc1e-0bbb2736ea5e"
      },
      "outputs": [
        {
          "name": "stdout",
          "output_type": "stream",
          "text": [
            "94.86\n"
          ]
        }
      ],
      "source": [
        "# Random Forest model\n",
        "rf_model = RandomForestClassifier(n_estimators=100, criterion ='entropy', random_state = 0)\n",
        "rf_model.fit(X_train,y_train)\n",
        "    # Prediction\n",
        "pred_y = etc.predict(X_test)\n",
        "Accuracy = round(accuracy_score(y_test, pred_y),4)*100\n",
        "print(Accuracy)"
      ]
    },
    {
      "cell_type": "markdown",
      "metadata": {},
      "source": [
        "The accuracy is 94.6%"
      ]
    },
    {
      "cell_type": "code",
      "execution_count": 42,
      "metadata": {
        "colab": {
          "base_uri": "https://localhost:8080/"
        },
        "id": "3KB21RmIDd-q",
        "outputId": "e6f03369-d84a-460d-c0b4-53023378d9b0"
      },
      "outputs": [
        {
          "name": "stdout",
          "output_type": "stream",
          "text": [
            "Classification Report:\n",
            "              precision    recall  f1-score   support\n",
            "\n",
            "           0       0.96      0.94      0.95       389\n",
            "           1       0.94      0.96      0.95       389\n",
            "\n",
            "    accuracy                           0.95       778\n",
            "   macro avg       0.95      0.95      0.95       778\n",
            "weighted avg       0.95      0.95      0.95       778\n",
            "\n"
          ]
        }
      ],
      "source": [
        "report = classification_report(y_test, pred_y)\n",
        "print(\"Classification Report:\")\n",
        "print(report)"
      ]
    },
    {
      "cell_type": "code",
      "execution_count": 43,
      "metadata": {
        "id": "46LCex-REDQN"
      },
      "outputs": [],
      "source": [
        "import sklearn.model_selection"
      ]
    },
    {
      "cell_type": "code",
      "execution_count": 44,
      "metadata": {
        "colab": {
          "base_uri": "https://localhost:8080/"
        },
        "id": "BFx4Otf0DoPD",
        "outputId": "9db36d8f-8a3f-4836-a823-2801f33d3592"
      },
      "outputs": [
        {
          "name": "stdout",
          "output_type": "stream",
          "text": [
            "Accuracy : 0.9266372782906338\n",
            "Standard Variance : 0.013341170576586644\n"
          ]
        }
      ],
      "source": [
        "accuracies = sklearn.model_selection.cross_val_score(estimator = rf_model, X = X_train, y = y_train, cv = 10)\n",
        "\n",
        "print(\"Accuracy :\", accuracies.mean())\n",
        "print(\"Standard Variance :\", accuracies.std())"
      ]
    },
    {
      "cell_type": "code",
      "execution_count": 45,
      "metadata": {
        "id": "51a_a2ObEMYc"
      },
      "outputs": [],
      "source": [
        "params = {\n",
        "    'bootstrap': [True],\n",
        "    'max_depth': [80, 100, 120, 150],\n",
        "    'min_samples_split': [8, 12, 16],\n",
        "    'n_estimators': [100, 300, 500]\n",
        "}"
      ]
    },
    {
      "cell_type": "code",
      "execution_count": 46,
      "metadata": {
        "id": "wpWCtFahErtr"
      },
      "outputs": [],
      "source": [
        "from sklearn.model_selection import GridSearchCV"
      ]
    },
    {
      "cell_type": "code",
      "execution_count": 47,
      "metadata": {
        "colab": {
          "base_uri": "https://localhost:8080/",
          "height": 140
        },
        "id": "34iJKQn9ET_r",
        "outputId": "e6d6971a-0d99-4b9b-a1ee-7b9956c8c0cd"
      },
      "outputs": [
        {
          "data": {
            "text/html": [
              "<style>#sk-container-id-1 {\n",
              "  /* Definition of color scheme common for light and dark mode */\n",
              "  --sklearn-color-text: black;\n",
              "  --sklearn-color-line: gray;\n",
              "  /* Definition of color scheme for unfitted estimators */\n",
              "  --sklearn-color-unfitted-level-0: #fff5e6;\n",
              "  --sklearn-color-unfitted-level-1: #f6e4d2;\n",
              "  --sklearn-color-unfitted-level-2: #ffe0b3;\n",
              "  --sklearn-color-unfitted-level-3: chocolate;\n",
              "  /* Definition of color scheme for fitted estimators */\n",
              "  --sklearn-color-fitted-level-0: #f0f8ff;\n",
              "  --sklearn-color-fitted-level-1: #d4ebff;\n",
              "  --sklearn-color-fitted-level-2: #b3dbfd;\n",
              "  --sklearn-color-fitted-level-3: cornflowerblue;\n",
              "\n",
              "  /* Specific color for light theme */\n",
              "  --sklearn-color-text-on-default-background: var(--sg-text-color, var(--theme-code-foreground, var(--jp-content-font-color1, black)));\n",
              "  --sklearn-color-background: var(--sg-background-color, var(--theme-background, var(--jp-layout-color0, white)));\n",
              "  --sklearn-color-border-box: var(--sg-text-color, var(--theme-code-foreground, var(--jp-content-font-color1, black)));\n",
              "  --sklearn-color-icon: #696969;\n",
              "\n",
              "  @media (prefers-color-scheme: dark) {\n",
              "    /* Redefinition of color scheme for dark theme */\n",
              "    --sklearn-color-text-on-default-background: var(--sg-text-color, var(--theme-code-foreground, var(--jp-content-font-color1, white)));\n",
              "    --sklearn-color-background: var(--sg-background-color, var(--theme-background, var(--jp-layout-color0, #111)));\n",
              "    --sklearn-color-border-box: var(--sg-text-color, var(--theme-code-foreground, var(--jp-content-font-color1, white)));\n",
              "    --sklearn-color-icon: #878787;\n",
              "  }\n",
              "}\n",
              "\n",
              "#sk-container-id-1 {\n",
              "  color: var(--sklearn-color-text);\n",
              "}\n",
              "\n",
              "#sk-container-id-1 pre {\n",
              "  padding: 0;\n",
              "}\n",
              "\n",
              "#sk-container-id-1 input.sk-hidden--visually {\n",
              "  border: 0;\n",
              "  clip: rect(1px 1px 1px 1px);\n",
              "  clip: rect(1px, 1px, 1px, 1px);\n",
              "  height: 1px;\n",
              "  margin: -1px;\n",
              "  overflow: hidden;\n",
              "  padding: 0;\n",
              "  position: absolute;\n",
              "  width: 1px;\n",
              "}\n",
              "\n",
              "#sk-container-id-1 div.sk-dashed-wrapped {\n",
              "  border: 1px dashed var(--sklearn-color-line);\n",
              "  margin: 0 0.4em 0.5em 0.4em;\n",
              "  box-sizing: border-box;\n",
              "  padding-bottom: 0.4em;\n",
              "  background-color: var(--sklearn-color-background);\n",
              "}\n",
              "\n",
              "#sk-container-id-1 div.sk-container {\n",
              "  /* jupyter's `normalize.less` sets `[hidden] { display: none; }`\n",
              "     but bootstrap.min.css set `[hidden] { display: none !important; }`\n",
              "     so we also need the `!important` here to be able to override the\n",
              "     default hidden behavior on the sphinx rendered scikit-learn.org.\n",
              "     See: https://github.com/scikit-learn/scikit-learn/issues/21755 */\n",
              "  display: inline-block !important;\n",
              "  position: relative;\n",
              "}\n",
              "\n",
              "#sk-container-id-1 div.sk-text-repr-fallback {\n",
              "  display: none;\n",
              "}\n",
              "\n",
              "div.sk-parallel-item,\n",
              "div.sk-serial,\n",
              "div.sk-item {\n",
              "  /* draw centered vertical line to link estimators */\n",
              "  background-image: linear-gradient(var(--sklearn-color-text-on-default-background), var(--sklearn-color-text-on-default-background));\n",
              "  background-size: 2px 100%;\n",
              "  background-repeat: no-repeat;\n",
              "  background-position: center center;\n",
              "}\n",
              "\n",
              "/* Parallel-specific style estimator block */\n",
              "\n",
              "#sk-container-id-1 div.sk-parallel-item::after {\n",
              "  content: \"\";\n",
              "  width: 100%;\n",
              "  border-bottom: 2px solid var(--sklearn-color-text-on-default-background);\n",
              "  flex-grow: 1;\n",
              "}\n",
              "\n",
              "#sk-container-id-1 div.sk-parallel {\n",
              "  display: flex;\n",
              "  align-items: stretch;\n",
              "  justify-content: center;\n",
              "  background-color: var(--sklearn-color-background);\n",
              "  position: relative;\n",
              "}\n",
              "\n",
              "#sk-container-id-1 div.sk-parallel-item {\n",
              "  display: flex;\n",
              "  flex-direction: column;\n",
              "}\n",
              "\n",
              "#sk-container-id-1 div.sk-parallel-item:first-child::after {\n",
              "  align-self: flex-end;\n",
              "  width: 50%;\n",
              "}\n",
              "\n",
              "#sk-container-id-1 div.sk-parallel-item:last-child::after {\n",
              "  align-self: flex-start;\n",
              "  width: 50%;\n",
              "}\n",
              "\n",
              "#sk-container-id-1 div.sk-parallel-item:only-child::after {\n",
              "  width: 0;\n",
              "}\n",
              "\n",
              "/* Serial-specific style estimator block */\n",
              "\n",
              "#sk-container-id-1 div.sk-serial {\n",
              "  display: flex;\n",
              "  flex-direction: column;\n",
              "  align-items: center;\n",
              "  background-color: var(--sklearn-color-background);\n",
              "  padding-right: 1em;\n",
              "  padding-left: 1em;\n",
              "}\n",
              "\n",
              "\n",
              "/* Toggleable style: style used for estimator/Pipeline/ColumnTransformer box that is\n",
              "clickable and can be expanded/collapsed.\n",
              "- Pipeline and ColumnTransformer use this feature and define the default style\n",
              "- Estimators will overwrite some part of the style using the `sk-estimator` class\n",
              "*/\n",
              "\n",
              "/* Pipeline and ColumnTransformer style (default) */\n",
              "\n",
              "#sk-container-id-1 div.sk-toggleable {\n",
              "  /* Default theme specific background. It is overwritten whether we have a\n",
              "  specific estimator or a Pipeline/ColumnTransformer */\n",
              "  background-color: var(--sklearn-color-background);\n",
              "}\n",
              "\n",
              "/* Toggleable label */\n",
              "#sk-container-id-1 label.sk-toggleable__label {\n",
              "  cursor: pointer;\n",
              "  display: block;\n",
              "  width: 100%;\n",
              "  margin-bottom: 0;\n",
              "  padding: 0.5em;\n",
              "  box-sizing: border-box;\n",
              "  text-align: center;\n",
              "}\n",
              "\n",
              "#sk-container-id-1 label.sk-toggleable__label-arrow:before {\n",
              "  /* Arrow on the left of the label */\n",
              "  content: \"▸\";\n",
              "  float: left;\n",
              "  margin-right: 0.25em;\n",
              "  color: var(--sklearn-color-icon);\n",
              "}\n",
              "\n",
              "#sk-container-id-1 label.sk-toggleable__label-arrow:hover:before {\n",
              "  color: var(--sklearn-color-text);\n",
              "}\n",
              "\n",
              "/* Toggleable content - dropdown */\n",
              "\n",
              "#sk-container-id-1 div.sk-toggleable__content {\n",
              "  max-height: 0;\n",
              "  max-width: 0;\n",
              "  overflow: hidden;\n",
              "  text-align: left;\n",
              "  /* unfitted */\n",
              "  background-color: var(--sklearn-color-unfitted-level-0);\n",
              "}\n",
              "\n",
              "#sk-container-id-1 div.sk-toggleable__content.fitted {\n",
              "  /* fitted */\n",
              "  background-color: var(--sklearn-color-fitted-level-0);\n",
              "}\n",
              "\n",
              "#sk-container-id-1 div.sk-toggleable__content pre {\n",
              "  margin: 0.2em;\n",
              "  border-radius: 0.25em;\n",
              "  color: var(--sklearn-color-text);\n",
              "  /* unfitted */\n",
              "  background-color: var(--sklearn-color-unfitted-level-0);\n",
              "}\n",
              "\n",
              "#sk-container-id-1 div.sk-toggleable__content.fitted pre {\n",
              "  /* unfitted */\n",
              "  background-color: var(--sklearn-color-fitted-level-0);\n",
              "}\n",
              "\n",
              "#sk-container-id-1 input.sk-toggleable__control:checked~div.sk-toggleable__content {\n",
              "  /* Expand drop-down */\n",
              "  max-height: 200px;\n",
              "  max-width: 100%;\n",
              "  overflow: auto;\n",
              "}\n",
              "\n",
              "#sk-container-id-1 input.sk-toggleable__control:checked~label.sk-toggleable__label-arrow:before {\n",
              "  content: \"▾\";\n",
              "}\n",
              "\n",
              "/* Pipeline/ColumnTransformer-specific style */\n",
              "\n",
              "#sk-container-id-1 div.sk-label input.sk-toggleable__control:checked~label.sk-toggleable__label {\n",
              "  color: var(--sklearn-color-text);\n",
              "  background-color: var(--sklearn-color-unfitted-level-2);\n",
              "}\n",
              "\n",
              "#sk-container-id-1 div.sk-label.fitted input.sk-toggleable__control:checked~label.sk-toggleable__label {\n",
              "  background-color: var(--sklearn-color-fitted-level-2);\n",
              "}\n",
              "\n",
              "/* Estimator-specific style */\n",
              "\n",
              "/* Colorize estimator box */\n",
              "#sk-container-id-1 div.sk-estimator input.sk-toggleable__control:checked~label.sk-toggleable__label {\n",
              "  /* unfitted */\n",
              "  background-color: var(--sklearn-color-unfitted-level-2);\n",
              "}\n",
              "\n",
              "#sk-container-id-1 div.sk-estimator.fitted input.sk-toggleable__control:checked~label.sk-toggleable__label {\n",
              "  /* fitted */\n",
              "  background-color: var(--sklearn-color-fitted-level-2);\n",
              "}\n",
              "\n",
              "#sk-container-id-1 div.sk-label label.sk-toggleable__label,\n",
              "#sk-container-id-1 div.sk-label label {\n",
              "  /* The background is the default theme color */\n",
              "  color: var(--sklearn-color-text-on-default-background);\n",
              "}\n",
              "\n",
              "/* On hover, darken the color of the background */\n",
              "#sk-container-id-1 div.sk-label:hover label.sk-toggleable__label {\n",
              "  color: var(--sklearn-color-text);\n",
              "  background-color: var(--sklearn-color-unfitted-level-2);\n",
              "}\n",
              "\n",
              "/* Label box, darken color on hover, fitted */\n",
              "#sk-container-id-1 div.sk-label.fitted:hover label.sk-toggleable__label.fitted {\n",
              "  color: var(--sklearn-color-text);\n",
              "  background-color: var(--sklearn-color-fitted-level-2);\n",
              "}\n",
              "\n",
              "/* Estimator label */\n",
              "\n",
              "#sk-container-id-1 div.sk-label label {\n",
              "  font-family: monospace;\n",
              "  font-weight: bold;\n",
              "  display: inline-block;\n",
              "  line-height: 1.2em;\n",
              "}\n",
              "\n",
              "#sk-container-id-1 div.sk-label-container {\n",
              "  text-align: center;\n",
              "}\n",
              "\n",
              "/* Estimator-specific */\n",
              "#sk-container-id-1 div.sk-estimator {\n",
              "  font-family: monospace;\n",
              "  border: 1px dotted var(--sklearn-color-border-box);\n",
              "  border-radius: 0.25em;\n",
              "  box-sizing: border-box;\n",
              "  margin-bottom: 0.5em;\n",
              "  /* unfitted */\n",
              "  background-color: var(--sklearn-color-unfitted-level-0);\n",
              "}\n",
              "\n",
              "#sk-container-id-1 div.sk-estimator.fitted {\n",
              "  /* fitted */\n",
              "  background-color: var(--sklearn-color-fitted-level-0);\n",
              "}\n",
              "\n",
              "/* on hover */\n",
              "#sk-container-id-1 div.sk-estimator:hover {\n",
              "  /* unfitted */\n",
              "  background-color: var(--sklearn-color-unfitted-level-2);\n",
              "}\n",
              "\n",
              "#sk-container-id-1 div.sk-estimator.fitted:hover {\n",
              "  /* fitted */\n",
              "  background-color: var(--sklearn-color-fitted-level-2);\n",
              "}\n",
              "\n",
              "/* Specification for estimator info (e.g. \"i\" and \"?\") */\n",
              "\n",
              "/* Common style for \"i\" and \"?\" */\n",
              "\n",
              ".sk-estimator-doc-link,\n",
              "a:link.sk-estimator-doc-link,\n",
              "a:visited.sk-estimator-doc-link {\n",
              "  float: right;\n",
              "  font-size: smaller;\n",
              "  line-height: 1em;\n",
              "  font-family: monospace;\n",
              "  background-color: var(--sklearn-color-background);\n",
              "  border-radius: 1em;\n",
              "  height: 1em;\n",
              "  width: 1em;\n",
              "  text-decoration: none !important;\n",
              "  margin-left: 1ex;\n",
              "  /* unfitted */\n",
              "  border: var(--sklearn-color-unfitted-level-1) 1pt solid;\n",
              "  color: var(--sklearn-color-unfitted-level-1);\n",
              "}\n",
              "\n",
              ".sk-estimator-doc-link.fitted,\n",
              "a:link.sk-estimator-doc-link.fitted,\n",
              "a:visited.sk-estimator-doc-link.fitted {\n",
              "  /* fitted */\n",
              "  border: var(--sklearn-color-fitted-level-1) 1pt solid;\n",
              "  color: var(--sklearn-color-fitted-level-1);\n",
              "}\n",
              "\n",
              "/* On hover */\n",
              "div.sk-estimator:hover .sk-estimator-doc-link:hover,\n",
              ".sk-estimator-doc-link:hover,\n",
              "div.sk-label-container:hover .sk-estimator-doc-link:hover,\n",
              ".sk-estimator-doc-link:hover {\n",
              "  /* unfitted */\n",
              "  background-color: var(--sklearn-color-unfitted-level-3);\n",
              "  color: var(--sklearn-color-background);\n",
              "  text-decoration: none;\n",
              "}\n",
              "\n",
              "div.sk-estimator.fitted:hover .sk-estimator-doc-link.fitted:hover,\n",
              ".sk-estimator-doc-link.fitted:hover,\n",
              "div.sk-label-container:hover .sk-estimator-doc-link.fitted:hover,\n",
              ".sk-estimator-doc-link.fitted:hover {\n",
              "  /* fitted */\n",
              "  background-color: var(--sklearn-color-fitted-level-3);\n",
              "  color: var(--sklearn-color-background);\n",
              "  text-decoration: none;\n",
              "}\n",
              "\n",
              "/* Span, style for the box shown on hovering the info icon */\n",
              ".sk-estimator-doc-link span {\n",
              "  display: none;\n",
              "  z-index: 9999;\n",
              "  position: relative;\n",
              "  font-weight: normal;\n",
              "  right: .2ex;\n",
              "  padding: .5ex;\n",
              "  margin: .5ex;\n",
              "  width: min-content;\n",
              "  min-width: 20ex;\n",
              "  max-width: 50ex;\n",
              "  color: var(--sklearn-color-text);\n",
              "  box-shadow: 2pt 2pt 4pt #999;\n",
              "  /* unfitted */\n",
              "  background: var(--sklearn-color-unfitted-level-0);\n",
              "  border: .5pt solid var(--sklearn-color-unfitted-level-3);\n",
              "}\n",
              "\n",
              ".sk-estimator-doc-link.fitted span {\n",
              "  /* fitted */\n",
              "  background: var(--sklearn-color-fitted-level-0);\n",
              "  border: var(--sklearn-color-fitted-level-3);\n",
              "}\n",
              "\n",
              ".sk-estimator-doc-link:hover span {\n",
              "  display: block;\n",
              "}\n",
              "\n",
              "/* \"?\"-specific style due to the `<a>` HTML tag */\n",
              "\n",
              "#sk-container-id-1 a.estimator_doc_link {\n",
              "  float: right;\n",
              "  font-size: 1rem;\n",
              "  line-height: 1em;\n",
              "  font-family: monospace;\n",
              "  background-color: var(--sklearn-color-background);\n",
              "  border-radius: 1rem;\n",
              "  height: 1rem;\n",
              "  width: 1rem;\n",
              "  text-decoration: none;\n",
              "  /* unfitted */\n",
              "  color: var(--sklearn-color-unfitted-level-1);\n",
              "  border: var(--sklearn-color-unfitted-level-1) 1pt solid;\n",
              "}\n",
              "\n",
              "#sk-container-id-1 a.estimator_doc_link.fitted {\n",
              "  /* fitted */\n",
              "  border: var(--sklearn-color-fitted-level-1) 1pt solid;\n",
              "  color: var(--sklearn-color-fitted-level-1);\n",
              "}\n",
              "\n",
              "/* On hover */\n",
              "#sk-container-id-1 a.estimator_doc_link:hover {\n",
              "  /* unfitted */\n",
              "  background-color: var(--sklearn-color-unfitted-level-3);\n",
              "  color: var(--sklearn-color-background);\n",
              "  text-decoration: none;\n",
              "}\n",
              "\n",
              "#sk-container-id-1 a.estimator_doc_link.fitted:hover {\n",
              "  /* fitted */\n",
              "  background-color: var(--sklearn-color-fitted-level-3);\n",
              "}\n",
              "</style><div id=\"sk-container-id-1\" class=\"sk-top-container\"><div class=\"sk-text-repr-fallback\"><pre>GridSearchCV(cv=StratifiedKFold(n_splits=2, random_state=None, shuffle=False),\n",
              "             estimator=RandomForestClassifier(criterion=&#x27;entropy&#x27;,\n",
              "                                              random_state=0),\n",
              "             param_grid={&#x27;bootstrap&#x27;: [True], &#x27;max_depth&#x27;: [80, 100, 120, 150],\n",
              "                         &#x27;min_samples_split&#x27;: [8, 12, 16],\n",
              "                         &#x27;n_estimators&#x27;: [100, 300, 500]},\n",
              "             return_train_score=True)</pre><b>In a Jupyter environment, please rerun this cell to show the HTML representation or trust the notebook. <br />On GitHub, the HTML representation is unable to render, please try loading this page with nbviewer.org.</b></div><div class=\"sk-container\" hidden><div class=\"sk-item sk-dashed-wrapped\"><div class=\"sk-label-container\"><div class=\"sk-label fitted sk-toggleable\"><input class=\"sk-toggleable__control sk-hidden--visually\" id=\"sk-estimator-id-1\" type=\"checkbox\" ><label for=\"sk-estimator-id-1\" class=\"sk-toggleable__label fitted sk-toggleable__label-arrow fitted\">&nbsp;&nbsp;GridSearchCV<a class=\"sk-estimator-doc-link fitted\" rel=\"noreferrer\" target=\"_blank\" href=\"https://scikit-learn.org/1.4/modules/generated/sklearn.model_selection.GridSearchCV.html\">?<span>Documentation for GridSearchCV</span></a><span class=\"sk-estimator-doc-link fitted\">i<span>Fitted</span></span></label><div class=\"sk-toggleable__content fitted\"><pre>GridSearchCV(cv=StratifiedKFold(n_splits=2, random_state=None, shuffle=False),\n",
              "             estimator=RandomForestClassifier(criterion=&#x27;entropy&#x27;,\n",
              "                                              random_state=0),\n",
              "             param_grid={&#x27;bootstrap&#x27;: [True], &#x27;max_depth&#x27;: [80, 100, 120, 150],\n",
              "                         &#x27;min_samples_split&#x27;: [8, 12, 16],\n",
              "                         &#x27;n_estimators&#x27;: [100, 300, 500]},\n",
              "             return_train_score=True)</pre></div> </div></div><div class=\"sk-parallel\"><div class=\"sk-parallel-item\"><div class=\"sk-item\"><div class=\"sk-label-container\"><div class=\"sk-label fitted sk-toggleable\"><input class=\"sk-toggleable__control sk-hidden--visually\" id=\"sk-estimator-id-2\" type=\"checkbox\" ><label for=\"sk-estimator-id-2\" class=\"sk-toggleable__label fitted sk-toggleable__label-arrow fitted\">estimator: RandomForestClassifier</label><div class=\"sk-toggleable__content fitted\"><pre>RandomForestClassifier(criterion=&#x27;entropy&#x27;, random_state=0)</pre></div> </div></div><div class=\"sk-serial\"><div class=\"sk-item\"><div class=\"sk-estimator fitted sk-toggleable\"><input class=\"sk-toggleable__control sk-hidden--visually\" id=\"sk-estimator-id-3\" type=\"checkbox\" ><label for=\"sk-estimator-id-3\" class=\"sk-toggleable__label fitted sk-toggleable__label-arrow fitted\">&nbsp;RandomForestClassifier<a class=\"sk-estimator-doc-link fitted\" rel=\"noreferrer\" target=\"_blank\" href=\"https://scikit-learn.org/1.4/modules/generated/sklearn.ensemble.RandomForestClassifier.html\">?<span>Documentation for RandomForestClassifier</span></a></label><div class=\"sk-toggleable__content fitted\"><pre>RandomForestClassifier(criterion=&#x27;entropy&#x27;, random_state=0)</pre></div> </div></div></div></div></div></div></div></div></div>"
            ],
            "text/plain": [
              "GridSearchCV(cv=StratifiedKFold(n_splits=2, random_state=None, shuffle=False),\n",
              "             estimator=RandomForestClassifier(criterion='entropy',\n",
              "                                              random_state=0),\n",
              "             param_grid={'bootstrap': [True], 'max_depth': [80, 100, 120, 150],\n",
              "                         'min_samples_split': [8, 12, 16],\n",
              "                         'n_estimators': [100, 300, 500]},\n",
              "             return_train_score=True)"
            ]
          },
          "execution_count": 47,
          "metadata": {},
          "output_type": "execute_result"
        }
      ],
      "source": [
        "cv_object = sklearn.model_selection.StratifiedKFold(n_splits = 2)\n",
        "\n",
        "grid_search = GridSearchCV(estimator = rf_model, param_grid = params, cv = cv_object, verbose = 0, return_train_score = True)\n",
        "grid_search.fit(X_train, y_train.ravel())"
      ]
    },
    {
      "cell_type": "code",
      "execution_count": 48,
      "metadata": {
        "colab": {
          "base_uri": "https://localhost:8080/"
        },
        "id": "bj8_tJ71E4IO",
        "outputId": "7dd47f9c-712c-429f-e53e-69477a6fd063"
      },
      "outputs": [
        {
          "name": "stdout",
          "output_type": "stream",
          "text": [
            "Best Parameter Combination : {'bootstrap': True, 'max_depth': 150, 'min_samples_split': 16, 'n_estimators': 300}\n"
          ]
        }
      ],
      "source": [
        "print(\"Best Parameter Combination : {}\".format(grid_search.best_params_))"
      ]
    },
    {
      "cell_type": "code",
      "execution_count": 49,
      "metadata": {
        "colab": {
          "base_uri": "https://localhost:8080/"
        },
        "id": "dcL_orVjFkHf",
        "outputId": "95755991-c2e6-4ff7-9716-64b77292522b"
      },
      "outputs": [
        {
          "name": "stdout",
          "output_type": "stream",
          "text": [
            "Cross validation mean accuracy on train set : 98.40554840554839\n",
            "Cross validation mean accuracy on test set : 89.73616473616472\n",
            "Accuracy score for test set : 0.9485861182519281\n"
          ]
        }
      ],
      "source": [
        "print(\"Cross validation mean accuracy on train set : {}\".format(grid_search.cv_results_['mean_train_score'].mean()*100))\n",
        "print(\"Cross validation mean accuracy on test set : {}\".format(grid_search.cv_results_['mean_test_score'].mean()*100))\n",
        "print(\"Accuracy score for test set :\", accuracy_score(y_test, pred_y))"
      ]
    }
  ],
  "metadata": {
    "colab": {
      "provenance": [],
      "toc_visible": true
    },
    "kernelspec": {
      "display_name": "Python 3",
      "name": "python3"
    },
    "language_info": {
      "codemirror_mode": {
        "name": "ipython",
        "version": 3
      },
      "file_extension": ".py",
      "mimetype": "text/x-python",
      "name": "python",
      "nbconvert_exporter": "python",
      "pygments_lexer": "ipython3",
      "version": "3.11.5"
    }
  },
  "nbformat": 4,
  "nbformat_minor": 0
}
